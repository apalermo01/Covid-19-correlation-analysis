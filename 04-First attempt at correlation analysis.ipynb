{
 "cells": [
  {
   "cell_type": "markdown",
   "metadata": {},
   "source": [
    "# Correlation analysis"
   ]
  },
  {
   "cell_type": "markdown",
   "metadata": {},
   "source": [
    "Investigate the average / std increase / decrease cases / deaths n days after a policy implementation"
   ]
  },
  {
   "cell_type": "markdown",
   "metadata": {},
   "source": [
    "# 0. Imports"
   ]
  },
  {
   "cell_type": "code",
   "execution_count": 1,
   "metadata": {},
   "outputs": [],
   "source": [
    "import pandas as pd\n",
    "from datetime import datetime as dt\n",
    "from datetime import timedelta\n",
    "import numpy as np\n",
    "from covid_project.data_utils import (clean_covid_data, clean_policy_data,\n",
    "                                      calculate_deltas, generate_state_case_dict,\n",
    "                                      calc_delta_stats)\n",
    "from covid_project.plotting_funcs import plot_delta_stats\n",
    "from tqdm.notebook import tqdm"
   ]
  },
  {
   "cell_type": "code",
   "execution_count": 2,
   "metadata": {},
   "outputs": [],
   "source": [
    "case_data = clean_covid_data()\n",
    "policy_data = clean_policy_data()"
   ]
  },
  {
   "cell_type": "markdown",
   "metadata": {},
   "source": [
    "# 1. Investigate correlations after 14 days"
   ]
  },
  {
   "cell_type": "code",
   "execution_count": 3,
   "metadata": {},
   "outputs": [
    {
     "data": {
      "application/vnd.jupyter.widget-view+json": {
       "model_id": "b96f13d95e624c4b91fbabdd9e875601",
       "version_major": 2,
       "version_minor": 0
      },
      "text/plain": [
       "  0%|          | 0/50 [00:00<?, ?it/s]"
      ]
     },
     "metadata": {},
     "output_type": "display_data"
    },
    {
     "data": {
      "application/vnd.jupyter.widget-view+json": {
       "model_id": "f78ea65748b94baebdd2f825eb30f60b",
       "version_major": 2,
       "version_minor": 0
      },
      "text/plain": [
       "0it [00:00, ?it/s]"
      ]
     },
     "metadata": {},
     "output_type": "display_data"
    }
   ],
   "source": [
    "correlated_df, state_cases_dict = calculate_deltas(\n",
    "    case_df = case_data,\n",
    "    policy_df = policy_data,\n",
    "    measure_period = 14,\n",
    ")"
   ]
  },
  {
   "cell_type": "code",
   "execution_count": 4,
   "metadata": {},
   "outputs": [
    {
     "name": "stderr",
     "output_type": "stream",
     "text": [
      "/home/alex/Documents/personal-projects/covid-19-data-analysis/covid_project/data_utils.py:685: RuntimeWarning: Mean of empty slice\n",
      "  case_avg.append(np.nanmean(case_data.to_numpy()))\n",
      "/home/alex/Documents/personal-projects/covid-19-data-analysis/covid_project/data_utils.py:686: RuntimeWarning: Mean of empty slice\n",
      "  death_avg.append(np.nanmean(death_data.to_numpy()))\n",
      "/home/alex/anaconda3/envs/covid_project/lib/python3.9/site-packages/numpy/lib/nanfunctions.py:1879: RuntimeWarning: Degrees of freedom <= 0 for slice.\n",
      "  var = nanvar(a, axis=axis, dtype=dtype, out=out, ddof=ddof,\n",
      "/home/alex/Documents/personal-projects/covid-19-data-analysis/covid_project/data_utils.py:691: RuntimeWarning: Mean of empty slice\n",
      "  case_accel_avg.append(np.nanmean(case_accel_data.to_numpy()))\n",
      "/home/alex/Documents/personal-projects/covid-19-data-analysis/covid_project/data_utils.py:692: RuntimeWarning: Mean of empty slice\n",
      "  death_accel_avg.append(np.nanmean(death_accel_data.to_numpy()))\n"
     ]
    }
   ],
   "source": [
    "delta_stats = calc_delta_stats(correlated_df, measure_period=14)"
   ]
  },
  {
   "cell_type": "code",
   "execution_count": 5,
   "metadata": {},
   "outputs": [
    {
     "data": {
      "text/html": [
       "<div>\n",
       "<style scoped>\n",
       "    .dataframe tbody tr th:only-of-type {\n",
       "        vertical-align: middle;\n",
       "    }\n",
       "\n",
       "    .dataframe tbody tr th {\n",
       "        vertical-align: top;\n",
       "    }\n",
       "\n",
       "    .dataframe thead th {\n",
       "        text-align: right;\n",
       "    }\n",
       "</style>\n",
       "<table border=\"1\" class=\"dataframe\">\n",
       "  <thead>\n",
       "    <tr style=\"text-align: right;\">\n",
       "      <th></th>\n",
       "      <th>case_avg</th>\n",
       "      <th>case_accel_avg</th>\n",
       "      <th>death_avg</th>\n",
       "      <th>death_accel_avg</th>\n",
       "      <th>case_std</th>\n",
       "      <th>case_accel_std</th>\n",
       "      <th>death_std</th>\n",
       "      <th>death_accel_std</th>\n",
       "      <th>num_samples</th>\n",
       "    </tr>\n",
       "  </thead>\n",
       "  <tbody>\n",
       "    <tr>\n",
       "      <th>outdoor and recreation - start</th>\n",
       "      <td>0.083749</td>\n",
       "      <td>-0.084870</td>\n",
       "      <td>-0.052027</td>\n",
       "      <td>-0.000612</td>\n",
       "      <td>25.788453</td>\n",
       "      <td>0.652765</td>\n",
       "      <td>0.717742</td>\n",
       "      <td>0.024529</td>\n",
       "      <td>242.0</td>\n",
       "    </tr>\n",
       "    <tr>\n",
       "      <th>non-essential businesses - start</th>\n",
       "      <td>-0.690249</td>\n",
       "      <td>-0.101873</td>\n",
       "      <td>-0.080392</td>\n",
       "      <td>-0.000334</td>\n",
       "      <td>26.229377</td>\n",
       "      <td>0.669155</td>\n",
       "      <td>0.741005</td>\n",
       "      <td>0.025027</td>\n",
       "      <td>224.0</td>\n",
       "    </tr>\n",
       "    <tr>\n",
       "      <th>childcare (k-12) - start</th>\n",
       "      <td>-2.396181</td>\n",
       "      <td>-0.137638</td>\n",
       "      <td>-0.005815</td>\n",
       "      <td>-0.001858</td>\n",
       "      <td>30.094793</td>\n",
       "      <td>0.794989</td>\n",
       "      <td>0.935630</td>\n",
       "      <td>0.030833</td>\n",
       "      <td>190.0</td>\n",
       "    </tr>\n",
       "    <tr>\n",
       "      <th>entertainment - start</th>\n",
       "      <td>-4.400087</td>\n",
       "      <td>-0.109751</td>\n",
       "      <td>-0.063835</td>\n",
       "      <td>-0.001431</td>\n",
       "      <td>24.487339</td>\n",
       "      <td>0.653278</td>\n",
       "      <td>0.781865</td>\n",
       "      <td>0.026471</td>\n",
       "      <td>196.0</td>\n",
       "    </tr>\n",
       "    <tr>\n",
       "      <th>gyms - start</th>\n",
       "      <td>2.474464</td>\n",
       "      <td>0.025350</td>\n",
       "      <td>0.066675</td>\n",
       "      <td>0.000561</td>\n",
       "      <td>3.471278</td>\n",
       "      <td>0.064023</td>\n",
       "      <td>0.237686</td>\n",
       "      <td>0.002697</td>\n",
       "      <td>49.0</td>\n",
       "    </tr>\n",
       "    <tr>\n",
       "      <th>mask requirement - start</th>\n",
       "      <td>1.859162</td>\n",
       "      <td>0.024191</td>\n",
       "      <td>0.089431</td>\n",
       "      <td>-0.003418</td>\n",
       "      <td>22.609965</td>\n",
       "      <td>0.632473</td>\n",
       "      <td>1.102085</td>\n",
       "      <td>0.031369</td>\n",
       "      <td>245.0</td>\n",
       "    </tr>\n",
       "    <tr>\n",
       "      <th>personal care - start</th>\n",
       "      <td>-0.609563</td>\n",
       "      <td>0.011759</td>\n",
       "      <td>-0.026595</td>\n",
       "      <td>-0.000914</td>\n",
       "      <td>7.856442</td>\n",
       "      <td>0.193903</td>\n",
       "      <td>0.205359</td>\n",
       "      <td>0.003366</td>\n",
       "      <td>43.0</td>\n",
       "    </tr>\n",
       "    <tr>\n",
       "      <th>shelter in place - start</th>\n",
       "      <td>2.966942</td>\n",
       "      <td>0.024434</td>\n",
       "      <td>0.070543</td>\n",
       "      <td>0.001311</td>\n",
       "      <td>8.866756</td>\n",
       "      <td>0.187884</td>\n",
       "      <td>0.466176</td>\n",
       "      <td>0.007125</td>\n",
       "      <td>456.0</td>\n",
       "    </tr>\n",
       "    <tr>\n",
       "      <th>houses of worship - start</th>\n",
       "      <td>-8.049913</td>\n",
       "      <td>-0.190068</td>\n",
       "      <td>-0.097821</td>\n",
       "      <td>-0.001930</td>\n",
       "      <td>30.703767</td>\n",
       "      <td>0.832435</td>\n",
       "      <td>0.989128</td>\n",
       "      <td>0.036282</td>\n",
       "      <td>121.0</td>\n",
       "    </tr>\n",
       "    <tr>\n",
       "      <th>day care - start</th>\n",
       "      <td>-10.028113</td>\n",
       "      <td>-0.219763</td>\n",
       "      <td>-0.095487</td>\n",
       "      <td>-0.001991</td>\n",
       "      <td>33.379376</td>\n",
       "      <td>0.929491</td>\n",
       "      <td>1.142155</td>\n",
       "      <td>0.039120</td>\n",
       "      <td>87.0</td>\n",
       "    </tr>\n",
       "    <tr>\n",
       "      <th>food and drink - start</th>\n",
       "      <td>-0.872804</td>\n",
       "      <td>-0.068714</td>\n",
       "      <td>-0.008544</td>\n",
       "      <td>-0.000723</td>\n",
       "      <td>29.681450</td>\n",
       "      <td>0.701131</td>\n",
       "      <td>0.845715</td>\n",
       "      <td>0.026765</td>\n",
       "      <td>262.0</td>\n",
       "    </tr>\n",
       "    <tr>\n",
       "      <th>manufacturing - start</th>\n",
       "      <td>-9.097878</td>\n",
       "      <td>-0.205021</td>\n",
       "      <td>-0.096578</td>\n",
       "      <td>-0.003907</td>\n",
       "      <td>34.021449</td>\n",
       "      <td>0.927355</td>\n",
       "      <td>1.136635</td>\n",
       "      <td>0.039839</td>\n",
       "      <td>90.0</td>\n",
       "    </tr>\n",
       "    <tr>\n",
       "      <th>public health advisory system - start</th>\n",
       "      <td>-2.752601</td>\n",
       "      <td>-0.040624</td>\n",
       "      <td>-0.036046</td>\n",
       "      <td>0.001655</td>\n",
       "      <td>4.418201</td>\n",
       "      <td>0.111552</td>\n",
       "      <td>0.174205</td>\n",
       "      <td>0.004504</td>\n",
       "      <td>27.0</td>\n",
       "    </tr>\n",
       "    <tr>\n",
       "      <th>stop enforcement of evictions - start</th>\n",
       "      <td>-0.782149</td>\n",
       "      <td>-0.003012</td>\n",
       "      <td>-0.050747</td>\n",
       "      <td>-0.000893</td>\n",
       "      <td>5.046357</td>\n",
       "      <td>0.156800</td>\n",
       "      <td>0.228601</td>\n",
       "      <td>0.005663</td>\n",
       "      <td>40.0</td>\n",
       "    </tr>\n",
       "    <tr>\n",
       "      <th>allow audio only telehealth - start</th>\n",
       "      <td>3.254684</td>\n",
       "      <td>0.023009</td>\n",
       "      <td>0.148394</td>\n",
       "      <td>0.001157</td>\n",
       "      <td>5.308870</td>\n",
       "      <td>0.045516</td>\n",
       "      <td>0.260367</td>\n",
       "      <td>0.003335</td>\n",
       "      <td>45.0</td>\n",
       "    </tr>\n",
       "    <tr>\n",
       "      <th>state of emergency - start</th>\n",
       "      <td>1.356492</td>\n",
       "      <td>0.019087</td>\n",
       "      <td>0.022577</td>\n",
       "      <td>0.000191</td>\n",
       "      <td>1.588419</td>\n",
       "      <td>0.034902</td>\n",
       "      <td>0.051393</td>\n",
       "      <td>0.000803</td>\n",
       "      <td>50.0</td>\n",
       "    </tr>\n",
       "    <tr>\n",
       "      <th>suspend elective dental procedures - start</th>\n",
       "      <td>3.571938</td>\n",
       "      <td>0.028005</td>\n",
       "      <td>0.089674</td>\n",
       "      <td>0.001399</td>\n",
       "      <td>3.189433</td>\n",
       "      <td>0.054844</td>\n",
       "      <td>0.151228</td>\n",
       "      <td>0.004296</td>\n",
       "      <td>32.0</td>\n",
       "    </tr>\n",
       "    <tr>\n",
       "      <th>modify medicaid requirements - start</th>\n",
       "      <td>3.437217</td>\n",
       "      <td>0.020230</td>\n",
       "      <td>0.133843</td>\n",
       "      <td>0.001372</td>\n",
       "      <td>4.696869</td>\n",
       "      <td>0.049481</td>\n",
       "      <td>0.257408</td>\n",
       "      <td>0.003321</td>\n",
       "      <td>50.0</td>\n",
       "    </tr>\n",
       "    <tr>\n",
       "      <th>mandate face masks in businesses - start</th>\n",
       "      <td>-5.174992</td>\n",
       "      <td>-0.013143</td>\n",
       "      <td>0.012919</td>\n",
       "      <td>-0.001055</td>\n",
       "      <td>27.516405</td>\n",
       "      <td>0.138168</td>\n",
       "      <td>0.275864</td>\n",
       "      <td>0.006553</td>\n",
       "      <td>45.0</td>\n",
       "    </tr>\n",
       "    <tr>\n",
       "      <th>stop initiation of evictions - start</th>\n",
       "      <td>2.340496</td>\n",
       "      <td>0.025450</td>\n",
       "      <td>0.038000</td>\n",
       "      <td>0.001089</td>\n",
       "      <td>2.538185</td>\n",
       "      <td>0.057060</td>\n",
       "      <td>0.195247</td>\n",
       "      <td>0.001980</td>\n",
       "      <td>43.0</td>\n",
       "    </tr>\n",
       "    <tr>\n",
       "      <th>resumed elective medical procedures - start</th>\n",
       "      <td>-1.865929</td>\n",
       "      <td>-0.013693</td>\n",
       "      <td>0.002955</td>\n",
       "      <td>-0.000180</td>\n",
       "      <td>7.549392</td>\n",
       "      <td>0.059432</td>\n",
       "      <td>0.325592</td>\n",
       "      <td>0.005494</td>\n",
       "      <td>32.0</td>\n",
       "    </tr>\n",
       "    <tr>\n",
       "      <th>expand medicaid telehealth coverage - start</th>\n",
       "      <td>2.589806</td>\n",
       "      <td>0.020535</td>\n",
       "      <td>0.106102</td>\n",
       "      <td>0.001118</td>\n",
       "      <td>2.798332</td>\n",
       "      <td>0.044596</td>\n",
       "      <td>0.216211</td>\n",
       "      <td>0.003972</td>\n",
       "      <td>49.0</td>\n",
       "    </tr>\n",
       "    <tr>\n",
       "      <th>nursing homes - start</th>\n",
       "      <td>2.034726</td>\n",
       "      <td>0.014355</td>\n",
       "      <td>0.079974</td>\n",
       "      <td>0.003009</td>\n",
       "      <td>3.245875</td>\n",
       "      <td>0.029025</td>\n",
       "      <td>0.174944</td>\n",
       "      <td>0.011686</td>\n",
       "      <td>31.0</td>\n",
       "    </tr>\n",
       "    <tr>\n",
       "      <th>mandate face masks in public spaces - start</th>\n",
       "      <td>-15.212131</td>\n",
       "      <td>-0.013031</td>\n",
       "      <td>0.146125</td>\n",
       "      <td>-0.004423</td>\n",
       "      <td>65.412925</td>\n",
       "      <td>0.180840</td>\n",
       "      <td>0.654738</td>\n",
       "      <td>0.015888</td>\n",
       "      <td>37.0</td>\n",
       "    </tr>\n",
       "    <tr>\n",
       "      <th>aca special enrollment period - start</th>\n",
       "      <td>2.183932</td>\n",
       "      <td>0.027658</td>\n",
       "      <td>0.051303</td>\n",
       "      <td>0.000202</td>\n",
       "      <td>2.038574</td>\n",
       "      <td>0.036070</td>\n",
       "      <td>0.070722</td>\n",
       "      <td>0.000578</td>\n",
       "      <td>11.0</td>\n",
       "    </tr>\n",
       "    <tr>\n",
       "      <th>outdoor and recreation - stop</th>\n",
       "      <td>-2.353400</td>\n",
       "      <td>0.078237</td>\n",
       "      <td>0.020834</td>\n",
       "      <td>-0.006344</td>\n",
       "      <td>29.027470</td>\n",
       "      <td>0.353960</td>\n",
       "      <td>1.108336</td>\n",
       "      <td>0.055640</td>\n",
       "      <td>55.0</td>\n",
       "    </tr>\n",
       "    <tr>\n",
       "      <th>non-essential businesses - stop</th>\n",
       "      <td>0.069365</td>\n",
       "      <td>0.074853</td>\n",
       "      <td>0.086874</td>\n",
       "      <td>-0.003000</td>\n",
       "      <td>11.578940</td>\n",
       "      <td>0.288222</td>\n",
       "      <td>0.665672</td>\n",
       "      <td>0.027872</td>\n",
       "      <td>77.0</td>\n",
       "    </tr>\n",
       "    <tr>\n",
       "      <th>childcare (k-12) - stop</th>\n",
       "      <td>-0.421618</td>\n",
       "      <td>0.098687</td>\n",
       "      <td>0.217202</td>\n",
       "      <td>0.006391</td>\n",
       "      <td>14.380577</td>\n",
       "      <td>0.261088</td>\n",
       "      <td>0.905745</td>\n",
       "      <td>0.057434</td>\n",
       "      <td>43.0</td>\n",
       "    </tr>\n",
       "    <tr>\n",
       "      <th>entertainment - stop</th>\n",
       "      <td>0.657440</td>\n",
       "      <td>0.124090</td>\n",
       "      <td>0.160579</td>\n",
       "      <td>-0.003096</td>\n",
       "      <td>14.300897</td>\n",
       "      <td>0.302916</td>\n",
       "      <td>0.777469</td>\n",
       "      <td>0.033335</td>\n",
       "      <td>51.0</td>\n",
       "    </tr>\n",
       "    <tr>\n",
       "      <th>gyms - stop</th>\n",
       "      <td>-0.365443</td>\n",
       "      <td>0.012987</td>\n",
       "      <td>-0.069599</td>\n",
       "      <td>-0.000714</td>\n",
       "      <td>3.281895</td>\n",
       "      <td>0.087525</td>\n",
       "      <td>0.191996</td>\n",
       "      <td>0.007477</td>\n",
       "      <td>46.0</td>\n",
       "    </tr>\n",
       "    <tr>\n",
       "      <th>mask requirement - stop</th>\n",
       "      <td>-2.985562</td>\n",
       "      <td>0.008534</td>\n",
       "      <td>-0.060313</td>\n",
       "      <td>0.003608</td>\n",
       "      <td>15.014805</td>\n",
       "      <td>0.210792</td>\n",
       "      <td>0.970942</td>\n",
       "      <td>0.062676</td>\n",
       "      <td>29.0</td>\n",
       "    </tr>\n",
       "    <tr>\n",
       "      <th>personal care - stop</th>\n",
       "      <td>5.515186</td>\n",
       "      <td>0.094897</td>\n",
       "      <td>0.009235</td>\n",
       "      <td>0.001383</td>\n",
       "      <td>9.178172</td>\n",
       "      <td>0.108742</td>\n",
       "      <td>0.284479</td>\n",
       "      <td>0.002126</td>\n",
       "      <td>17.0</td>\n",
       "    </tr>\n",
       "    <tr>\n",
       "      <th>shelter in place - stop</th>\n",
       "      <td>-2.632361</td>\n",
       "      <td>0.019879</td>\n",
       "      <td>0.036778</td>\n",
       "      <td>-0.001145</td>\n",
       "      <td>22.766439</td>\n",
       "      <td>0.381648</td>\n",
       "      <td>0.606946</td>\n",
       "      <td>0.032051</td>\n",
       "      <td>392.0</td>\n",
       "    </tr>\n",
       "    <tr>\n",
       "      <th>houses of worship - stop</th>\n",
       "      <td>1.411893</td>\n",
       "      <td>0.159105</td>\n",
       "      <td>0.277878</td>\n",
       "      <td>0.007398</td>\n",
       "      <td>15.881350</td>\n",
       "      <td>0.287892</td>\n",
       "      <td>0.912592</td>\n",
       "      <td>0.059354</td>\n",
       "      <td>40.0</td>\n",
       "    </tr>\n",
       "    <tr>\n",
       "      <th>day care - stop</th>\n",
       "      <td>-1.238661</td>\n",
       "      <td>0.129752</td>\n",
       "      <td>0.270868</td>\n",
       "      <td>-0.004497</td>\n",
       "      <td>17.431083</td>\n",
       "      <td>0.331132</td>\n",
       "      <td>1.028081</td>\n",
       "      <td>0.045508</td>\n",
       "      <td>27.0</td>\n",
       "    </tr>\n",
       "    <tr>\n",
       "      <th>food and drink - stop</th>\n",
       "      <td>0.388899</td>\n",
       "      <td>0.108103</td>\n",
       "      <td>0.167817</td>\n",
       "      <td>0.002713</td>\n",
       "      <td>12.201614</td>\n",
       "      <td>0.247604</td>\n",
       "      <td>0.661000</td>\n",
       "      <td>0.042224</td>\n",
       "      <td>83.0</td>\n",
       "    </tr>\n",
       "    <tr>\n",
       "      <th>manufacturing - stop</th>\n",
       "      <td>-6.267724</td>\n",
       "      <td>0.121082</td>\n",
       "      <td>0.099744</td>\n",
       "      <td>-0.009602</td>\n",
       "      <td>29.041486</td>\n",
       "      <td>0.368377</td>\n",
       "      <td>1.247191</td>\n",
       "      <td>0.054687</td>\n",
       "      <td>30.0</td>\n",
       "    </tr>\n",
       "  </tbody>\n",
       "</table>\n",
       "</div>"
      ],
      "text/plain": [
       "                                              case_avg  case_accel_avg  \\\n",
       "outdoor and recreation - start                0.083749       -0.084870   \n",
       "non-essential businesses - start             -0.690249       -0.101873   \n",
       "childcare (k-12) - start                     -2.396181       -0.137638   \n",
       "entertainment - start                        -4.400087       -0.109751   \n",
       "gyms - start                                  2.474464        0.025350   \n",
       "mask requirement - start                      1.859162        0.024191   \n",
       "personal care - start                        -0.609563        0.011759   \n",
       "shelter in place - start                      2.966942        0.024434   \n",
       "houses of worship - start                    -8.049913       -0.190068   \n",
       "day care - start                            -10.028113       -0.219763   \n",
       "food and drink - start                       -0.872804       -0.068714   \n",
       "manufacturing - start                        -9.097878       -0.205021   \n",
       "public health advisory system - start        -2.752601       -0.040624   \n",
       "stop enforcement of evictions - start        -0.782149       -0.003012   \n",
       "allow audio only telehealth - start           3.254684        0.023009   \n",
       "state of emergency - start                    1.356492        0.019087   \n",
       "suspend elective dental procedures - start    3.571938        0.028005   \n",
       "modify medicaid requirements - start          3.437217        0.020230   \n",
       "mandate face masks in businesses - start     -5.174992       -0.013143   \n",
       "stop initiation of evictions - start          2.340496        0.025450   \n",
       "resumed elective medical procedures - start  -1.865929       -0.013693   \n",
       "expand medicaid telehealth coverage - start   2.589806        0.020535   \n",
       "nursing homes - start                         2.034726        0.014355   \n",
       "mandate face masks in public spaces - start -15.212131       -0.013031   \n",
       "aca special enrollment period - start         2.183932        0.027658   \n",
       "outdoor and recreation - stop                -2.353400        0.078237   \n",
       "non-essential businesses - stop               0.069365        0.074853   \n",
       "childcare (k-12) - stop                      -0.421618        0.098687   \n",
       "entertainment - stop                          0.657440        0.124090   \n",
       "gyms - stop                                  -0.365443        0.012987   \n",
       "mask requirement - stop                      -2.985562        0.008534   \n",
       "personal care - stop                          5.515186        0.094897   \n",
       "shelter in place - stop                      -2.632361        0.019879   \n",
       "houses of worship - stop                      1.411893        0.159105   \n",
       "day care - stop                              -1.238661        0.129752   \n",
       "food and drink - stop                         0.388899        0.108103   \n",
       "manufacturing - stop                         -6.267724        0.121082   \n",
       "\n",
       "                                             death_avg  death_accel_avg  \\\n",
       "outdoor and recreation - start               -0.052027        -0.000612   \n",
       "non-essential businesses - start             -0.080392        -0.000334   \n",
       "childcare (k-12) - start                     -0.005815        -0.001858   \n",
       "entertainment - start                        -0.063835        -0.001431   \n",
       "gyms - start                                  0.066675         0.000561   \n",
       "mask requirement - start                      0.089431        -0.003418   \n",
       "personal care - start                        -0.026595        -0.000914   \n",
       "shelter in place - start                      0.070543         0.001311   \n",
       "houses of worship - start                    -0.097821        -0.001930   \n",
       "day care - start                             -0.095487        -0.001991   \n",
       "food and drink - start                       -0.008544        -0.000723   \n",
       "manufacturing - start                        -0.096578        -0.003907   \n",
       "public health advisory system - start        -0.036046         0.001655   \n",
       "stop enforcement of evictions - start        -0.050747        -0.000893   \n",
       "allow audio only telehealth - start           0.148394         0.001157   \n",
       "state of emergency - start                    0.022577         0.000191   \n",
       "suspend elective dental procedures - start    0.089674         0.001399   \n",
       "modify medicaid requirements - start          0.133843         0.001372   \n",
       "mandate face masks in businesses - start      0.012919        -0.001055   \n",
       "stop initiation of evictions - start          0.038000         0.001089   \n",
       "resumed elective medical procedures - start   0.002955        -0.000180   \n",
       "expand medicaid telehealth coverage - start   0.106102         0.001118   \n",
       "nursing homes - start                         0.079974         0.003009   \n",
       "mandate face masks in public spaces - start   0.146125        -0.004423   \n",
       "aca special enrollment period - start         0.051303         0.000202   \n",
       "outdoor and recreation - stop                 0.020834        -0.006344   \n",
       "non-essential businesses - stop               0.086874        -0.003000   \n",
       "childcare (k-12) - stop                       0.217202         0.006391   \n",
       "entertainment - stop                          0.160579        -0.003096   \n",
       "gyms - stop                                  -0.069599        -0.000714   \n",
       "mask requirement - stop                      -0.060313         0.003608   \n",
       "personal care - stop                          0.009235         0.001383   \n",
       "shelter in place - stop                       0.036778        -0.001145   \n",
       "houses of worship - stop                      0.277878         0.007398   \n",
       "day care - stop                               0.270868        -0.004497   \n",
       "food and drink - stop                         0.167817         0.002713   \n",
       "manufacturing - stop                          0.099744        -0.009602   \n",
       "\n",
       "                                              case_std  case_accel_std  \\\n",
       "outdoor and recreation - start               25.788453        0.652765   \n",
       "non-essential businesses - start             26.229377        0.669155   \n",
       "childcare (k-12) - start                     30.094793        0.794989   \n",
       "entertainment - start                        24.487339        0.653278   \n",
       "gyms - start                                  3.471278        0.064023   \n",
       "mask requirement - start                     22.609965        0.632473   \n",
       "personal care - start                         7.856442        0.193903   \n",
       "shelter in place - start                      8.866756        0.187884   \n",
       "houses of worship - start                    30.703767        0.832435   \n",
       "day care - start                             33.379376        0.929491   \n",
       "food and drink - start                       29.681450        0.701131   \n",
       "manufacturing - start                        34.021449        0.927355   \n",
       "public health advisory system - start         4.418201        0.111552   \n",
       "stop enforcement of evictions - start         5.046357        0.156800   \n",
       "allow audio only telehealth - start           5.308870        0.045516   \n",
       "state of emergency - start                    1.588419        0.034902   \n",
       "suspend elective dental procedures - start    3.189433        0.054844   \n",
       "modify medicaid requirements - start          4.696869        0.049481   \n",
       "mandate face masks in businesses - start     27.516405        0.138168   \n",
       "stop initiation of evictions - start          2.538185        0.057060   \n",
       "resumed elective medical procedures - start   7.549392        0.059432   \n",
       "expand medicaid telehealth coverage - start   2.798332        0.044596   \n",
       "nursing homes - start                         3.245875        0.029025   \n",
       "mandate face masks in public spaces - start  65.412925        0.180840   \n",
       "aca special enrollment period - start         2.038574        0.036070   \n",
       "outdoor and recreation - stop                29.027470        0.353960   \n",
       "non-essential businesses - stop              11.578940        0.288222   \n",
       "childcare (k-12) - stop                      14.380577        0.261088   \n",
       "entertainment - stop                         14.300897        0.302916   \n",
       "gyms - stop                                   3.281895        0.087525   \n",
       "mask requirement - stop                      15.014805        0.210792   \n",
       "personal care - stop                          9.178172        0.108742   \n",
       "shelter in place - stop                      22.766439        0.381648   \n",
       "houses of worship - stop                     15.881350        0.287892   \n",
       "day care - stop                              17.431083        0.331132   \n",
       "food and drink - stop                        12.201614        0.247604   \n",
       "manufacturing - stop                         29.041486        0.368377   \n",
       "\n",
       "                                             death_std  death_accel_std  \\\n",
       "outdoor and recreation - start                0.717742         0.024529   \n",
       "non-essential businesses - start              0.741005         0.025027   \n",
       "childcare (k-12) - start                      0.935630         0.030833   \n",
       "entertainment - start                         0.781865         0.026471   \n",
       "gyms - start                                  0.237686         0.002697   \n",
       "mask requirement - start                      1.102085         0.031369   \n",
       "personal care - start                         0.205359         0.003366   \n",
       "shelter in place - start                      0.466176         0.007125   \n",
       "houses of worship - start                     0.989128         0.036282   \n",
       "day care - start                              1.142155         0.039120   \n",
       "food and drink - start                        0.845715         0.026765   \n",
       "manufacturing - start                         1.136635         0.039839   \n",
       "public health advisory system - start         0.174205         0.004504   \n",
       "stop enforcement of evictions - start         0.228601         0.005663   \n",
       "allow audio only telehealth - start           0.260367         0.003335   \n",
       "state of emergency - start                    0.051393         0.000803   \n",
       "suspend elective dental procedures - start    0.151228         0.004296   \n",
       "modify medicaid requirements - start          0.257408         0.003321   \n",
       "mandate face masks in businesses - start      0.275864         0.006553   \n",
       "stop initiation of evictions - start          0.195247         0.001980   \n",
       "resumed elective medical procedures - start   0.325592         0.005494   \n",
       "expand medicaid telehealth coverage - start   0.216211         0.003972   \n",
       "nursing homes - start                         0.174944         0.011686   \n",
       "mandate face masks in public spaces - start   0.654738         0.015888   \n",
       "aca special enrollment period - start         0.070722         0.000578   \n",
       "outdoor and recreation - stop                 1.108336         0.055640   \n",
       "non-essential businesses - stop               0.665672         0.027872   \n",
       "childcare (k-12) - stop                       0.905745         0.057434   \n",
       "entertainment - stop                          0.777469         0.033335   \n",
       "gyms - stop                                   0.191996         0.007477   \n",
       "mask requirement - stop                       0.970942         0.062676   \n",
       "personal care - stop                          0.284479         0.002126   \n",
       "shelter in place - stop                       0.606946         0.032051   \n",
       "houses of worship - stop                      0.912592         0.059354   \n",
       "day care - stop                               1.028081         0.045508   \n",
       "food and drink - stop                         0.661000         0.042224   \n",
       "manufacturing - stop                          1.247191         0.054687   \n",
       "\n",
       "                                             num_samples  \n",
       "outdoor and recreation - start                     242.0  \n",
       "non-essential businesses - start                   224.0  \n",
       "childcare (k-12) - start                           190.0  \n",
       "entertainment - start                              196.0  \n",
       "gyms - start                                        49.0  \n",
       "mask requirement - start                           245.0  \n",
       "personal care - start                               43.0  \n",
       "shelter in place - start                           456.0  \n",
       "houses of worship - start                          121.0  \n",
       "day care - start                                    87.0  \n",
       "food and drink - start                             262.0  \n",
       "manufacturing - start                               90.0  \n",
       "public health advisory system - start               27.0  \n",
       "stop enforcement of evictions - start               40.0  \n",
       "allow audio only telehealth - start                 45.0  \n",
       "state of emergency - start                          50.0  \n",
       "suspend elective dental procedures - start          32.0  \n",
       "modify medicaid requirements - start                50.0  \n",
       "mandate face masks in businesses - start            45.0  \n",
       "stop initiation of evictions - start                43.0  \n",
       "resumed elective medical procedures - start         32.0  \n",
       "expand medicaid telehealth coverage - start         49.0  \n",
       "nursing homes - start                               31.0  \n",
       "mandate face masks in public spaces - start         37.0  \n",
       "aca special enrollment period - start               11.0  \n",
       "outdoor and recreation - stop                       55.0  \n",
       "non-essential businesses - stop                     77.0  \n",
       "childcare (k-12) - stop                             43.0  \n",
       "entertainment - stop                                51.0  \n",
       "gyms - stop                                         46.0  \n",
       "mask requirement - stop                             29.0  \n",
       "personal care - stop                                17.0  \n",
       "shelter in place - stop                            392.0  \n",
       "houses of worship - stop                            40.0  \n",
       "day care - stop                                     27.0  \n",
       "food and drink - stop                               83.0  \n",
       "manufacturing - stop                                30.0  "
      ]
     },
     "execution_count": 5,
     "metadata": {},
     "output_type": "execute_result"
    }
   ],
   "source": [
    "delta_stats"
   ]
  },
  {
   "cell_type": "code",
   "execution_count": 6,
   "metadata": {
    "scrolled": false
   },
   "outputs": [
    {
     "data": {
      "image/png": "[encoded data removed]",
      "text/plain": [
       "<Figure size 720x1080 with 4 Axes>"
      ]
     },
     "execution_count": 6,
     "metadata": {},
     "output_type": "execute_result"
    },
    {
     "data": {
      "image/png": "[encoded data removed]",
      "text/plain": [
       "<Figure size 720x1080 with 4 Axes>"
      ]
     },
     "metadata": {
      "needs_background": "light"
     },
     "output_type": "display_data"
    }
   ],
   "source": [
    "plot_delta_stats(delta_stats)"
   ]
  },
  {
   "cell_type": "markdown",
   "metadata": {},
   "source": [
    "After 14 days, there seems to be a signficiant change in new cases 14 days after 'aca-special enrollment period-start' and 'suspend elective dental procedues - start' (same with deaths).\n",
    "\n",
    "How do these change when we change the measure period?"
   ]
  },
  {
   "cell_type": "markdown",
   "metadata": {},
   "source": [
    "# 2. Investigate correlations from 1-30 days"
   ]
  },
  {
   "cell_type": "code",
   "execution_count": 7,
   "metadata": {},
   "outputs": [],
   "source": [
    "def check_significance(delta_stats):\n",
    "    cols_of_interest = ['case',  'case_accel', 'death', 'death_accel']\n",
    "    for col in cols_of_interest:\n",
    "        delta_stats[f\"{col}_significant\"] = (np.abs(delta_stats[f\"{col}_avg\"]) -\\\n",
    "                                                np.abs(delta_stats[f\"{col}_std\"])) > 0\n",
    "    return delta_stats\n",
    "delta_stats = check_significance(delta_stats)"
   ]
  },
  {
   "cell_type": "code",
   "execution_count": 8,
   "metadata": {},
   "outputs": [
    {
     "data": {
      "text/plain": [
       "{'case': ['suspend elective dental procedures - start',\n",
       "  'aca special enrollment period - start'],\n",
       " 'case_accel': [],\n",
       " 'death': [],\n",
       " 'death_accel': []}"
      ]
     },
     "execution_count": 8,
     "metadata": {},
     "output_type": "execute_result"
    }
   ],
   "source": [
    "def count_significant(delta_stats):\n",
    "    cols_of_interest = ['case',  'case_accel', 'death', 'death_accel']\n",
    "    res = {col: [] for col in cols_of_interest}\n",
    "    for policy in delta_stats.index:\n",
    "        for col in cols_of_interest:\n",
    "            if delta_stats.loc[policy, f\"{col}_significant\"]:\n",
    "                res[col].append(policy)\n",
    "    return res\n",
    "\n",
    "count_significant(delta_stats)"
   ]
  },
  {
   "cell_type": "code",
   "execution_count": 9,
   "metadata": {},
   "outputs": [
    {
     "data": {
      "application/vnd.jupyter.widget-view+json": {
       "model_id": "19af97d23baa40e99928356df4f7cb7d",
       "version_major": 2,
       "version_minor": 0
      },
      "text/plain": [
       "  0%|          | 0/30 [00:00<?, ?it/s]"
      ]
     },
     "metadata": {},
     "output_type": "display_data"
    },
    {
     "data": {
      "application/vnd.jupyter.widget-view+json": {
       "model_id": "8d881406d2a54fea99342a1fc90b7e14",
       "version_major": 2,
       "version_minor": 0
      },
      "text/plain": [
       "  0%|          | 0/50 [00:00<?, ?it/s]"
      ]
     },
     "metadata": {},
     "output_type": "display_data"
    },
    {
     "data": {
      "application/vnd.jupyter.widget-view+json": {
       "model_id": "9987963516c048f599a43ae846400d10",
       "version_major": 2,
       "version_minor": 0
      },
      "text/plain": [
       "0it [00:00, ?it/s]"
      ]
     },
     "metadata": {},
     "output_type": "display_data"
    },
    {
     "name": "stderr",
     "output_type": "stream",
     "text": [
      "/home/alex/Documents/personal-projects/covid-19-data-analysis/covid_project/data_utils.py:685: RuntimeWarning: Mean of empty slice\n",
      "  case_avg.append(np.nanmean(case_data.to_numpy()))\n",
      "/home/alex/Documents/personal-projects/covid-19-data-analysis/covid_project/data_utils.py:686: RuntimeWarning: Mean of empty slice\n",
      "  death_avg.append(np.nanmean(death_data.to_numpy()))\n",
      "/home/alex/anaconda3/envs/covid_project/lib/python3.9/site-packages/numpy/lib/nanfunctions.py:1879: RuntimeWarning: Degrees of freedom <= 0 for slice.\n",
      "  var = nanvar(a, axis=axis, dtype=dtype, out=out, ddof=ddof,\n",
      "/home/alex/Documents/personal-projects/covid-19-data-analysis/covid_project/data_utils.py:691: RuntimeWarning: Mean of empty slice\n",
      "  case_accel_avg.append(np.nanmean(case_accel_data.to_numpy()))\n",
      "/home/alex/Documents/personal-projects/covid-19-data-analysis/covid_project/data_utils.py:692: RuntimeWarning: Mean of empty slice\n",
      "  death_accel_avg.append(np.nanmean(death_accel_data.to_numpy()))\n"
     ]
    },
    {
     "data": {
      "application/vnd.jupyter.widget-view+json": {
       "model_id": "c2cd4d4bf6b049fba877a86478d8ab0d",
       "version_major": 2,
       "version_minor": 0
      },
      "text/plain": [
       "  0%|          | 0/50 [00:00<?, ?it/s]"
      ]
     },
     "metadata": {},
     "output_type": "display_data"
    },
    {
     "data": {
      "application/vnd.jupyter.widget-view+json": {
       "model_id": "cca0652489714c418d226e38f4553a74",
       "version_major": 2,
       "version_minor": 0
      },
      "text/plain": [
       "0it [00:00, ?it/s]"
      ]
     },
     "metadata": {},
     "output_type": "display_data"
    },
    {
     "name": "stderr",
     "output_type": "stream",
     "text": [
      "/home/alex/Documents/personal-projects/covid-19-data-analysis/covid_project/data_utils.py:685: RuntimeWarning: Mean of empty slice\n",
      "  case_avg.append(np.nanmean(case_data.to_numpy()))\n",
      "/home/alex/Documents/personal-projects/covid-19-data-analysis/covid_project/data_utils.py:686: RuntimeWarning: Mean of empty slice\n",
      "  death_avg.append(np.nanmean(death_data.to_numpy()))\n",
      "/home/alex/anaconda3/envs/covid_project/lib/python3.9/site-packages/numpy/lib/nanfunctions.py:1879: RuntimeWarning: Degrees of freedom <= 0 for slice.\n",
      "  var = nanvar(a, axis=axis, dtype=dtype, out=out, ddof=ddof,\n",
      "/home/alex/Documents/personal-projects/covid-19-data-analysis/covid_project/data_utils.py:691: RuntimeWarning: Mean of empty slice\n",
      "  case_accel_avg.append(np.nanmean(case_accel_data.to_numpy()))\n",
      "/home/alex/Documents/personal-projects/covid-19-data-analysis/covid_project/data_utils.py:692: RuntimeWarning: Mean of empty slice\n",
      "  death_accel_avg.append(np.nanmean(death_accel_data.to_numpy()))\n"
     ]
    },
    {
     "data": {
      "application/vnd.jupyter.widget-view+json": {
       "model_id": "a4a46f8a35134e2e94830b1cc0c2f3d6",
       "version_major": 2,
       "version_minor": 0
      },
      "text/plain": [
       "  0%|          | 0/50 [00:00<?, ?it/s]"
      ]
     },
     "metadata": {},
     "output_type": "display_data"
    },
    {
     "data": {
      "application/vnd.jupyter.widget-view+json": {
       "model_id": "2c82eab75182441b9ad4a83e1827a21e",
       "version_major": 2,
       "version_minor": 0
      },
      "text/plain": [
       "0it [00:00, ?it/s]"
      ]
     },
     "metadata": {},
     "output_type": "display_data"
    },
    {
     "name": "stderr",
     "output_type": "stream",
     "text": [
      "/home/alex/Documents/personal-projects/covid-19-data-analysis/covid_project/data_utils.py:685: RuntimeWarning: Mean of empty slice\n",
      "  case_avg.append(np.nanmean(case_data.to_numpy()))\n",
      "/home/alex/Documents/personal-projects/covid-19-data-analysis/covid_project/data_utils.py:686: RuntimeWarning: Mean of empty slice\n",
      "  death_avg.append(np.nanmean(death_data.to_numpy()))\n",
      "/home/alex/anaconda3/envs/covid_project/lib/python3.9/site-packages/numpy/lib/nanfunctions.py:1879: RuntimeWarning: Degrees of freedom <= 0 for slice.\n",
      "  var = nanvar(a, axis=axis, dtype=dtype, out=out, ddof=ddof,\n",
      "/home/alex/Documents/personal-projects/covid-19-data-analysis/covid_project/data_utils.py:691: RuntimeWarning: Mean of empty slice\n",
      "  case_accel_avg.append(np.nanmean(case_accel_data.to_numpy()))\n",
      "/home/alex/Documents/personal-projects/covid-19-data-analysis/covid_project/data_utils.py:692: RuntimeWarning: Mean of empty slice\n",
      "  death_accel_avg.append(np.nanmean(death_accel_data.to_numpy()))\n"
     ]
    },
    {
     "data": {
      "application/vnd.jupyter.widget-view+json": {
       "model_id": "ee5d2542041449d288338c30ff28affa",
       "version_major": 2,
       "version_minor": 0
      },
      "text/plain": [
       "  0%|          | 0/50 [00:00<?, ?it/s]"
      ]
     },
     "metadata": {},
     "output_type": "display_data"
    },
    {
     "data": {
      "application/vnd.jupyter.widget-view+json": {
       "model_id": "8c8d5c45447e4abbb68615536726639a",
       "version_major": 2,
       "version_minor": 0
      },
      "text/plain": [
       "0it [00:00, ?it/s]"
      ]
     },
     "metadata": {},
     "output_type": "display_data"
    },
    {
     "name": "stderr",
     "output_type": "stream",
     "text": [
      "/home/alex/Documents/personal-projects/covid-19-data-analysis/covid_project/data_utils.py:685: RuntimeWarning: Mean of empty slice\n",
      "  case_avg.append(np.nanmean(case_data.to_numpy()))\n",
      "/home/alex/Documents/personal-projects/covid-19-data-analysis/covid_project/data_utils.py:686: RuntimeWarning: Mean of empty slice\n",
      "  death_avg.append(np.nanmean(death_data.to_numpy()))\n",
      "/home/alex/anaconda3/envs/covid_project/lib/python3.9/site-packages/numpy/lib/nanfunctions.py:1879: RuntimeWarning: Degrees of freedom <= 0 for slice.\n",
      "  var = nanvar(a, axis=axis, dtype=dtype, out=out, ddof=ddof,\n",
      "/home/alex/Documents/personal-projects/covid-19-data-analysis/covid_project/data_utils.py:691: RuntimeWarning: Mean of empty slice\n",
      "  case_accel_avg.append(np.nanmean(case_accel_data.to_numpy()))\n",
      "/home/alex/Documents/personal-projects/covid-19-data-analysis/covid_project/data_utils.py:692: RuntimeWarning: Mean of empty slice\n",
      "  death_accel_avg.append(np.nanmean(death_accel_data.to_numpy()))\n"
     ]
    },
    {
     "data": {
      "application/vnd.jupyter.widget-view+json": {
       "model_id": "236008226bf9440f9545ffc69b994df4",
       "version_major": 2,
       "version_minor": 0
      },
      "text/plain": [
       "  0%|          | 0/50 [00:00<?, ?it/s]"
      ]
     },
     "metadata": {},
     "output_type": "display_data"
    },
    {
     "data": {
      "application/vnd.jupyter.widget-view+json": {
       "model_id": "9f9aa29133d34e4f8570680ced493a68",
       "version_major": 2,
       "version_minor": 0
      },
      "text/plain": [
       "0it [00:00, ?it/s]"
      ]
     },
     "metadata": {},
     "output_type": "display_data"
    },
    {
     "name": "stderr",
     "output_type": "stream",
     "text": [
      "/home/alex/Documents/personal-projects/covid-19-data-analysis/covid_project/data_utils.py:685: RuntimeWarning: Mean of empty slice\n",
      "  case_avg.append(np.nanmean(case_data.to_numpy()))\n",
      "/home/alex/Documents/personal-projects/covid-19-data-analysis/covid_project/data_utils.py:686: RuntimeWarning: Mean of empty slice\n",
      "  death_avg.append(np.nanmean(death_data.to_numpy()))\n",
      "/home/alex/anaconda3/envs/covid_project/lib/python3.9/site-packages/numpy/lib/nanfunctions.py:1879: RuntimeWarning: Degrees of freedom <= 0 for slice.\n",
      "  var = nanvar(a, axis=axis, dtype=dtype, out=out, ddof=ddof,\n",
      "/home/alex/Documents/personal-projects/covid-19-data-analysis/covid_project/data_utils.py:691: RuntimeWarning: Mean of empty slice\n",
      "  case_accel_avg.append(np.nanmean(case_accel_data.to_numpy()))\n",
      "/home/alex/Documents/personal-projects/covid-19-data-analysis/covid_project/data_utils.py:692: RuntimeWarning: Mean of empty slice\n",
      "  death_accel_avg.append(np.nanmean(death_accel_data.to_numpy()))\n"
     ]
    },
    {
     "data": {
      "application/vnd.jupyter.widget-view+json": {
       "model_id": "64655d660be54ad69f0188882b408925",
       "version_major": 2,
       "version_minor": 0
      },
      "text/plain": [
       "  0%|          | 0/50 [00:00<?, ?it/s]"
      ]
     },
     "metadata": {},
     "output_type": "display_data"
    },
    {
     "data": {
      "application/vnd.jupyter.widget-view+json": {
       "model_id": "8a42432c33044685a11cabc7e4767568",
       "version_major": 2,
       "version_minor": 0
      },
      "text/plain": [
       "0it [00:00, ?it/s]"
      ]
     },
     "metadata": {},
     "output_type": "display_data"
    },
    {
     "name": "stderr",
     "output_type": "stream",
     "text": [
      "/home/alex/Documents/personal-projects/covid-19-data-analysis/covid_project/data_utils.py:685: RuntimeWarning: Mean of empty slice\n",
      "  case_avg.append(np.nanmean(case_data.to_numpy()))\n",
      "/home/alex/Documents/personal-projects/covid-19-data-analysis/covid_project/data_utils.py:686: RuntimeWarning: Mean of empty slice\n",
      "  death_avg.append(np.nanmean(death_data.to_numpy()))\n",
      "/home/alex/anaconda3/envs/covid_project/lib/python3.9/site-packages/numpy/lib/nanfunctions.py:1879: RuntimeWarning: Degrees of freedom <= 0 for slice.\n",
      "  var = nanvar(a, axis=axis, dtype=dtype, out=out, ddof=ddof,\n",
      "/home/alex/Documents/personal-projects/covid-19-data-analysis/covid_project/data_utils.py:691: RuntimeWarning: Mean of empty slice\n",
      "  case_accel_avg.append(np.nanmean(case_accel_data.to_numpy()))\n",
      "/home/alex/Documents/personal-projects/covid-19-data-analysis/covid_project/data_utils.py:692: RuntimeWarning: Mean of empty slice\n",
      "  death_accel_avg.append(np.nanmean(death_accel_data.to_numpy()))\n"
     ]
    },
    {
     "data": {
      "application/vnd.jupyter.widget-view+json": {
       "model_id": "fbc039be1bd44eb8aabee99532c23a51",
       "version_major": 2,
       "version_minor": 0
      },
      "text/plain": [
       "  0%|          | 0/50 [00:00<?, ?it/s]"
      ]
     },
     "metadata": {},
     "output_type": "display_data"
    },
    {
     "data": {
      "application/vnd.jupyter.widget-view+json": {
       "model_id": "199ef04efc834e678276986b1e058869",
       "version_major": 2,
       "version_minor": 0
      },
      "text/plain": [
       "0it [00:00, ?it/s]"
      ]
     },
     "metadata": {},
     "output_type": "display_data"
    },
    {
     "name": "stderr",
     "output_type": "stream",
     "text": [
      "/home/alex/Documents/personal-projects/covid-19-data-analysis/covid_project/data_utils.py:685: RuntimeWarning: Mean of empty slice\n",
      "  case_avg.append(np.nanmean(case_data.to_numpy()))\n",
      "/home/alex/Documents/personal-projects/covid-19-data-analysis/covid_project/data_utils.py:686: RuntimeWarning: Mean of empty slice\n",
      "  death_avg.append(np.nanmean(death_data.to_numpy()))\n",
      "/home/alex/anaconda3/envs/covid_project/lib/python3.9/site-packages/numpy/lib/nanfunctions.py:1879: RuntimeWarning: Degrees of freedom <= 0 for slice.\n",
      "  var = nanvar(a, axis=axis, dtype=dtype, out=out, ddof=ddof,\n",
      "/home/alex/Documents/personal-projects/covid-19-data-analysis/covid_project/data_utils.py:691: RuntimeWarning: Mean of empty slice\n",
      "  case_accel_avg.append(np.nanmean(case_accel_data.to_numpy()))\n",
      "/home/alex/Documents/personal-projects/covid-19-data-analysis/covid_project/data_utils.py:692: RuntimeWarning: Mean of empty slice\n",
      "  death_accel_avg.append(np.nanmean(death_accel_data.to_numpy()))\n"
     ]
    },
    {
     "data": {
      "application/vnd.jupyter.widget-view+json": {
       "model_id": "0b4d9bc267ff4ea1bd45140367e8d1b5",
       "version_major": 2,
       "version_minor": 0
      },
      "text/plain": [
       "  0%|          | 0/50 [00:00<?, ?it/s]"
      ]
     },
     "metadata": {},
     "output_type": "display_data"
    },
    {
     "data": {
      "application/vnd.jupyter.widget-view+json": {
       "model_id": "9d5d3d42627d4632bfeeb1944c7351ec",
       "version_major": 2,
       "version_minor": 0
      },
      "text/plain": [
       "0it [00:00, ?it/s]"
      ]
     },
     "metadata": {},
     "output_type": "display_data"
    },
    {
     "name": "stderr",
     "output_type": "stream",
     "text": [
      "/home/alex/Documents/personal-projects/covid-19-data-analysis/covid_project/data_utils.py:685: RuntimeWarning: Mean of empty slice\n",
      "  case_avg.append(np.nanmean(case_data.to_numpy()))\n",
      "/home/alex/Documents/personal-projects/covid-19-data-analysis/covid_project/data_utils.py:686: RuntimeWarning: Mean of empty slice\n",
      "  death_avg.append(np.nanmean(death_data.to_numpy()))\n",
      "/home/alex/anaconda3/envs/covid_project/lib/python3.9/site-packages/numpy/lib/nanfunctions.py:1879: RuntimeWarning: Degrees of freedom <= 0 for slice.\n",
      "  var = nanvar(a, axis=axis, dtype=dtype, out=out, ddof=ddof,\n",
      "/home/alex/Documents/personal-projects/covid-19-data-analysis/covid_project/data_utils.py:691: RuntimeWarning: Mean of empty slice\n",
      "  case_accel_avg.append(np.nanmean(case_accel_data.to_numpy()))\n",
      "/home/alex/Documents/personal-projects/covid-19-data-analysis/covid_project/data_utils.py:692: RuntimeWarning: Mean of empty slice\n",
      "  death_accel_avg.append(np.nanmean(death_accel_data.to_numpy()))\n"
     ]
    },
    {
     "data": {
      "application/vnd.jupyter.widget-view+json": {
       "model_id": "c059c7d58f6e4072b15872a3a9352f1d",
       "version_major": 2,
       "version_minor": 0
      },
      "text/plain": [
       "  0%|          | 0/50 [00:00<?, ?it/s]"
      ]
     },
     "metadata": {},
     "output_type": "display_data"
    },
    {
     "data": {
      "application/vnd.jupyter.widget-view+json": {
       "model_id": "9fc1dfd24b134142b3f0df1497d9160e",
       "version_major": 2,
       "version_minor": 0
      },
      "text/plain": [
       "0it [00:00, ?it/s]"
      ]
     },
     "metadata": {},
     "output_type": "display_data"
    },
    {
     "name": "stderr",
     "output_type": "stream",
     "text": [
      "/home/alex/Documents/personal-projects/covid-19-data-analysis/covid_project/data_utils.py:685: RuntimeWarning: Mean of empty slice\n",
      "  case_avg.append(np.nanmean(case_data.to_numpy()))\n",
      "/home/alex/Documents/personal-projects/covid-19-data-analysis/covid_project/data_utils.py:686: RuntimeWarning: Mean of empty slice\n",
      "  death_avg.append(np.nanmean(death_data.to_numpy()))\n",
      "/home/alex/anaconda3/envs/covid_project/lib/python3.9/site-packages/numpy/lib/nanfunctions.py:1879: RuntimeWarning: Degrees of freedom <= 0 for slice.\n",
      "  var = nanvar(a, axis=axis, dtype=dtype, out=out, ddof=ddof,\n",
      "/home/alex/Documents/personal-projects/covid-19-data-analysis/covid_project/data_utils.py:691: RuntimeWarning: Mean of empty slice\n",
      "  case_accel_avg.append(np.nanmean(case_accel_data.to_numpy()))\n",
      "/home/alex/Documents/personal-projects/covid-19-data-analysis/covid_project/data_utils.py:692: RuntimeWarning: Mean of empty slice\n",
      "  death_accel_avg.append(np.nanmean(death_accel_data.to_numpy()))\n"
     ]
    },
    {
     "data": {
      "application/vnd.jupyter.widget-view+json": {
       "model_id": "3dad94a3d2b147da8171739ebe607b20",
       "version_major": 2,
       "version_minor": 0
      },
      "text/plain": [
       "  0%|          | 0/50 [00:00<?, ?it/s]"
      ]
     },
     "metadata": {},
     "output_type": "display_data"
    },
    {
     "data": {
      "application/vnd.jupyter.widget-view+json": {
       "model_id": "4d789891c17a40a29b38ae7944745eb8",
       "version_major": 2,
       "version_minor": 0
      },
      "text/plain": [
       "0it [00:00, ?it/s]"
      ]
     },
     "metadata": {},
     "output_type": "display_data"
    },
    {
     "name": "stderr",
     "output_type": "stream",
     "text": [
      "/home/alex/Documents/personal-projects/covid-19-data-analysis/covid_project/data_utils.py:685: RuntimeWarning: Mean of empty slice\n",
      "  case_avg.append(np.nanmean(case_data.to_numpy()))\n",
      "/home/alex/Documents/personal-projects/covid-19-data-analysis/covid_project/data_utils.py:686: RuntimeWarning: Mean of empty slice\n",
      "  death_avg.append(np.nanmean(death_data.to_numpy()))\n",
      "/home/alex/anaconda3/envs/covid_project/lib/python3.9/site-packages/numpy/lib/nanfunctions.py:1879: RuntimeWarning: Degrees of freedom <= 0 for slice.\n",
      "  var = nanvar(a, axis=axis, dtype=dtype, out=out, ddof=ddof,\n",
      "/home/alex/Documents/personal-projects/covid-19-data-analysis/covid_project/data_utils.py:691: RuntimeWarning: Mean of empty slice\n",
      "  case_accel_avg.append(np.nanmean(case_accel_data.to_numpy()))\n",
      "/home/alex/Documents/personal-projects/covid-19-data-analysis/covid_project/data_utils.py:692: RuntimeWarning: Mean of empty slice\n",
      "  death_accel_avg.append(np.nanmean(death_accel_data.to_numpy()))\n"
     ]
    },
    {
     "data": {
      "application/vnd.jupyter.widget-view+json": {
       "model_id": "1f0999eb741c49a394ebd44369baaaf3",
       "version_major": 2,
       "version_minor": 0
      },
      "text/plain": [
       "  0%|          | 0/50 [00:00<?, ?it/s]"
      ]
     },
     "metadata": {},
     "output_type": "display_data"
    },
    {
     "data": {
      "application/vnd.jupyter.widget-view+json": {
       "model_id": "d6fd9af05b874026a0f502d844dca2e0",
       "version_major": 2,
       "version_minor": 0
      },
      "text/plain": [
       "0it [00:00, ?it/s]"
      ]
     },
     "metadata": {},
     "output_type": "display_data"
    },
    {
     "name": "stderr",
     "output_type": "stream",
     "text": [
      "/home/alex/Documents/personal-projects/covid-19-data-analysis/covid_project/data_utils.py:685: RuntimeWarning: Mean of empty slice\n",
      "  case_avg.append(np.nanmean(case_data.to_numpy()))\n",
      "/home/alex/Documents/personal-projects/covid-19-data-analysis/covid_project/data_utils.py:686: RuntimeWarning: Mean of empty slice\n",
      "  death_avg.append(np.nanmean(death_data.to_numpy()))\n",
      "/home/alex/anaconda3/envs/covid_project/lib/python3.9/site-packages/numpy/lib/nanfunctions.py:1879: RuntimeWarning: Degrees of freedom <= 0 for slice.\n",
      "  var = nanvar(a, axis=axis, dtype=dtype, out=out, ddof=ddof,\n",
      "/home/alex/Documents/personal-projects/covid-19-data-analysis/covid_project/data_utils.py:691: RuntimeWarning: Mean of empty slice\n",
      "  case_accel_avg.append(np.nanmean(case_accel_data.to_numpy()))\n",
      "/home/alex/Documents/personal-projects/covid-19-data-analysis/covid_project/data_utils.py:692: RuntimeWarning: Mean of empty slice\n",
      "  death_accel_avg.append(np.nanmean(death_accel_data.to_numpy()))\n"
     ]
    },
    {
     "data": {
      "application/vnd.jupyter.widget-view+json": {
       "model_id": "bb877f89f2b0464ba53b7e780d2e62b0",
       "version_major": 2,
       "version_minor": 0
      },
      "text/plain": [
       "  0%|          | 0/50 [00:00<?, ?it/s]"
      ]
     },
     "metadata": {},
     "output_type": "display_data"
    },
    {
     "data": {
      "application/vnd.jupyter.widget-view+json": {
       "model_id": "c90879c9b190408f9c65c147ba55512d",
       "version_major": 2,
       "version_minor": 0
      },
      "text/plain": [
       "0it [00:00, ?it/s]"
      ]
     },
     "metadata": {},
     "output_type": "display_data"
    },
    {
     "name": "stderr",
     "output_type": "stream",
     "text": [
      "/home/alex/Documents/personal-projects/covid-19-data-analysis/covid_project/data_utils.py:685: RuntimeWarning: Mean of empty slice\n",
      "  case_avg.append(np.nanmean(case_data.to_numpy()))\n",
      "/home/alex/Documents/personal-projects/covid-19-data-analysis/covid_project/data_utils.py:686: RuntimeWarning: Mean of empty slice\n",
      "  death_avg.append(np.nanmean(death_data.to_numpy()))\n",
      "/home/alex/anaconda3/envs/covid_project/lib/python3.9/site-packages/numpy/lib/nanfunctions.py:1879: RuntimeWarning: Degrees of freedom <= 0 for slice.\n",
      "  var = nanvar(a, axis=axis, dtype=dtype, out=out, ddof=ddof,\n",
      "/home/alex/Documents/personal-projects/covid-19-data-analysis/covid_project/data_utils.py:691: RuntimeWarning: Mean of empty slice\n",
      "  case_accel_avg.append(np.nanmean(case_accel_data.to_numpy()))\n",
      "/home/alex/Documents/personal-projects/covid-19-data-analysis/covid_project/data_utils.py:692: RuntimeWarning: Mean of empty slice\n",
      "  death_accel_avg.append(np.nanmean(death_accel_data.to_numpy()))\n"
     ]
    },
    {
     "data": {
      "application/vnd.jupyter.widget-view+json": {
       "model_id": "abe8e7fa6c0745868c35b923b77e9e36",
       "version_major": 2,
       "version_minor": 0
      },
      "text/plain": [
       "  0%|          | 0/50 [00:00<?, ?it/s]"
      ]
     },
     "metadata": {},
     "output_type": "display_data"
    },
    {
     "data": {
      "application/vnd.jupyter.widget-view+json": {
       "model_id": "9b658bf0613b43348674cbebb3c67913",
       "version_major": 2,
       "version_minor": 0
      },
      "text/plain": [
       "0it [00:00, ?it/s]"
      ]
     },
     "metadata": {},
     "output_type": "display_data"
    },
    {
     "name": "stderr",
     "output_type": "stream",
     "text": [
      "/home/alex/Documents/personal-projects/covid-19-data-analysis/covid_project/data_utils.py:685: RuntimeWarning: Mean of empty slice\n",
      "  case_avg.append(np.nanmean(case_data.to_numpy()))\n",
      "/home/alex/Documents/personal-projects/covid-19-data-analysis/covid_project/data_utils.py:686: RuntimeWarning: Mean of empty slice\n",
      "  death_avg.append(np.nanmean(death_data.to_numpy()))\n",
      "/home/alex/anaconda3/envs/covid_project/lib/python3.9/site-packages/numpy/lib/nanfunctions.py:1879: RuntimeWarning: Degrees of freedom <= 0 for slice.\n",
      "  var = nanvar(a, axis=axis, dtype=dtype, out=out, ddof=ddof,\n",
      "/home/alex/Documents/personal-projects/covid-19-data-analysis/covid_project/data_utils.py:691: RuntimeWarning: Mean of empty slice\n",
      "  case_accel_avg.append(np.nanmean(case_accel_data.to_numpy()))\n",
      "/home/alex/Documents/personal-projects/covid-19-data-analysis/covid_project/data_utils.py:692: RuntimeWarning: Mean of empty slice\n",
      "  death_accel_avg.append(np.nanmean(death_accel_data.to_numpy()))\n"
     ]
    },
    {
     "data": {
      "application/vnd.jupyter.widget-view+json": {
       "model_id": "1162a2146de74133ac1a409898368d4b",
       "version_major": 2,
       "version_minor": 0
      },
      "text/plain": [
       "  0%|          | 0/50 [00:00<?, ?it/s]"
      ]
     },
     "metadata": {},
     "output_type": "display_data"
    },
    {
     "name": "stderr",
     "output_type": "stream",
     "text": [
      "/home/alex/Documents/personal-projects/covid-19-data-analysis/covid_project/data_utils.py:685: RuntimeWarning: Mean of empty slice\n",
      "  case_avg.append(np.nanmean(case_data.to_numpy()))\n",
      "/home/alex/Documents/personal-projects/covid-19-data-analysis/covid_project/data_utils.py:686: RuntimeWarning: Mean of empty slice\n",
      "  death_avg.append(np.nanmean(death_data.to_numpy()))\n",
      "/home/alex/anaconda3/envs/covid_project/lib/python3.9/site-packages/numpy/lib/nanfunctions.py:1879: RuntimeWarning: Degrees of freedom <= 0 for slice.\n",
      "  var = nanvar(a, axis=axis, dtype=dtype, out=out, ddof=ddof,\n",
      "/home/alex/Documents/personal-projects/covid-19-data-analysis/covid_project/data_utils.py:691: RuntimeWarning: Mean of empty slice\n",
      "  case_accel_avg.append(np.nanmean(case_accel_data.to_numpy()))\n",
      "/home/alex/Documents/personal-projects/covid-19-data-analysis/covid_project/data_utils.py:692: RuntimeWarning: Mean of empty slice\n",
      "  death_accel_avg.append(np.nanmean(death_accel_data.to_numpy()))\n"
     ]
    },
    {
     "data": {
      "application/vnd.jupyter.widget-view+json": {
       "model_id": "ffaf933bd9be4b8cbd6a9bfe4564856c",
       "version_major": 2,
       "version_minor": 0
      },
      "text/plain": [
       "  0%|          | 0/50 [00:00<?, ?it/s]"
      ]
     },
     "metadata": {},
     "output_type": "display_data"
    },
    {
     "data": {
      "application/vnd.jupyter.widget-view+json": {
       "model_id": "5e649d66063f4d2c9d2ec95880a5e7c6",
       "version_major": 2,
       "version_minor": 0
      },
      "text/plain": [
       "0it [00:00, ?it/s]"
      ]
     },
     "metadata": {},
     "output_type": "display_data"
    },
    {
     "name": "stderr",
     "output_type": "stream",
     "text": [
      "/home/alex/Documents/personal-projects/covid-19-data-analysis/covid_project/data_utils.py:685: RuntimeWarning: Mean of empty slice\n",
      "  case_avg.append(np.nanmean(case_data.to_numpy()))\n",
      "/home/alex/Documents/personal-projects/covid-19-data-analysis/covid_project/data_utils.py:686: RuntimeWarning: Mean of empty slice\n",
      "  death_avg.append(np.nanmean(death_data.to_numpy()))\n",
      "/home/alex/anaconda3/envs/covid_project/lib/python3.9/site-packages/numpy/lib/nanfunctions.py:1879: RuntimeWarning: Degrees of freedom <= 0 for slice.\n",
      "  var = nanvar(a, axis=axis, dtype=dtype, out=out, ddof=ddof,\n",
      "/home/alex/Documents/personal-projects/covid-19-data-analysis/covid_project/data_utils.py:691: RuntimeWarning: Mean of empty slice\n",
      "  case_accel_avg.append(np.nanmean(case_accel_data.to_numpy()))\n",
      "/home/alex/Documents/personal-projects/covid-19-data-analysis/covid_project/data_utils.py:692: RuntimeWarning: Mean of empty slice\n",
      "  death_accel_avg.append(np.nanmean(death_accel_data.to_numpy()))\n"
     ]
    },
    {
     "data": {
      "application/vnd.jupyter.widget-view+json": {
       "model_id": "05bafe6ae53f4b94ba26ad56cbf82a17",
       "version_major": 2,
       "version_minor": 0
      },
      "text/plain": [
       "  0%|          | 0/50 [00:00<?, ?it/s]"
      ]
     },
     "metadata": {},
     "output_type": "display_data"
    },
    {
     "data": {
      "application/vnd.jupyter.widget-view+json": {
       "model_id": "1d9cd56c484b4b928e88b0cc65088a5d",
       "version_major": 2,
       "version_minor": 0
      },
      "text/plain": [
       "0it [00:00, ?it/s]"
      ]
     },
     "metadata": {},
     "output_type": "display_data"
    },
    {
     "name": "stderr",
     "output_type": "stream",
     "text": [
      "/home/alex/Documents/personal-projects/covid-19-data-analysis/covid_project/data_utils.py:685: RuntimeWarning: Mean of empty slice\n",
      "  case_avg.append(np.nanmean(case_data.to_numpy()))\n",
      "/home/alex/Documents/personal-projects/covid-19-data-analysis/covid_project/data_utils.py:686: RuntimeWarning: Mean of empty slice\n",
      "  death_avg.append(np.nanmean(death_data.to_numpy()))\n",
      "/home/alex/anaconda3/envs/covid_project/lib/python3.9/site-packages/numpy/lib/nanfunctions.py:1879: RuntimeWarning: Degrees of freedom <= 0 for slice.\n",
      "  var = nanvar(a, axis=axis, dtype=dtype, out=out, ddof=ddof,\n",
      "/home/alex/Documents/personal-projects/covid-19-data-analysis/covid_project/data_utils.py:691: RuntimeWarning: Mean of empty slice\n",
      "  case_accel_avg.append(np.nanmean(case_accel_data.to_numpy()))\n",
      "/home/alex/Documents/personal-projects/covid-19-data-analysis/covid_project/data_utils.py:692: RuntimeWarning: Mean of empty slice\n",
      "  death_accel_avg.append(np.nanmean(death_accel_data.to_numpy()))\n"
     ]
    },
    {
     "data": {
      "application/vnd.jupyter.widget-view+json": {
       "model_id": "88aa2ac74da845dc92b7c6619036fd05",
       "version_major": 2,
       "version_minor": 0
      },
      "text/plain": [
       "  0%|          | 0/50 [00:00<?, ?it/s]"
      ]
     },
     "metadata": {},
     "output_type": "display_data"
    },
    {
     "data": {
      "application/vnd.jupyter.widget-view+json": {
       "model_id": "73f801fc863d4bcb94d930c0e24a8067",
       "version_major": 2,
       "version_minor": 0
      },
      "text/plain": [
       "0it [00:00, ?it/s]"
      ]
     },
     "metadata": {},
     "output_type": "display_data"
    },
    {
     "name": "stderr",
     "output_type": "stream",
     "text": [
      "/home/alex/Documents/personal-projects/covid-19-data-analysis/covid_project/data_utils.py:685: RuntimeWarning: Mean of empty slice\n",
      "  case_avg.append(np.nanmean(case_data.to_numpy()))\n",
      "/home/alex/Documents/personal-projects/covid-19-data-analysis/covid_project/data_utils.py:686: RuntimeWarning: Mean of empty slice\n",
      "  death_avg.append(np.nanmean(death_data.to_numpy()))\n",
      "/home/alex/anaconda3/envs/covid_project/lib/python3.9/site-packages/numpy/lib/nanfunctions.py:1879: RuntimeWarning: Degrees of freedom <= 0 for slice.\n",
      "  var = nanvar(a, axis=axis, dtype=dtype, out=out, ddof=ddof,\n",
      "/home/alex/Documents/personal-projects/covid-19-data-analysis/covid_project/data_utils.py:691: RuntimeWarning: Mean of empty slice\n",
      "  case_accel_avg.append(np.nanmean(case_accel_data.to_numpy()))\n",
      "/home/alex/Documents/personal-projects/covid-19-data-analysis/covid_project/data_utils.py:692: RuntimeWarning: Mean of empty slice\n",
      "  death_accel_avg.append(np.nanmean(death_accel_data.to_numpy()))\n"
     ]
    },
    {
     "data": {
      "application/vnd.jupyter.widget-view+json": {
       "model_id": "7682fac88f434c6394ccbaab7bcbd5fe",
       "version_major": 2,
       "version_minor": 0
      },
      "text/plain": [
       "  0%|          | 0/50 [00:00<?, ?it/s]"
      ]
     },
     "metadata": {},
     "output_type": "display_data"
    },
    {
     "data": {
      "application/vnd.jupyter.widget-view+json": {
       "model_id": "282cd2b941c4452e935e2035474fe7d6",
       "version_major": 2,
       "version_minor": 0
      },
      "text/plain": [
       "0it [00:00, ?it/s]"
      ]
     },
     "metadata": {},
     "output_type": "display_data"
    },
    {
     "name": "stderr",
     "output_type": "stream",
     "text": [
      "/home/alex/Documents/personal-projects/covid-19-data-analysis/covid_project/data_utils.py:685: RuntimeWarning: Mean of empty slice\n",
      "  case_avg.append(np.nanmean(case_data.to_numpy()))\n",
      "/home/alex/Documents/personal-projects/covid-19-data-analysis/covid_project/data_utils.py:686: RuntimeWarning: Mean of empty slice\n",
      "  death_avg.append(np.nanmean(death_data.to_numpy()))\n",
      "/home/alex/anaconda3/envs/covid_project/lib/python3.9/site-packages/numpy/lib/nanfunctions.py:1879: RuntimeWarning: Degrees of freedom <= 0 for slice.\n",
      "  var = nanvar(a, axis=axis, dtype=dtype, out=out, ddof=ddof,\n",
      "/home/alex/Documents/personal-projects/covid-19-data-analysis/covid_project/data_utils.py:691: RuntimeWarning: Mean of empty slice\n",
      "  case_accel_avg.append(np.nanmean(case_accel_data.to_numpy()))\n",
      "/home/alex/Documents/personal-projects/covid-19-data-analysis/covid_project/data_utils.py:692: RuntimeWarning: Mean of empty slice\n",
      "  death_accel_avg.append(np.nanmean(death_accel_data.to_numpy()))\n"
     ]
    },
    {
     "data": {
      "application/vnd.jupyter.widget-view+json": {
       "model_id": "6e2092bd34c1455d83dc1db2badeb9e5",
       "version_major": 2,
       "version_minor": 0
      },
      "text/plain": [
       "  0%|          | 0/50 [00:00<?, ?it/s]"
      ]
     },
     "metadata": {},
     "output_type": "display_data"
    },
    {
     "data": {
      "application/vnd.jupyter.widget-view+json": {
       "model_id": "a2c50830f81a4f2083bcd9065771f3ec",
       "version_major": 2,
       "version_minor": 0
      },
      "text/plain": [
       "0it [00:00, ?it/s]"
      ]
     },
     "metadata": {},
     "output_type": "display_data"
    },
    {
     "name": "stderr",
     "output_type": "stream",
     "text": [
      "/home/alex/Documents/personal-projects/covid-19-data-analysis/covid_project/data_utils.py:685: RuntimeWarning: Mean of empty slice\n",
      "  case_avg.append(np.nanmean(case_data.to_numpy()))\n",
      "/home/alex/Documents/personal-projects/covid-19-data-analysis/covid_project/data_utils.py:686: RuntimeWarning: Mean of empty slice\n",
      "  death_avg.append(np.nanmean(death_data.to_numpy()))\n",
      "/home/alex/anaconda3/envs/covid_project/lib/python3.9/site-packages/numpy/lib/nanfunctions.py:1879: RuntimeWarning: Degrees of freedom <= 0 for slice.\n",
      "  var = nanvar(a, axis=axis, dtype=dtype, out=out, ddof=ddof,\n",
      "/home/alex/Documents/personal-projects/covid-19-data-analysis/covid_project/data_utils.py:691: RuntimeWarning: Mean of empty slice\n",
      "  case_accel_avg.append(np.nanmean(case_accel_data.to_numpy()))\n",
      "/home/alex/Documents/personal-projects/covid-19-data-analysis/covid_project/data_utils.py:692: RuntimeWarning: Mean of empty slice\n",
      "  death_accel_avg.append(np.nanmean(death_accel_data.to_numpy()))\n"
     ]
    },
    {
     "data": {
      "application/vnd.jupyter.widget-view+json": {
       "model_id": "7d122e67c422480fab2078561b7782dc",
       "version_major": 2,
       "version_minor": 0
      },
      "text/plain": [
       "  0%|          | 0/50 [00:00<?, ?it/s]"
      ]
     },
     "metadata": {},
     "output_type": "display_data"
    },
    {
     "data": {
      "application/vnd.jupyter.widget-view+json": {
       "model_id": "a26369ac1ffe4e9ca65756a7fa11a7ae",
       "version_major": 2,
       "version_minor": 0
      },
      "text/plain": [
       "0it [00:00, ?it/s]"
      ]
     },
     "metadata": {},
     "output_type": "display_data"
    },
    {
     "name": "stderr",
     "output_type": "stream",
     "text": [
      "/home/alex/Documents/personal-projects/covid-19-data-analysis/covid_project/data_utils.py:685: RuntimeWarning: Mean of empty slice\n",
      "  case_avg.append(np.nanmean(case_data.to_numpy()))\n",
      "/home/alex/Documents/personal-projects/covid-19-data-analysis/covid_project/data_utils.py:686: RuntimeWarning: Mean of empty slice\n",
      "  death_avg.append(np.nanmean(death_data.to_numpy()))\n",
      "/home/alex/anaconda3/envs/covid_project/lib/python3.9/site-packages/numpy/lib/nanfunctions.py:1879: RuntimeWarning: Degrees of freedom <= 0 for slice.\n",
      "  var = nanvar(a, axis=axis, dtype=dtype, out=out, ddof=ddof,\n",
      "/home/alex/Documents/personal-projects/covid-19-data-analysis/covid_project/data_utils.py:691: RuntimeWarning: Mean of empty slice\n",
      "  case_accel_avg.append(np.nanmean(case_accel_data.to_numpy()))\n",
      "/home/alex/Documents/personal-projects/covid-19-data-analysis/covid_project/data_utils.py:692: RuntimeWarning: Mean of empty slice\n",
      "  death_accel_avg.append(np.nanmean(death_accel_data.to_numpy()))\n"
     ]
    },
    {
     "data": {
      "application/vnd.jupyter.widget-view+json": {
       "model_id": "009784448c744d47a1e5e5ef74c80dc1",
       "version_major": 2,
       "version_minor": 0
      },
      "text/plain": [
       "  0%|          | 0/50 [00:00<?, ?it/s]"
      ]
     },
     "metadata": {},
     "output_type": "display_data"
    },
    {
     "data": {
      "application/vnd.jupyter.widget-view+json": {
       "model_id": "38e1a0300e174372a615bc3e13329994",
       "version_major": 2,
       "version_minor": 0
      },
      "text/plain": [
       "0it [00:00, ?it/s]"
      ]
     },
     "metadata": {},
     "output_type": "display_data"
    },
    {
     "name": "stderr",
     "output_type": "stream",
     "text": [
      "/home/alex/Documents/personal-projects/covid-19-data-analysis/covid_project/data_utils.py:685: RuntimeWarning: Mean of empty slice\n",
      "  case_avg.append(np.nanmean(case_data.to_numpy()))\n",
      "/home/alex/Documents/personal-projects/covid-19-data-analysis/covid_project/data_utils.py:686: RuntimeWarning: Mean of empty slice\n",
      "  death_avg.append(np.nanmean(death_data.to_numpy()))\n",
      "/home/alex/anaconda3/envs/covid_project/lib/python3.9/site-packages/numpy/lib/nanfunctions.py:1879: RuntimeWarning: Degrees of freedom <= 0 for slice.\n",
      "  var = nanvar(a, axis=axis, dtype=dtype, out=out, ddof=ddof,\n",
      "/home/alex/Documents/personal-projects/covid-19-data-analysis/covid_project/data_utils.py:691: RuntimeWarning: Mean of empty slice\n",
      "  case_accel_avg.append(np.nanmean(case_accel_data.to_numpy()))\n",
      "/home/alex/Documents/personal-projects/covid-19-data-analysis/covid_project/data_utils.py:692: RuntimeWarning: Mean of empty slice\n",
      "  death_accel_avg.append(np.nanmean(death_accel_data.to_numpy()))\n"
     ]
    },
    {
     "data": {
      "application/vnd.jupyter.widget-view+json": {
       "model_id": "0a448a1d8deb44af8392fa713f02f299",
       "version_major": 2,
       "version_minor": 0
      },
      "text/plain": [
       "  0%|          | 0/50 [00:00<?, ?it/s]"
      ]
     },
     "metadata": {},
     "output_type": "display_data"
    },
    {
     "data": {
      "application/vnd.jupyter.widget-view+json": {
       "model_id": "3ad88f7b33e044668ddc3dbc4ecfbc42",
       "version_major": 2,
       "version_minor": 0
      },
      "text/plain": [
       "0it [00:00, ?it/s]"
      ]
     },
     "metadata": {},
     "output_type": "display_data"
    },
    {
     "name": "stderr",
     "output_type": "stream",
     "text": [
      "/home/alex/Documents/personal-projects/covid-19-data-analysis/covid_project/data_utils.py:685: RuntimeWarning: Mean of empty slice\n",
      "  case_avg.append(np.nanmean(case_data.to_numpy()))\n",
      "/home/alex/Documents/personal-projects/covid-19-data-analysis/covid_project/data_utils.py:686: RuntimeWarning: Mean of empty slice\n",
      "  death_avg.append(np.nanmean(death_data.to_numpy()))\n",
      "/home/alex/anaconda3/envs/covid_project/lib/python3.9/site-packages/numpy/lib/nanfunctions.py:1879: RuntimeWarning: Degrees of freedom <= 0 for slice.\n",
      "  var = nanvar(a, axis=axis, dtype=dtype, out=out, ddof=ddof,\n",
      "/home/alex/Documents/personal-projects/covid-19-data-analysis/covid_project/data_utils.py:691: RuntimeWarning: Mean of empty slice\n",
      "  case_accel_avg.append(np.nanmean(case_accel_data.to_numpy()))\n",
      "/home/alex/Documents/personal-projects/covid-19-data-analysis/covid_project/data_utils.py:692: RuntimeWarning: Mean of empty slice\n",
      "  death_accel_avg.append(np.nanmean(death_accel_data.to_numpy()))\n"
     ]
    },
    {
     "data": {
      "application/vnd.jupyter.widget-view+json": {
       "model_id": "ec526ccb284d4a71ac8028cfe80afea7",
       "version_major": 2,
       "version_minor": 0
      },
      "text/plain": [
       "  0%|          | 0/50 [00:00<?, ?it/s]"
      ]
     },
     "metadata": {},
     "output_type": "display_data"
    },
    {
     "data": {
      "application/vnd.jupyter.widget-view+json": {
       "model_id": "67f446eb441a4042acf4aa6339a7b2dd",
       "version_major": 2,
       "version_minor": 0
      },
      "text/plain": [
       "0it [00:00, ?it/s]"
      ]
     },
     "metadata": {},
     "output_type": "display_data"
    },
    {
     "name": "stderr",
     "output_type": "stream",
     "text": [
      "/home/alex/Documents/personal-projects/covid-19-data-analysis/covid_project/data_utils.py:685: RuntimeWarning: Mean of empty slice\n",
      "  case_avg.append(np.nanmean(case_data.to_numpy()))\n",
      "/home/alex/Documents/personal-projects/covid-19-data-analysis/covid_project/data_utils.py:686: RuntimeWarning: Mean of empty slice\n",
      "  death_avg.append(np.nanmean(death_data.to_numpy()))\n",
      "/home/alex/anaconda3/envs/covid_project/lib/python3.9/site-packages/numpy/lib/nanfunctions.py:1879: RuntimeWarning: Degrees of freedom <= 0 for slice.\n",
      "  var = nanvar(a, axis=axis, dtype=dtype, out=out, ddof=ddof,\n",
      "/home/alex/Documents/personal-projects/covid-19-data-analysis/covid_project/data_utils.py:691: RuntimeWarning: Mean of empty slice\n",
      "  case_accel_avg.append(np.nanmean(case_accel_data.to_numpy()))\n",
      "/home/alex/Documents/personal-projects/covid-19-data-analysis/covid_project/data_utils.py:692: RuntimeWarning: Mean of empty slice\n",
      "  death_accel_avg.append(np.nanmean(death_accel_data.to_numpy()))\n"
     ]
    },
    {
     "data": {
      "application/vnd.jupyter.widget-view+json": {
       "model_id": "90e54072334b412ea4d96f6cdee2c6b8",
       "version_major": 2,
       "version_minor": 0
      },
      "text/plain": [
       "  0%|          | 0/50 [00:00<?, ?it/s]"
      ]
     },
     "metadata": {},
     "output_type": "display_data"
    },
    {
     "data": {
      "application/vnd.jupyter.widget-view+json": {
       "model_id": "7eca9076dd6742999448049a1402afdf",
       "version_major": 2,
       "version_minor": 0
      },
      "text/plain": [
       "0it [00:00, ?it/s]"
      ]
     },
     "metadata": {},
     "output_type": "display_data"
    },
    {
     "name": "stderr",
     "output_type": "stream",
     "text": [
      "/home/alex/Documents/personal-projects/covid-19-data-analysis/covid_project/data_utils.py:685: RuntimeWarning: Mean of empty slice\n",
      "  case_avg.append(np.nanmean(case_data.to_numpy()))\n",
      "/home/alex/Documents/personal-projects/covid-19-data-analysis/covid_project/data_utils.py:686: RuntimeWarning: Mean of empty slice\n",
      "  death_avg.append(np.nanmean(death_data.to_numpy()))\n",
      "/home/alex/anaconda3/envs/covid_project/lib/python3.9/site-packages/numpy/lib/nanfunctions.py:1879: RuntimeWarning: Degrees of freedom <= 0 for slice.\n",
      "  var = nanvar(a, axis=axis, dtype=dtype, out=out, ddof=ddof,\n",
      "/home/alex/Documents/personal-projects/covid-19-data-analysis/covid_project/data_utils.py:691: RuntimeWarning: Mean of empty slice\n",
      "  case_accel_avg.append(np.nanmean(case_accel_data.to_numpy()))\n",
      "/home/alex/Documents/personal-projects/covid-19-data-analysis/covid_project/data_utils.py:692: RuntimeWarning: Mean of empty slice\n",
      "  death_accel_avg.append(np.nanmean(death_accel_data.to_numpy()))\n"
     ]
    },
    {
     "data": {
      "application/vnd.jupyter.widget-view+json": {
       "model_id": "8373fe5b262d42af8a3b654a8451f926",
       "version_major": 2,
       "version_minor": 0
      },
      "text/plain": [
       "  0%|          | 0/50 [00:00<?, ?it/s]"
      ]
     },
     "metadata": {},
     "output_type": "display_data"
    },
    {
     "data": {
      "application/vnd.jupyter.widget-view+json": {
       "model_id": "9385629bde2e43a9a9dec00ac724c87d",
       "version_major": 2,
       "version_minor": 0
      },
      "text/plain": [
       "0it [00:00, ?it/s]"
      ]
     },
     "metadata": {},
     "output_type": "display_data"
    },
    {
     "name": "stderr",
     "output_type": "stream",
     "text": [
      "/home/alex/Documents/personal-projects/covid-19-data-analysis/covid_project/data_utils.py:685: RuntimeWarning: Mean of empty slice\n",
      "  case_avg.append(np.nanmean(case_data.to_numpy()))\n",
      "/home/alex/Documents/personal-projects/covid-19-data-analysis/covid_project/data_utils.py:686: RuntimeWarning: Mean of empty slice\n",
      "  death_avg.append(np.nanmean(death_data.to_numpy()))\n",
      "/home/alex/anaconda3/envs/covid_project/lib/python3.9/site-packages/numpy/lib/nanfunctions.py:1879: RuntimeWarning: Degrees of freedom <= 0 for slice.\n",
      "  var = nanvar(a, axis=axis, dtype=dtype, out=out, ddof=ddof,\n",
      "/home/alex/Documents/personal-projects/covid-19-data-analysis/covid_project/data_utils.py:691: RuntimeWarning: Mean of empty slice\n",
      "  case_accel_avg.append(np.nanmean(case_accel_data.to_numpy()))\n",
      "/home/alex/Documents/personal-projects/covid-19-data-analysis/covid_project/data_utils.py:692: RuntimeWarning: Mean of empty slice\n",
      "  death_accel_avg.append(np.nanmean(death_accel_data.to_numpy()))\n"
     ]
    },
    {
     "data": {
      "application/vnd.jupyter.widget-view+json": {
       "model_id": "50291f44c148491f9e8ce115a2b9b61b",
       "version_major": 2,
       "version_minor": 0
      },
      "text/plain": [
       "  0%|          | 0/50 [00:00<?, ?it/s]"
      ]
     },
     "metadata": {},
     "output_type": "display_data"
    },
    {
     "data": {
      "application/vnd.jupyter.widget-view+json": {
       "model_id": "a93aa1ceb6aa47e7a033de25db47fd27",
       "version_major": 2,
       "version_minor": 0
      },
      "text/plain": [
       "0it [00:00, ?it/s]"
      ]
     },
     "metadata": {},
     "output_type": "display_data"
    },
    {
     "name": "stderr",
     "output_type": "stream",
     "text": [
      "/home/alex/Documents/personal-projects/covid-19-data-analysis/covid_project/data_utils.py:685: RuntimeWarning: Mean of empty slice\n",
      "  case_avg.append(np.nanmean(case_data.to_numpy()))\n",
      "/home/alex/Documents/personal-projects/covid-19-data-analysis/covid_project/data_utils.py:686: RuntimeWarning: Mean of empty slice\n",
      "  death_avg.append(np.nanmean(death_data.to_numpy()))\n",
      "/home/alex/anaconda3/envs/covid_project/lib/python3.9/site-packages/numpy/lib/nanfunctions.py:1879: RuntimeWarning: Degrees of freedom <= 0 for slice.\n",
      "  var = nanvar(a, axis=axis, dtype=dtype, out=out, ddof=ddof,\n",
      "/home/alex/Documents/personal-projects/covid-19-data-analysis/covid_project/data_utils.py:691: RuntimeWarning: Mean of empty slice\n",
      "  case_accel_avg.append(np.nanmean(case_accel_data.to_numpy()))\n",
      "/home/alex/Documents/personal-projects/covid-19-data-analysis/covid_project/data_utils.py:692: RuntimeWarning: Mean of empty slice\n",
      "  death_accel_avg.append(np.nanmean(death_accel_data.to_numpy()))\n"
     ]
    },
    {
     "data": {
      "application/vnd.jupyter.widget-view+json": {
       "model_id": "fc2865c4c53a410cb882faf8977eca13",
       "version_major": 2,
       "version_minor": 0
      },
      "text/plain": [
       "  0%|          | 0/50 [00:00<?, ?it/s]"
      ]
     },
     "metadata": {},
     "output_type": "display_data"
    },
    {
     "data": {
      "application/vnd.jupyter.widget-view+json": {
       "model_id": "82d0cde423374becafd92c5e2f958aa8",
       "version_major": 2,
       "version_minor": 0
      },
      "text/plain": [
       "0it [00:00, ?it/s]"
      ]
     },
     "metadata": {},
     "output_type": "display_data"
    },
    {
     "name": "stderr",
     "output_type": "stream",
     "text": [
      "/home/alex/Documents/personal-projects/covid-19-data-analysis/covid_project/data_utils.py:685: RuntimeWarning: Mean of empty slice\n",
      "  case_avg.append(np.nanmean(case_data.to_numpy()))\n",
      "/home/alex/Documents/personal-projects/covid-19-data-analysis/covid_project/data_utils.py:686: RuntimeWarning: Mean of empty slice\n",
      "  death_avg.append(np.nanmean(death_data.to_numpy()))\n",
      "/home/alex/anaconda3/envs/covid_project/lib/python3.9/site-packages/numpy/lib/nanfunctions.py:1879: RuntimeWarning: Degrees of freedom <= 0 for slice.\n",
      "  var = nanvar(a, axis=axis, dtype=dtype, out=out, ddof=ddof,\n",
      "/home/alex/Documents/personal-projects/covid-19-data-analysis/covid_project/data_utils.py:691: RuntimeWarning: Mean of empty slice\n",
      "  case_accel_avg.append(np.nanmean(case_accel_data.to_numpy()))\n",
      "/home/alex/Documents/personal-projects/covid-19-data-analysis/covid_project/data_utils.py:692: RuntimeWarning: Mean of empty slice\n",
      "  death_accel_avg.append(np.nanmean(death_accel_data.to_numpy()))\n"
     ]
    },
    {
     "data": {
      "application/vnd.jupyter.widget-view+json": {
       "model_id": "d8ecdd0e903445cfb1f1d98f2f38390e",
       "version_major": 2,
       "version_minor": 0
      },
      "text/plain": [
       "  0%|          | 0/50 [00:00<?, ?it/s]"
      ]
     },
     "metadata": {},
     "output_type": "display_data"
    },
    {
     "data": {
      "application/vnd.jupyter.widget-view+json": {
       "model_id": "737173ca713f405f95ab1f61da78fa96",
       "version_major": 2,
       "version_minor": 0
      },
      "text/plain": [
       "0it [00:00, ?it/s]"
      ]
     },
     "metadata": {},
     "output_type": "display_data"
    },
    {
     "name": "stderr",
     "output_type": "stream",
     "text": [
      "/home/alex/Documents/personal-projects/covid-19-data-analysis/covid_project/data_utils.py:685: RuntimeWarning: Mean of empty slice\n",
      "  case_avg.append(np.nanmean(case_data.to_numpy()))\n",
      "/home/alex/Documents/personal-projects/covid-19-data-analysis/covid_project/data_utils.py:686: RuntimeWarning: Mean of empty slice\n",
      "  death_avg.append(np.nanmean(death_data.to_numpy()))\n",
      "/home/alex/anaconda3/envs/covid_project/lib/python3.9/site-packages/numpy/lib/nanfunctions.py:1879: RuntimeWarning: Degrees of freedom <= 0 for slice.\n",
      "  var = nanvar(a, axis=axis, dtype=dtype, out=out, ddof=ddof,\n",
      "/home/alex/Documents/personal-projects/covid-19-data-analysis/covid_project/data_utils.py:691: RuntimeWarning: Mean of empty slice\n",
      "  case_accel_avg.append(np.nanmean(case_accel_data.to_numpy()))\n",
      "/home/alex/Documents/personal-projects/covid-19-data-analysis/covid_project/data_utils.py:692: RuntimeWarning: Mean of empty slice\n",
      "  death_accel_avg.append(np.nanmean(death_accel_data.to_numpy()))\n"
     ]
    },
    {
     "data": {
      "application/vnd.jupyter.widget-view+json": {
       "model_id": "88e06a6d88a44bc2b8b13c4fe7f54d64",
       "version_major": 2,
       "version_minor": 0
      },
      "text/plain": [
       "  0%|          | 0/50 [00:00<?, ?it/s]"
      ]
     },
     "metadata": {},
     "output_type": "display_data"
    },
    {
     "data": {
      "application/vnd.jupyter.widget-view+json": {
       "model_id": "2a3c913af8e94582a3bb32e003416e53",
       "version_major": 2,
       "version_minor": 0
      },
      "text/plain": [
       "0it [00:00, ?it/s]"
      ]
     },
     "metadata": {},
     "output_type": "display_data"
    },
    {
     "name": "stderr",
     "output_type": "stream",
     "text": [
      "/home/alex/Documents/personal-projects/covid-19-data-analysis/covid_project/data_utils.py:685: RuntimeWarning: Mean of empty slice\n",
      "  case_avg.append(np.nanmean(case_data.to_numpy()))\n",
      "/home/alex/Documents/personal-projects/covid-19-data-analysis/covid_project/data_utils.py:686: RuntimeWarning: Mean of empty slice\n",
      "  death_avg.append(np.nanmean(death_data.to_numpy()))\n",
      "/home/alex/anaconda3/envs/covid_project/lib/python3.9/site-packages/numpy/lib/nanfunctions.py:1879: RuntimeWarning: Degrees of freedom <= 0 for slice.\n",
      "  var = nanvar(a, axis=axis, dtype=dtype, out=out, ddof=ddof,\n",
      "/home/alex/Documents/personal-projects/covid-19-data-analysis/covid_project/data_utils.py:691: RuntimeWarning: Mean of empty slice\n",
      "  case_accel_avg.append(np.nanmean(case_accel_data.to_numpy()))\n",
      "/home/alex/Documents/personal-projects/covid-19-data-analysis/covid_project/data_utils.py:692: RuntimeWarning: Mean of empty slice\n",
      "  death_accel_avg.append(np.nanmean(death_accel_data.to_numpy()))\n"
     ]
    },
    {
     "data": {
      "application/vnd.jupyter.widget-view+json": {
       "model_id": "fd34f4c7d01447259a55779e90999ca8",
       "version_major": 2,
       "version_minor": 0
      },
      "text/plain": [
       "  0%|          | 0/50 [00:00<?, ?it/s]"
      ]
     },
     "metadata": {},
     "output_type": "display_data"
    },
    {
     "data": {
      "application/vnd.jupyter.widget-view+json": {
       "model_id": "7764df89fb9d48049738d9e51cc94e14",
       "version_major": 2,
       "version_minor": 0
      },
      "text/plain": [
       "0it [00:00, ?it/s]"
      ]
     },
     "metadata": {},
     "output_type": "display_data"
    },
    {
     "name": "stderr",
     "output_type": "stream",
     "text": [
      "/home/alex/Documents/personal-projects/covid-19-data-analysis/covid_project/data_utils.py:685: RuntimeWarning: Mean of empty slice\n",
      "  case_avg.append(np.nanmean(case_data.to_numpy()))\n",
      "/home/alex/Documents/personal-projects/covid-19-data-analysis/covid_project/data_utils.py:686: RuntimeWarning: Mean of empty slice\n",
      "  death_avg.append(np.nanmean(death_data.to_numpy()))\n",
      "/home/alex/anaconda3/envs/covid_project/lib/python3.9/site-packages/numpy/lib/nanfunctions.py:1879: RuntimeWarning: Degrees of freedom <= 0 for slice.\n",
      "  var = nanvar(a, axis=axis, dtype=dtype, out=out, ddof=ddof,\n",
      "/home/alex/Documents/personal-projects/covid-19-data-analysis/covid_project/data_utils.py:691: RuntimeWarning: Mean of empty slice\n",
      "  case_accel_avg.append(np.nanmean(case_accel_data.to_numpy()))\n",
      "/home/alex/Documents/personal-projects/covid-19-data-analysis/covid_project/data_utils.py:692: RuntimeWarning: Mean of empty slice\n",
      "  death_accel_avg.append(np.nanmean(death_accel_data.to_numpy()))\n"
     ]
    }
   ],
   "source": [
    "results = dict()\n",
    "for measure_period in tqdm(range(1, 31)):\n",
    "    correlated_df, state_cases_dict = calculate_deltas(\n",
    "        case_df = case_data,\n",
    "        policy_df = policy_data,\n",
    "        measure_period = measure_period,\n",
    "    )\n",
    "    delta_stats = calc_delta_stats(correlated_df,\n",
    "                                   measure_period=measure_period,\n",
    "                                   min_samples=3)\n",
    "    delta_stats = check_significance(delta_stats)\n",
    "    results[measure_period] = count_significant(delta_stats)"
   ]
  },
  {
   "cell_type": "code",
   "execution_count": 10,
   "metadata": {},
   "outputs": [
    {
     "data": {
      "text/plain": [
       "{1: {'case': ['wholesale trade - start', 'construction - start'],\n",
       "  'case_accel': ['wholesale trade - start', 'construction - start'],\n",
       "  'death': [],\n",
       "  'death_accel': ['wholesale trade - start', 'construction - start']},\n",
       " 2: {'case': ['wholesale trade - start', 'construction - start'],\n",
       "  'case_accel': ['wholesale trade - start', 'construction - start'],\n",
       "  'death': ['wholesale trade - start', 'construction - start'],\n",
       "  'death_accel': ['wholesale trade - start', 'construction - start']},\n",
       " 3: {'case': ['wholesale trade - start', 'construction - start'],\n",
       "  'case_accel': ['wholesale trade - start', 'construction - start'],\n",
       "  'death': ['wholesale trade - start', 'construction - start'],\n",
       "  'death_accel': []},\n",
       " 4: {'case': ['wholesale trade - start',\n",
       "   'suspend elective dental procedures - start',\n",
       "   'libraries - start',\n",
       "   'construction - start'],\n",
       "  'case_accel': ['wholesale trade - start', 'construction - start'],\n",
       "  'death': ['wholesale trade - start', 'construction - start'],\n",
       "  'death_accel': ['gatherings - start']},\n",
       " 5: {'case': ['wholesale trade - start', 'construction - start'],\n",
       "  'case_accel': ['wholesale trade - start', 'construction - start'],\n",
       "  'death': ['gatherings - start',\n",
       "   'wholesale trade - start',\n",
       "   'construction - start'],\n",
       "  'death_accel': []},\n",
       " 6: {'case': ['wholesale trade - start', 'construction - start'],\n",
       "  'case_accel': [],\n",
       "  'death': ['gatherings - start',\n",
       "   'wholesale trade - start',\n",
       "   'construction - start'],\n",
       "  'death_accel': []},\n",
       " 7: {'case': ['wholesale trade - start', 'construction - start'],\n",
       "  'case_accel': ['wholesale trade - start',\n",
       "   'suspend elective dental procedures - start',\n",
       "   'aca special enrollment period - start',\n",
       "   'construction - start'],\n",
       "  'death': ['wholesale trade - start', 'construction - start'],\n",
       "  'death_accel': ['wholesale trade - start', 'construction - start']},\n",
       " 8: {'case': ['wholesale trade - start',\n",
       "   'suspend elective dental procedures - start',\n",
       "   'construction - start'],\n",
       "  'case_accel': ['wholesale trade - start', 'construction - start'],\n",
       "  'death': ['wholesale trade - start', 'construction - start'],\n",
       "  'death_accel': ['wholesale trade - start', 'construction - start']},\n",
       " 9: {'case': ['wholesale trade - start',\n",
       "   'suspend elective dental procedures - start',\n",
       "   'construction - start'],\n",
       "  'case_accel': ['wholesale trade - start', 'construction - start'],\n",
       "  'death': ['wholesale trade - start', 'construction - start'],\n",
       "  'death_accel': []},\n",
       " 10: {'case': ['wholesale trade - start',\n",
       "   'suspend elective dental procedures - start',\n",
       "   'aca special enrollment period - start',\n",
       "   'construction - start'],\n",
       "  'case_accel': ['wholesale trade - start', 'construction - start'],\n",
       "  'death': ['wholesale trade - start', 'construction - start'],\n",
       "  'death_accel': []},\n",
       " 11: {'case': ['wholesale trade - start',\n",
       "   'suspend elective dental procedures - start',\n",
       "   'aca special enrollment period - start',\n",
       "   'construction - start'],\n",
       "  'case_accel': ['wholesale trade - start',\n",
       "   'aca special enrollment period - start',\n",
       "   'construction - start'],\n",
       "  'death': ['wholesale trade - start', 'construction - start'],\n",
       "  'death_accel': []},\n",
       " 12: {'case': ['wholesale trade - start',\n",
       "   'suspend elective dental procedures - start',\n",
       "   'aca special enrollment period - start',\n",
       "   'construction - start'],\n",
       "  'case_accel': [],\n",
       "  'death': ['wholesale trade - start', 'construction - start'],\n",
       "  'death_accel': []},\n",
       " 13: {'case': ['wholesale trade - start',\n",
       "   'suspend elective dental procedures - start',\n",
       "   'aca special enrollment period - start',\n",
       "   'construction - start'],\n",
       "  'case_accel': ['wholesale trade - start', 'construction - start'],\n",
       "  'death': ['wholesale trade - start', 'construction - start'],\n",
       "  'death_accel': []},\n",
       " 14: {'case': ['wholesale trade - start',\n",
       "   'suspend elective dental procedures - start',\n",
       "   'aca special enrollment period - start',\n",
       "   'construction - start'],\n",
       "  'case_accel': [],\n",
       "  'death': ['gatherings - start',\n",
       "   'wholesale trade - start',\n",
       "   'construction - start'],\n",
       "  'death_accel': []},\n",
       " 15: {'case': ['wholesale trade - start',\n",
       "   'suspend elective dental procedures - start',\n",
       "   'aca special enrollment period - start',\n",
       "   'construction - start'],\n",
       "  'case_accel': ['wholesale trade - start', 'construction - start'],\n",
       "  'death': ['wholesale trade - start', 'construction - start'],\n",
       "  'death_accel': ['aca special enrollment period - start']},\n",
       " 16: {'case': ['wholesale trade - start',\n",
       "   'aca special enrollment period - start',\n",
       "   'construction - start'],\n",
       "  'case_accel': ['wholesale trade - start', 'construction - start'],\n",
       "  'death': ['wholesale trade - start', 'construction - start'],\n",
       "  'death_accel': []},\n",
       " 17: {'case': ['wholesale trade - start',\n",
       "   'aca special enrollment period - start',\n",
       "   'construction - start'],\n",
       "  'case_accel': ['wholesale trade - start', 'construction - start'],\n",
       "  'death': ['wholesale trade - start', 'construction - start'],\n",
       "  'death_accel': []},\n",
       " 18: {'case': ['wholesale trade - start',\n",
       "   'aca special enrollment period - start',\n",
       "   'construction - start'],\n",
       "  'case_accel': ['wholesale trade - start'],\n",
       "  'death': ['wholesale trade - start', 'construction - start'],\n",
       "  'death_accel': ['gatherings - start']},\n",
       " 19: {'case': ['wholesale trade - start',\n",
       "   'aca special enrollment period - start',\n",
       "   'construction - start'],\n",
       "  'case_accel': ['wholesale trade - start', 'construction - start'],\n",
       "  'death': ['wholesale trade - start', 'construction - start'],\n",
       "  'death_accel': []},\n",
       " 20: {'case': ['wholesale trade - start',\n",
       "   'aca special enrollment period - start',\n",
       "   'construction - start'],\n",
       "  'case_accel': ['wholesale trade - start', 'construction - start'],\n",
       "  'death': ['wholesale trade - start', 'construction - start'],\n",
       "  'death_accel': []},\n",
       " 21: {'case': ['wholesale trade - start',\n",
       "   'aca special enrollment period - start',\n",
       "   'construction - start'],\n",
       "  'case_accel': [],\n",
       "  'death': ['wholesale trade - start',\n",
       "   'aca special enrollment period - start',\n",
       "   'construction - start'],\n",
       "  'death_accel': []},\n",
       " 22: {'case': ['wholesale trade - start',\n",
       "   'aca special enrollment period - start',\n",
       "   'construction - start'],\n",
       "  'case_accel': [],\n",
       "  'death': ['gatherings - start',\n",
       "   'wholesale trade - start',\n",
       "   'aca special enrollment period - start',\n",
       "   'construction - start'],\n",
       "  'death_accel': []},\n",
       " 23: {'case': ['wholesale trade - start',\n",
       "   'aca special enrollment period - start',\n",
       "   'construction - start'],\n",
       "  'case_accel': [],\n",
       "  'death': ['wholesale trade - start', 'construction - start'],\n",
       "  'death_accel': []},\n",
       " 24: {'case': ['wholesale trade - start',\n",
       "   'aca special enrollment period - start',\n",
       "   'construction - start'],\n",
       "  'case_accel': [],\n",
       "  'death': ['wholesale trade - start'],\n",
       "  'death_accel': []},\n",
       " 25: {'case': ['wholesale trade - start',\n",
       "   'aca special enrollment period - start',\n",
       "   'construction - start'],\n",
       "  'case_accel': [],\n",
       "  'death': ['wholesale trade - start',\n",
       "   'aca special enrollment period - start'],\n",
       "  'death_accel': []},\n",
       " 26: {'case': ['wholesale trade - start',\n",
       "   'aca special enrollment period - start',\n",
       "   'construction - start'],\n",
       "  'case_accel': [],\n",
       "  'death': ['wholesale trade - start',\n",
       "   'aca special enrollment period - start'],\n",
       "  'death_accel': ['construction - start']},\n",
       " 27: {'case': ['wholesale trade - start',\n",
       "   'aca special enrollment period - start',\n",
       "   'construction - start'],\n",
       "  'case_accel': ['wholesale trade - start', 'construction - start'],\n",
       "  'death': ['wholesale trade - start',\n",
       "   'aca special enrollment period - start',\n",
       "   'construction - start'],\n",
       "  'death_accel': ['wholesale trade - start',\n",
       "   'libraries - start',\n",
       "   'construction - start']},\n",
       " 28: {'case': ['wholesale trade - start',\n",
       "   'aca special enrollment period - start',\n",
       "   'construction - start'],\n",
       "  'case_accel': ['wholesale trade - start', 'construction - start'],\n",
       "  'death': ['wholesale trade - start',\n",
       "   'aca special enrollment period - start',\n",
       "   'construction - start'],\n",
       "  'death_accel': []},\n",
       " 29: {'case': ['state of emergency - start',\n",
       "   'wholesale trade - start',\n",
       "   'aca special enrollment period - start',\n",
       "   'construction - start'],\n",
       "  'case_accel': ['wholesale trade - start', 'construction - start'],\n",
       "  'death': ['wholesale trade - start',\n",
       "   'aca special enrollment period - start',\n",
       "   'construction - start'],\n",
       "  'death_accel': []},\n",
       " 30: {'case': ['state of emergency - start',\n",
       "   'wholesale trade - start',\n",
       "   'aca special enrollment period - start',\n",
       "   'construction - start'],\n",
       "  'case_accel': ['wholesale trade - start', 'construction - start'],\n",
       "  'death': ['wholesale trade - start',\n",
       "   'aca special enrollment period - start',\n",
       "   'construction - start'],\n",
       "  'death_accel': ['wholesale trade - start', 'construction - start']}}"
      ]
     },
     "execution_count": 10,
     "metadata": {},
     "output_type": "execute_result"
    }
   ],
   "source": [
    "results"
   ]
  },
  {
   "cell_type": "code",
   "execution_count": 11,
   "metadata": {},
   "outputs": [],
   "source": [
    "cols_of_interest = ['case',  'case_accel', 'death', 'death_accel']\n",
    "results_counts = {num: {\n",
    "    col: len(results[num][col]) for col in cols_of_interest\n",
    "} for num in results.keys()}"
   ]
  },
  {
   "cell_type": "code",
   "execution_count": 12,
   "metadata": {},
   "outputs": [
    {
     "data": {
      "text/plain": [
       "{1: {'case': 2, 'case_accel': 2, 'death': 0, 'death_accel': 2},\n",
       " 2: {'case': 2, 'case_accel': 2, 'death': 2, 'death_accel': 2},\n",
       " 3: {'case': 2, 'case_accel': 2, 'death': 2, 'death_accel': 0},\n",
       " 4: {'case': 4, 'case_accel': 2, 'death': 2, 'death_accel': 1},\n",
       " 5: {'case': 2, 'case_accel': 2, 'death': 3, 'death_accel': 0},\n",
       " 6: {'case': 2, 'case_accel': 0, 'death': 3, 'death_accel': 0},\n",
       " 7: {'case': 2, 'case_accel': 4, 'death': 2, 'death_accel': 2},\n",
       " 8: {'case': 3, 'case_accel': 2, 'death': 2, 'death_accel': 2},\n",
       " 9: {'case': 3, 'case_accel': 2, 'death': 2, 'death_accel': 0},\n",
       " 10: {'case': 4, 'case_accel': 2, 'death': 2, 'death_accel': 0},\n",
       " 11: {'case': 4, 'case_accel': 3, 'death': 2, 'death_accel': 0},\n",
       " 12: {'case': 4, 'case_accel': 0, 'death': 2, 'death_accel': 0},\n",
       " 13: {'case': 4, 'case_accel': 2, 'death': 2, 'death_accel': 0},\n",
       " 14: {'case': 4, 'case_accel': 0, 'death': 3, 'death_accel': 0},\n",
       " 15: {'case': 4, 'case_accel': 2, 'death': 2, 'death_accel': 1},\n",
       " 16: {'case': 3, 'case_accel': 2, 'death': 2, 'death_accel': 0},\n",
       " 17: {'case': 3, 'case_accel': 2, 'death': 2, 'death_accel': 0},\n",
       " 18: {'case': 3, 'case_accel': 1, 'death': 2, 'death_accel': 1},\n",
       " 19: {'case': 3, 'case_accel': 2, 'death': 2, 'death_accel': 0},\n",
       " 20: {'case': 3, 'case_accel': 2, 'death': 2, 'death_accel': 0},\n",
       " 21: {'case': 3, 'case_accel': 0, 'death': 3, 'death_accel': 0},\n",
       " 22: {'case': 3, 'case_accel': 0, 'death': 4, 'death_accel': 0},\n",
       " 23: {'case': 3, 'case_accel': 0, 'death': 2, 'death_accel': 0},\n",
       " 24: {'case': 3, 'case_accel': 0, 'death': 1, 'death_accel': 0},\n",
       " 25: {'case': 3, 'case_accel': 0, 'death': 2, 'death_accel': 0},\n",
       " 26: {'case': 3, 'case_accel': 0, 'death': 2, 'death_accel': 1},\n",
       " 27: {'case': 3, 'case_accel': 2, 'death': 3, 'death_accel': 3},\n",
       " 28: {'case': 3, 'case_accel': 2, 'death': 3, 'death_accel': 0},\n",
       " 29: {'case': 4, 'case_accel': 2, 'death': 3, 'death_accel': 0},\n",
       " 30: {'case': 4, 'case_accel': 2, 'death': 3, 'death_accel': 2}}"
      ]
     },
     "execution_count": 12,
     "metadata": {},
     "output_type": "execute_result"
    }
   ],
   "source": [
    "results_counts"
   ]
  }
 ],
 "metadata": {
  "kernelspec": {
   "display_name": "Python 3 (ipykernel)",
   "language": "python",
   "name": "python3"
  },
  "language_info": {
   "codemirror_mode": {
    "name": "ipython",
    "version": 3
   },
   "file_extension": ".py",
   "mimetype": "text/x-python",
   "name": "python",
   "nbconvert_exporter": "python",
   "pygments_lexer": "ipython3",
   "version": "3.9.0"
  }
 },
 "nbformat": 4,
 "nbformat_minor": 2
}
