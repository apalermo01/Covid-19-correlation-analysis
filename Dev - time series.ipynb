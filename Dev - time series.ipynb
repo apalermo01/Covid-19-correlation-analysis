{
 "cells": [
  {
   "cell_type": "markdown",
   "id": "75344462-0c40-4b8b-91be-2276d62a0359",
   "metadata": {},
   "source": [
    "Use actual time series tools to investigate covid data\n",
    "\n",
    "Work up to ARMIA with intervention"
   ]
  },
  {
   "cell_type": "code",
   "execution_count": 56,
   "id": "16d81cda-c95a-4b26-9305-88eb68ddde54",
   "metadata": {},
   "outputs": [],
   "source": [
    "import pandas as pd\n",
    "from covid_project.data_utils import clean_covid_data, clean_policy_data, prep_policy_data, prepare_new_df, prepare_data\n",
    "from tqdm.notebook import tqdm\n",
    "import matplotlib.pyplot as plt\n",
    "from statsmodels.graphics.tsaplots import plot_acf, plot_pacf\n",
    "import os\n",
    "from tqdm.notebook import tqdm\n",
    "import warnings"
   ]
  },
  {
   "cell_type": "code",
   "execution_count": 2,
   "id": "aa7733e0-804a-49ce-8c2f-915cab16a2d0",
   "metadata": {},
   "outputs": [
    {
     "name": "stderr",
     "output_type": "stream",
     "text": [
      "/home/alex/Documents/github/Covid-19-correlation-analysis/covid_project/data_utils.py:361: FutureWarning: A value is trying to be set on a copy of a DataFrame or Series through chained assignment using an inplace method.\n",
      "The behavior will change in pandas 3.0. This inplace method will never work because the intermediate object on which we are setting values always behaves as a copy.\n",
      "\n",
      "For example, when doing 'df[col].method(value, inplace=True)', try using 'df.method({col: value}, inplace=True)' or df[col] = df[col].method(value) instead, to perform the operation inplace on the original object.\n",
      "\n",
      "\n",
      "  df['county'].replace(to_replace=county_match, value='', inplace=True)\n",
      "/home/alex/Documents/github/Covid-19-correlation-analysis/covid_project/data_utils.py:362: FutureWarning: A value is trying to be set on a copy of a DataFrame or Series through chained assignment using an inplace method.\n",
      "The behavior will change in pandas 3.0. This inplace method will never work because the intermediate object on which we are setting values always behaves as a copy.\n",
      "\n",
      "For example, when doing 'df[col].method(value, inplace=True)', try using 'df.method({col: value}, inplace=True)' or df[col] = df[col].method(value) instead, to perform the operation inplace on the original object.\n",
      "\n",
      "\n",
      "  df['county'].replace(to_replace=munici_match, value='', inplace=True)\n",
      "/home/alex/Documents/github/Covid-19-correlation-analysis/covid_project/data_utils.py:363: FutureWarning: A value is trying to be set on a copy of a DataFrame or Series through chained assignment using an inplace method.\n",
      "The behavior will change in pandas 3.0. This inplace method will never work because the intermediate object on which we are setting values always behaves as a copy.\n",
      "\n",
      "For example, when doing 'df[col].method(value, inplace=True)', try using 'df.method({col: value}, inplace=True)' or df[col] = df[col].method(value) instead, to perform the operation inplace on the original object.\n",
      "\n",
      "\n",
      "  df['county'].replace(to_replace=city_match, value='', inplace=True)\n",
      "/home/alex/Documents/github/Covid-19-correlation-analysis/covid_project/data_utils.py:364: FutureWarning: A value is trying to be set on a copy of a DataFrame or Series through chained assignment using an inplace method.\n",
      "The behavior will change in pandas 3.0. This inplace method will never work because the intermediate object on which we are setting values always behaves as a copy.\n",
      "\n",
      "For example, when doing 'df[col].method(value, inplace=True)', try using 'df.method({col: value}, inplace=True)' or df[col] = df[col].method(value) instead, to perform the operation inplace on the original object.\n",
      "\n",
      "\n",
      "  df['county'].replace(to_replace=Borough_match, value='', inplace=True)\n",
      "/home/alex/Documents/github/Covid-19-correlation-analysis/covid_project/data_utils.py:398: FutureWarning: A value is trying to be set on a copy of a DataFrame or Series through chained assignment using an inplace method.\n",
      "The behavior will change in pandas 3.0. This inplace method will never work because the intermediate object on which we are setting values always behaves as a copy.\n",
      "\n",
      "For example, when doing 'df[col].method(value, inplace=True)', try using 'df.method({col: value}, inplace=True)' or df[col] = df[col].method(value) instead, to perform the operation inplace on the original object.\n",
      "\n",
      "\n",
      "  df['policy_type'].replace(to_replace=key, value=policy_replacements_dict[key], inplace=True)\n"
     ]
    }
   ],
   "source": [
    "case_data = clean_covid_data()\n",
    "policy_data = clean_policy_data()"
   ]
  },
  {
   "cell_type": "code",
   "execution_count": 3,
   "id": "0380b8c8-d02f-4ba0-96c8-b6762e943201",
   "metadata": {},
   "outputs": [
    {
     "data": {
      "text/html": [
       "<div>\n",
       "<style scoped>\n",
       "    .dataframe tbody tr th:only-of-type {\n",
       "        vertical-align: middle;\n",
       "    }\n",
       "\n",
       "    .dataframe tbody tr th {\n",
       "        vertical-align: top;\n",
       "    }\n",
       "\n",
       "    .dataframe thead th {\n",
       "        text-align: right;\n",
       "    }\n",
       "</style>\n",
       "<table border=\"1\" class=\"dataframe\">\n",
       "  <thead>\n",
       "    <tr style=\"text-align: right;\">\n",
       "      <th></th>\n",
       "      <th>uid</th>\n",
       "      <th>location_type</th>\n",
       "      <th>fips_code</th>\n",
       "      <th>county</th>\n",
       "      <th>state</th>\n",
       "      <th>date</th>\n",
       "      <th>total_population</th>\n",
       "      <th>cumulative_cases</th>\n",
       "      <th>cumulative_cases_1e6</th>\n",
       "      <th>cumulative_deaths</th>\n",
       "      <th>cumulative_deaths_1e6</th>\n",
       "      <th>new_cases</th>\n",
       "      <th>new_deaths</th>\n",
       "      <th>new_cases_1e6</th>\n",
       "      <th>new_deaths_1e6</th>\n",
       "      <th>new_cases_7day</th>\n",
       "      <th>new_deaths_7day</th>\n",
       "      <th>full_loc_name</th>\n",
       "      <th>new_cases_7day_1e6</th>\n",
       "      <th>new_deaths_7day_1e6</th>\n",
       "    </tr>\n",
       "  </thead>\n",
       "  <tbody>\n",
       "    <tr>\n",
       "      <th>91440</th>\n",
       "      <td>84001001</td>\n",
       "      <td>county</td>\n",
       "      <td>1001</td>\n",
       "      <td>autauga</td>\n",
       "      <td>Alabama</td>\n",
       "      <td>2020-01-22</td>\n",
       "      <td>55200</td>\n",
       "      <td>0</td>\n",
       "      <td>0.0</td>\n",
       "      <td>0</td>\n",
       "      <td>0.0</td>\n",
       "      <td>0</td>\n",
       "      <td>0</td>\n",
       "      <td>0.0</td>\n",
       "      <td>0.0</td>\n",
       "      <td>0.0</td>\n",
       "      <td>0.0</td>\n",
       "      <td>autauga, Alabama</td>\n",
       "      <td>0.0</td>\n",
       "      <td>0.0</td>\n",
       "    </tr>\n",
       "    <tr>\n",
       "      <th>91441</th>\n",
       "      <td>84001001</td>\n",
       "      <td>county</td>\n",
       "      <td>1001</td>\n",
       "      <td>autauga</td>\n",
       "      <td>Alabama</td>\n",
       "      <td>2020-01-23</td>\n",
       "      <td>55200</td>\n",
       "      <td>0</td>\n",
       "      <td>0.0</td>\n",
       "      <td>0</td>\n",
       "      <td>0.0</td>\n",
       "      <td>0</td>\n",
       "      <td>0</td>\n",
       "      <td>0.0</td>\n",
       "      <td>0.0</td>\n",
       "      <td>0.0</td>\n",
       "      <td>0.0</td>\n",
       "      <td>autauga, Alabama</td>\n",
       "      <td>0.0</td>\n",
       "      <td>0.0</td>\n",
       "    </tr>\n",
       "    <tr>\n",
       "      <th>91442</th>\n",
       "      <td>84001001</td>\n",
       "      <td>county</td>\n",
       "      <td>1001</td>\n",
       "      <td>autauga</td>\n",
       "      <td>Alabama</td>\n",
       "      <td>2020-01-24</td>\n",
       "      <td>55200</td>\n",
       "      <td>0</td>\n",
       "      <td>0.0</td>\n",
       "      <td>0</td>\n",
       "      <td>0.0</td>\n",
       "      <td>0</td>\n",
       "      <td>0</td>\n",
       "      <td>0.0</td>\n",
       "      <td>0.0</td>\n",
       "      <td>0.0</td>\n",
       "      <td>0.0</td>\n",
       "      <td>autauga, Alabama</td>\n",
       "      <td>0.0</td>\n",
       "      <td>0.0</td>\n",
       "    </tr>\n",
       "    <tr>\n",
       "      <th>91443</th>\n",
       "      <td>84001001</td>\n",
       "      <td>county</td>\n",
       "      <td>1001</td>\n",
       "      <td>autauga</td>\n",
       "      <td>Alabama</td>\n",
       "      <td>2020-01-25</td>\n",
       "      <td>55200</td>\n",
       "      <td>0</td>\n",
       "      <td>0.0</td>\n",
       "      <td>0</td>\n",
       "      <td>0.0</td>\n",
       "      <td>0</td>\n",
       "      <td>0</td>\n",
       "      <td>0.0</td>\n",
       "      <td>0.0</td>\n",
       "      <td>0.0</td>\n",
       "      <td>0.0</td>\n",
       "      <td>autauga, Alabama</td>\n",
       "      <td>0.0</td>\n",
       "      <td>0.0</td>\n",
       "    </tr>\n",
       "    <tr>\n",
       "      <th>91444</th>\n",
       "      <td>84001001</td>\n",
       "      <td>county</td>\n",
       "      <td>1001</td>\n",
       "      <td>autauga</td>\n",
       "      <td>Alabama</td>\n",
       "      <td>2020-01-26</td>\n",
       "      <td>55200</td>\n",
       "      <td>0</td>\n",
       "      <td>0.0</td>\n",
       "      <td>0</td>\n",
       "      <td>0.0</td>\n",
       "      <td>0</td>\n",
       "      <td>0</td>\n",
       "      <td>0.0</td>\n",
       "      <td>0.0</td>\n",
       "      <td>0.0</td>\n",
       "      <td>0.0</td>\n",
       "      <td>autauga, Alabama</td>\n",
       "      <td>0.0</td>\n",
       "      <td>0.0</td>\n",
       "    </tr>\n",
       "  </tbody>\n",
       "</table>\n",
       "</div>"
      ],
      "text/plain": [
       "            uid location_type  fips_code   county    state       date  \\\n",
       "91440  84001001        county       1001  autauga  Alabama 2020-01-22   \n",
       "91441  84001001        county       1001  autauga  Alabama 2020-01-23   \n",
       "91442  84001001        county       1001  autauga  Alabama 2020-01-24   \n",
       "91443  84001001        county       1001  autauga  Alabama 2020-01-25   \n",
       "91444  84001001        county       1001  autauga  Alabama 2020-01-26   \n",
       "\n",
       "       total_population  cumulative_cases  cumulative_cases_1e6  \\\n",
       "91440             55200                 0                   0.0   \n",
       "91441             55200                 0                   0.0   \n",
       "91442             55200                 0                   0.0   \n",
       "91443             55200                 0                   0.0   \n",
       "91444             55200                 0                   0.0   \n",
       "\n",
       "       cumulative_deaths  cumulative_deaths_1e6  new_cases  new_deaths  \\\n",
       "91440                  0                    0.0          0           0   \n",
       "91441                  0                    0.0          0           0   \n",
       "91442                  0                    0.0          0           0   \n",
       "91443                  0                    0.0          0           0   \n",
       "91444                  0                    0.0          0           0   \n",
       "\n",
       "       new_cases_1e6  new_deaths_1e6  new_cases_7day  new_deaths_7day  \\\n",
       "91440            0.0             0.0             0.0              0.0   \n",
       "91441            0.0             0.0             0.0              0.0   \n",
       "91442            0.0             0.0             0.0              0.0   \n",
       "91443            0.0             0.0             0.0              0.0   \n",
       "91444            0.0             0.0             0.0              0.0   \n",
       "\n",
       "          full_loc_name  new_cases_7day_1e6  new_deaths_7day_1e6  \n",
       "91440  autauga, Alabama                 0.0                  0.0  \n",
       "91441  autauga, Alabama                 0.0                  0.0  \n",
       "91442  autauga, Alabama                 0.0                  0.0  \n",
       "91443  autauga, Alabama                 0.0                  0.0  \n",
       "91444  autauga, Alabama                 0.0                  0.0  "
      ]
     },
     "execution_count": 3,
     "metadata": {},
     "output_type": "execute_result"
    }
   ],
   "source": [
    "case_data.head()"
   ]
  },
  {
   "cell_type": "code",
   "execution_count": 23,
   "id": "16d0b1f2-7be6-4717-8231-b7a1ac4c6055",
   "metadata": {},
   "outputs": [
    {
     "data": {
      "text/plain": [
       "Timestamp('2021-12-30 00:00:00')"
      ]
     },
     "execution_count": 23,
     "metadata": {},
     "output_type": "execute_result"
    }
   ],
   "source": [
    "case_data['date'].max()"
   ]
  },
  {
   "cell_type": "code",
   "execution_count": 4,
   "id": "a534dd46-c1e9-4d15-a5b5-6e85f7096dda",
   "metadata": {},
   "outputs": [
    {
     "data": {
      "text/html": [
       "<div>\n",
       "<style scoped>\n",
       "    .dataframe tbody tr th:only-of-type {\n",
       "        vertical-align: middle;\n",
       "    }\n",
       "\n",
       "    .dataframe tbody tr th {\n",
       "        vertical-align: top;\n",
       "    }\n",
       "\n",
       "    .dataframe thead th {\n",
       "        text-align: right;\n",
       "    }\n",
       "</style>\n",
       "<table border=\"1\" class=\"dataframe\">\n",
       "  <thead>\n",
       "    <tr style=\"text-align: right;\">\n",
       "      <th></th>\n",
       "      <th>state</th>\n",
       "      <th>policy_level</th>\n",
       "      <th>date</th>\n",
       "      <th>policy_type</th>\n",
       "      <th>start_stop</th>\n",
       "      <th>county</th>\n",
       "      <th>fips_code</th>\n",
       "    </tr>\n",
       "  </thead>\n",
       "  <tbody>\n",
       "    <tr>\n",
       "      <th>1</th>\n",
       "      <td>Mississippi</td>\n",
       "      <td>county</td>\n",
       "      <td>2020-07-20</td>\n",
       "      <td>outdoor and recreation</td>\n",
       "      <td>stop</td>\n",
       "      <td>sunflower</td>\n",
       "      <td>28133</td>\n",
       "    </tr>\n",
       "    <tr>\n",
       "      <th>3</th>\n",
       "      <td>Missouri</td>\n",
       "      <td>state</td>\n",
       "      <td>2020-06-15</td>\n",
       "      <td>non-essential businesses</td>\n",
       "      <td>stop</td>\n",
       "      <td>statewide</td>\n",
       "      <td>29</td>\n",
       "    </tr>\n",
       "    <tr>\n",
       "      <th>5</th>\n",
       "      <td>Georgia</td>\n",
       "      <td>county</td>\n",
       "      <td>2020-04-30</td>\n",
       "      <td>childcare (k-12)</td>\n",
       "      <td>stop</td>\n",
       "      <td>fulton</td>\n",
       "      <td>13121</td>\n",
       "    </tr>\n",
       "    <tr>\n",
       "      <th>6</th>\n",
       "      <td>Missouri</td>\n",
       "      <td>county</td>\n",
       "      <td>2020-05-31</td>\n",
       "      <td>entertainment</td>\n",
       "      <td>stop</td>\n",
       "      <td>jackson</td>\n",
       "      <td>29095</td>\n",
       "    </tr>\n",
       "    <tr>\n",
       "      <th>7</th>\n",
       "      <td>Missouri</td>\n",
       "      <td>state</td>\n",
       "      <td>2021-08-31</td>\n",
       "      <td>mask requirement</td>\n",
       "      <td>stop</td>\n",
       "      <td>statewide</td>\n",
       "      <td>29</td>\n",
       "    </tr>\n",
       "  </tbody>\n",
       "</table>\n",
       "</div>"
      ],
      "text/plain": [
       "         state policy_level       date               policy_type start_stop  \\\n",
       "1  Mississippi       county 2020-07-20    outdoor and recreation       stop   \n",
       "3     Missouri        state 2020-06-15  non-essential businesses       stop   \n",
       "5      Georgia       county 2020-04-30          childcare (k-12)       stop   \n",
       "6     Missouri       county 2020-05-31             entertainment       stop   \n",
       "7     Missouri        state 2021-08-31          mask requirement       stop   \n",
       "\n",
       "      county  fips_code  \n",
       "1  sunflower      28133  \n",
       "3  statewide         29  \n",
       "5     fulton      13121  \n",
       "6    jackson      29095  \n",
       "7  statewide         29  "
      ]
     },
     "execution_count": 4,
     "metadata": {},
     "output_type": "execute_result"
    }
   ],
   "source": [
    "policy_data.head()"
   ]
  },
  {
   "cell_type": "markdown",
   "id": "d86e5e2a-a55b-4b72-99c0-913f7fcf8b28",
   "metadata": {},
   "source": [
    "# part 1 - start by focusing on one county"
   ]
  },
  {
   "cell_type": "code",
   "execution_count": 16,
   "id": "4d25ad87-9cfc-4870-b36b-99eb4dde82ee",
   "metadata": {},
   "outputs": [
    {
     "data": {
      "text/plain": [
       "603504      0.00\n",
       "603505      0.00\n",
       "603506      0.00\n",
       "603507      0.00\n",
       "603508      0.00\n",
       "           ...  \n",
       "604208      0.00\n",
       "604209    492.61\n",
       "604210    169.98\n",
       "604211    265.58\n",
       "604212    292.20\n",
       "Name: new_cases_1e6, Length: 709, dtype: float64"
      ]
     },
     "execution_count": 16,
     "metadata": {},
     "output_type": "execute_result"
    }
   ],
   "source": [
    "case_df = case_data[(case_data['county'] == 'fulton') & (case_data['state']=='Georgia')]['new_cases_1e6']\n",
    "case_df"
   ]
  },
  {
   "cell_type": "code",
   "execution_count": 17,
   "id": "1b7decd1-3d8a-498c-bd04-cfae274154d1",
   "metadata": {},
   "outputs": [
    {
     "data": {
      "text/plain": [
       "[<matplotlib.lines.Line2D at 0x70beb251e4e0>]"
      ]
     },
     "execution_count": 17,
     "metadata": {},
     "output_type": "execute_result"
    },
    {
     "data": {
      "image/png": "[encoded data removed]",
      "text/plain": [
       "<Figure size 640x480 with 1 Axes>"
      ]
     },
     "metadata": {},
     "output_type": "display_data"
    }
   ],
   "source": [
    "plt.plot(case_df)"
   ]
  },
  {
   "cell_type": "markdown",
   "id": "b268ca3d-eb01-47d7-adfb-7be90ab3c773",
   "metadata": {},
   "source": [
    "## ACH plot"
   ]
  },
  {
   "cell_type": "code",
   "execution_count": 21,
   "id": "f6a75dc3-c7d8-4347-9cb2-a4922dd0bd7e",
   "metadata": {},
   "outputs": [
    {
     "data": {
      "image/png": "[encoded data removed]",
      "text/plain": [
       "<Figure size 640x480 with 1 Axes>"
      ]
     },
     "metadata": {},
     "output_type": "display_data"
    },
    {
     "data": {
      "image/png": "[encoded data removed]",
      "text/plain": [
       "<Figure size 640x480 with 1 Axes>"
      ]
     },
     "metadata": {},
     "output_type": "display_data"
    }
   ],
   "source": [
    "_ = plot_acf(case_df)\n",
    "_ = plot_pacf(case_df)"
   ]
  },
  {
   "cell_type": "markdown",
   "id": "c997f992-c851-4a3a-a8b1-bba7f6a21c7e",
   "metadata": {},
   "source": [
    "looks like we do have some auto-correlation, so not stationary"
   ]
  },
  {
   "cell_type": "code",
   "execution_count": 22,
   "id": "140d41bd-0af5-47fe-a8a6-a0f5f288a43d",
   "metadata": {},
   "outputs": [
    {
     "data": {
      "image/png": "[encoded data removed]",
      "text/plain": [
       "<Figure size 640x480 with 1 Axes>"
      ]
     },
     "metadata": {},
     "output_type": "display_data"
    },
    {
     "data": {
      "image/png": "[encoded data removed]",
      "text/plain": [
       "<Figure size 640x480 with 1 Axes>"
      ]
     },
     "metadata": {},
     "output_type": "display_data"
    }
   ],
   "source": [
    "case_df_diff = case_df.diff().dropna()\n",
    "_ = plot_acf(case_df_diff)\n",
    "_ = plot_pacf(case_df_diff)"
   ]
  },
  {
   "cell_type": "markdown",
   "id": "fc070524-9290-497f-a8a5-17bed5169d35",
   "metadata": {},
   "source": [
    "## Try running ARIMA straight from statsmodels"
   ]
  },
  {
   "cell_type": "code",
   "execution_count": 24,
   "id": "33819629-77c7-4669-8c49-d2da9685b817",
   "metadata": {},
   "outputs": [],
   "source": [
    "from statsmodels.tsa.arima.model import ARIMA"
   ]
  },
  {
   "cell_type": "code",
   "execution_count": 28,
   "id": "389ee4f1-f257-45f9-80d2-eba71e32ffb6",
   "metadata": {},
   "outputs": [
    {
     "name": "stdout",
     "output_type": "stream",
     "text": [
      "const       21.859290\n",
      "sigma2    1189.787697\n",
      "dtype: float64\n"
     ]
    },
    {
     "name": "stderr",
     "output_type": "stream",
     "text": [
      "/home/alex/Documents/github/Covid-19-correlation-analysis/env/lib/python3.12/site-packages/statsmodels/tsa/base/tsa_model.py:473: ValueWarning: An unsupported index was provided and will be ignored when e.g. forecasting.\n",
      "  self._init_dates(dates, freq)\n",
      "/home/alex/Documents/github/Covid-19-correlation-analysis/env/lib/python3.12/site-packages/statsmodels/tsa/base/tsa_model.py:473: ValueWarning: An unsupported index was provided and will be ignored when e.g. forecasting.\n",
      "  self._init_dates(dates, freq)\n",
      "/home/alex/Documents/github/Covid-19-correlation-analysis/env/lib/python3.12/site-packages/statsmodels/tsa/base/tsa_model.py:473: ValueWarning: An unsupported index was provided and will be ignored when e.g. forecasting.\n",
      "  self._init_dates(dates, freq)\n"
     ]
    }
   ],
   "source": [
    "model = ARIMA(case_df).fit()\n",
    "print(model.params)\n"
   ]
  },
  {
   "cell_type": "markdown",
   "id": "2090536e-be6d-422d-96f0-c88e914b6f72",
   "metadata": {},
   "source": [
    "# Now try running ARIMA with info about policies"
   ]
  },
  {
   "cell_type": "code",
   "execution_count": 30,
   "id": "f069d99d-2b6c-45a8-93c8-6f8da7ccffc9",
   "metadata": {},
   "outputs": [
    {
     "name": "stderr",
     "output_type": "stream",
     "text": [
      "/home/alex/Documents/github/Covid-19-correlation-analysis/covid_project/data_utils.py:792: FutureWarning: A value is trying to be set on a copy of a DataFrame or Series through chained assignment using an inplace method.\n",
      "The behavior will change in pandas 3.0. This inplace method will never work because the intermediate object on which we are setting values always behaves as a copy.\n",
      "\n",
      "For example, when doing 'df[col].method(value, inplace=True)', try using 'df.method({col: value}, inplace=True)' or df[col] = df[col].method(value) instead, to perform the operation inplace on the original object.\n",
      "\n",
      "\n",
      "  proc_policy_data['policy_type'].replace(to_replace=key, value=policy_dict[key], inplace=True)\n"
     ]
    }
   ],
   "source": [
    "case_data = clean_covid_data()\n",
    "policy_data = clean_policy_data()\n",
    "\n",
    "policy_dict = {\n",
    "    'aca special enrollment period' : 'medical', \n",
    "    'agriculture' : 'agriculture',\n",
    "    'allow audio only telehealth' : 'medical', \n",
    "    'alternative care facilities' : 'medical', \n",
    "    'bars' : 'entertainement', \n",
    "    'childcare (k-12)' : 'childcare', \n",
    "    'colleges & universities' : 'education',\n",
    "    'construction' : 'construction', \n",
    "    'day camps/overnight camps' : 'camps', \n",
    "    'day care' : 'childcare',\n",
    "    'education' : 'education', \n",
    "    'election' : 'election', \n",
    "    'entertainment' : 'entertainment', \n",
    "    'executive order' : 'executive order',\n",
    "    'expand medicaid telehealth coverage' : 'medical', \n",
    "    'food and drink' : 'entertainment',\n",
    "    'froze mortgage payments' : 'housing', \n",
    "    'gatherings' : 'gatherings', \n",
    "    'grace period / security deposit for rent' : 'housing', \n",
    "    'graduation' : 'graduation',\n",
    "    'graduation ceremony guidelines' : 'graduation', \n",
    "    'gyms' : 'gyms', \n",
    "    'health risk status' : 'medical',\n",
    "    'higher education' : 'education', \n",
    "    'houses of worship' : 'houses of worship', \n",
    "    'libraries' : 'education',\n",
    "    'mandate face masks in businesses' : 'mask mandate',\n",
    "    'mandate face masks in public spaces' : 'mask mandate', \n",
    "    'manufacturing' : 'manufacturing',\n",
    "    'mask requirement' : 'mask mandate', \n",
    "    'medical' : 'medical', \n",
    "    'modify medicaid requirements' : 'medical',\n",
    "    'museums' : 'education', \n",
    "    'non-essential businesses' : 'non-essential businesses', \n",
    "    'nursing home visitations' : 'nursing homes',\n",
    "    'nursing homes' : 'nursing homes', \n",
    "    'order freezing utility shut offs' : 'housing',\n",
    "    'outdoor and recreation' : 'outdoor and recreation', \n",
    "    'personal care' : 'personal care', \n",
    "    'public gatherings' : 'gatherings',\n",
    "    'public health advisory system' : 'medical', \n",
    "    'quarantine' : 'shelter in place',\n",
    "    'residential overnight camps' : 'camps',\n",
    "    'resumed elective medical procedures' : 'medical', \n",
    "    'shelter in place' : 'shelter in place',\n",
    "    'state of emergency' : 'state of emergency', \n",
    "    'state of emergency/funds' : 'state of emergency',\n",
    "    'stop enforcement of evictions' : 'housing', \n",
    "    'stop initiation of evictions' : 'housing',\n",
    "    'suspend elective dental procedures' : 'medical', \n",
    "    'training jobs' : 'training jobs', \n",
    "    'travel' : 'travel',\n",
    "    'traveler from out of state' : 'travel', \n",
    "    'updated guidelines' : 'updated guidelines',\n",
    "    'wholesale trade' : 'wholesale trade',\n",
    "}\n",
    "\n",
    "policy_data_prepped = prep_policy_data(\n",
    "    policy_data=policy_data,\n",
    "    policy_dict=policy_dict,\n",
    "    min_samples=3)\n",
    "\n",
    "all_policies = policy_data_prepped['full_policy'].unique()"
   ]
  },
  {
   "cell_type": "code",
   "execution_count": 32,
   "id": "35c89501-604b-4b0e-adce-872a37a222e6",
   "metadata": {},
   "outputs": [
    {
     "data": {
      "text/plain": [
       "array(['outdoor and recreation - stop - county',\n",
       "       'non-essential businesses - stop - state',\n",
       "       'childcare - stop - county', 'entertainment - stop - county',\n",
       "       'mask mandate - stop - state',\n",
       "       'non-essential businesses - stop - county',\n",
       "       'personal care - stop - state', 'shelter in place - stop - county',\n",
       "       'gyms - stop - state', 'outdoor and recreation - stop - state',\n",
       "       'houses of worship - stop - state',\n",
       "       'houses of worship - stop - county', 'childcare - stop - state',\n",
       "       'shelter in place - stop - state', 'entertainment - stop - state',\n",
       "       'manufacturing - stop - state', 'manufacturing - stop - county',\n",
       "       'mask mandate - stop - county', 'personal care - stop - county',\n",
       "       'executive order - stop - state', 'manufacturing - start - state',\n",
       "       'mask mandate - start - county', 'entertainment - start - county',\n",
       "       'childcare - start - state', 'childcare - start - county',\n",
       "       'gyms - start - state', 'houses of worship - start - state',\n",
       "       'outdoor and recreation - start - county',\n",
       "       'shelter in place - start - county', 'medical - start - county',\n",
       "       'non-essential businesses - start - state',\n",
       "       'mask mandate - start - state', 'housing - start - state',\n",
       "       'medical - start - state',\n",
       "       'non-essential businesses - start - county',\n",
       "       'state of emergency - start - state',\n",
       "       'houses of worship - start - county',\n",
       "       'outdoor and recreation - start - state',\n",
       "       'wholesale trade - start - county',\n",
       "       'entertainment - start - state',\n",
       "       'shelter in place - start - state',\n",
       "       'nursing homes - start - state', 'manufacturing - start - county',\n",
       "       'personal care - start - state', 'travel - start - state',\n",
       "       'gatherings - start - state', 'education - start - state',\n",
       "       'personal care - start - county', 'construction - start - county',\n",
       "       'executive order - start - state'], dtype=object)"
      ]
     },
     "execution_count": 32,
     "metadata": {},
     "output_type": "execute_result"
    }
   ],
   "source": [
    "all_policies"
   ]
  },
  {
   "cell_type": "code",
   "execution_count": 34,
   "id": "b13df195-779f-4d4c-943a-35bea7e30a34",
   "metadata": {},
   "outputs": [],
   "source": [
    "new_df = prepare_new_df(case_data)"
   ]
  },
  {
   "cell_type": "code",
   "execution_count": 35,
   "id": "a2502f65-224c-4883-9d65-82383ae0273b",
   "metadata": {},
   "outputs": [
    {
     "data": {
      "text/html": [
       "<div>\n",
       "<style scoped>\n",
       "    .dataframe tbody tr th:only-of-type {\n",
       "        vertical-align: middle;\n",
       "    }\n",
       "\n",
       "    .dataframe tbody tr th {\n",
       "        vertical-align: top;\n",
       "    }\n",
       "\n",
       "    .dataframe thead tr th {\n",
       "        text-align: left;\n",
       "    }\n",
       "</style>\n",
       "<table border=\"1\" class=\"dataframe\">\n",
       "  <thead>\n",
       "    <tr>\n",
       "      <th></th>\n",
       "      <th colspan=\"8\" halign=\"left\">info</th>\n",
       "    </tr>\n",
       "    <tr>\n",
       "      <th></th>\n",
       "      <th>location_type</th>\n",
       "      <th>state</th>\n",
       "      <th>county</th>\n",
       "      <th>date</th>\n",
       "      <th>new_cases_1e6</th>\n",
       "      <th>new_deaths_1e6</th>\n",
       "      <th>new_cases_7day_1e6</th>\n",
       "      <th>new_deaths_7day_1e6</th>\n",
       "    </tr>\n",
       "  </thead>\n",
       "  <tbody>\n",
       "    <tr>\n",
       "      <th>91440</th>\n",
       "      <td>county</td>\n",
       "      <td>Alabama</td>\n",
       "      <td>autauga</td>\n",
       "      <td>2020-01-22</td>\n",
       "      <td>0.00</td>\n",
       "      <td>0.0</td>\n",
       "      <td>0.000000</td>\n",
       "      <td>0.0</td>\n",
       "    </tr>\n",
       "    <tr>\n",
       "      <th>91441</th>\n",
       "      <td>county</td>\n",
       "      <td>Alabama</td>\n",
       "      <td>autauga</td>\n",
       "      <td>2020-01-23</td>\n",
       "      <td>0.00</td>\n",
       "      <td>0.0</td>\n",
       "      <td>0.000000</td>\n",
       "      <td>0.0</td>\n",
       "    </tr>\n",
       "    <tr>\n",
       "      <th>91442</th>\n",
       "      <td>county</td>\n",
       "      <td>Alabama</td>\n",
       "      <td>autauga</td>\n",
       "      <td>2020-01-24</td>\n",
       "      <td>0.00</td>\n",
       "      <td>0.0</td>\n",
       "      <td>0.000000</td>\n",
       "      <td>0.0</td>\n",
       "    </tr>\n",
       "    <tr>\n",
       "      <th>91443</th>\n",
       "      <td>county</td>\n",
       "      <td>Alabama</td>\n",
       "      <td>autauga</td>\n",
       "      <td>2020-01-25</td>\n",
       "      <td>0.00</td>\n",
       "      <td>0.0</td>\n",
       "      <td>0.000000</td>\n",
       "      <td>0.0</td>\n",
       "    </tr>\n",
       "    <tr>\n",
       "      <th>91444</th>\n",
       "      <td>county</td>\n",
       "      <td>Alabama</td>\n",
       "      <td>autauga</td>\n",
       "      <td>2020-01-26</td>\n",
       "      <td>0.00</td>\n",
       "      <td>0.0</td>\n",
       "      <td>0.000000</td>\n",
       "      <td>0.0</td>\n",
       "    </tr>\n",
       "    <tr>\n",
       "      <th>...</th>\n",
       "      <td>...</td>\n",
       "      <td>...</td>\n",
       "      <td>...</td>\n",
       "      <td>...</td>\n",
       "      <td>...</td>\n",
       "      <td>...</td>\n",
       "      <td>...</td>\n",
       "      <td>...</td>\n",
       "    </tr>\n",
       "    <tr>\n",
       "      <th>3684593</th>\n",
       "      <td>county</td>\n",
       "      <td>Wyoming</td>\n",
       "      <td>weston</td>\n",
       "      <td>2021-12-26</td>\n",
       "      <td>0.00</td>\n",
       "      <td>0.0</td>\n",
       "      <td>20.140845</td>\n",
       "      <td>0.0</td>\n",
       "    </tr>\n",
       "    <tr>\n",
       "      <th>3684594</th>\n",
       "      <td>county</td>\n",
       "      <td>Wyoming</td>\n",
       "      <td>weston</td>\n",
       "      <td>2021-12-27</td>\n",
       "      <td>14.08</td>\n",
       "      <td>0.0</td>\n",
       "      <td>12.112676</td>\n",
       "      <td>0.0</td>\n",
       "    </tr>\n",
       "    <tr>\n",
       "      <th>3684595</th>\n",
       "      <td>county</td>\n",
       "      <td>Wyoming</td>\n",
       "      <td>weston</td>\n",
       "      <td>2021-12-28</td>\n",
       "      <td>28.17</td>\n",
       "      <td>0.0</td>\n",
       "      <td>12.112676</td>\n",
       "      <td>0.0</td>\n",
       "    </tr>\n",
       "    <tr>\n",
       "      <th>3684596</th>\n",
       "      <td>county</td>\n",
       "      <td>Wyoming</td>\n",
       "      <td>weston</td>\n",
       "      <td>2021-12-29</td>\n",
       "      <td>42.25</td>\n",
       "      <td>0.0</td>\n",
       "      <td>18.169014</td>\n",
       "      <td>0.0</td>\n",
       "    </tr>\n",
       "    <tr>\n",
       "      <th>3684597</th>\n",
       "      <td>county</td>\n",
       "      <td>Wyoming</td>\n",
       "      <td>weston</td>\n",
       "      <td>2021-12-30</td>\n",
       "      <td>28.17</td>\n",
       "      <td>0.0</td>\n",
       "      <td>16.056338</td>\n",
       "      <td>0.0</td>\n",
       "    </tr>\n",
       "  </tbody>\n",
       "</table>\n",
       "<p>2228387 rows × 8 columns</p>\n",
       "</div>"
      ],
      "text/plain": [
       "                 info                                             \\\n",
       "        location_type    state   county       date new_cases_1e6   \n",
       "91440          county  Alabama  autauga 2020-01-22          0.00   \n",
       "91441          county  Alabama  autauga 2020-01-23          0.00   \n",
       "91442          county  Alabama  autauga 2020-01-24          0.00   \n",
       "91443          county  Alabama  autauga 2020-01-25          0.00   \n",
       "91444          county  Alabama  autauga 2020-01-26          0.00   \n",
       "...               ...      ...      ...        ...           ...   \n",
       "3684593        county  Wyoming   weston 2021-12-26          0.00   \n",
       "3684594        county  Wyoming   weston 2021-12-27         14.08   \n",
       "3684595        county  Wyoming   weston 2021-12-28         28.17   \n",
       "3684596        county  Wyoming   weston 2021-12-29         42.25   \n",
       "3684597        county  Wyoming   weston 2021-12-30         28.17   \n",
       "\n",
       "                                                               \n",
       "        new_deaths_1e6 new_cases_7day_1e6 new_deaths_7day_1e6  \n",
       "91440              0.0           0.000000                 0.0  \n",
       "91441              0.0           0.000000                 0.0  \n",
       "91442              0.0           0.000000                 0.0  \n",
       "91443              0.0           0.000000                 0.0  \n",
       "91444              0.0           0.000000                 0.0  \n",
       "...                ...                ...                 ...  \n",
       "3684593            0.0          20.140845                 0.0  \n",
       "3684594            0.0          12.112676                 0.0  \n",
       "3684595            0.0          12.112676                 0.0  \n",
       "3684596            0.0          18.169014                 0.0  \n",
       "3684597            0.0          16.056338                 0.0  \n",
       "\n",
       "[2228387 rows x 8 columns]"
      ]
     },
     "execution_count": 35,
     "metadata": {},
     "output_type": "execute_result"
    }
   ],
   "source": [
    "new_df"
   ]
  },
  {
   "cell_type": "code",
   "execution_count": 36,
   "id": "08a1c21b-a185-4873-80b1-0c9ba7f8f8ad",
   "metadata": {},
   "outputs": [
    {
     "name": "stderr",
     "output_type": "stream",
     "text": [
      "/home/alex/Documents/github/Covid-19-correlation-analysis/covid_project/data_utils.py:898: FutureWarning: Downcasting object dtype arrays on .fillna, .ffill, .bfill is deprecated and will change in a future version. Call result.infer_objects(copy=False) instead. To opt-in to the future behavior, set `pd.set_option('future.no_silent_downcasting', True)`\n",
      "  new_df = new_df.fillna(0)\n"
     ]
    },
    {
     "data": {
      "application/vnd.jupyter.widget-view+json": {
       "model_id": "2939076931544e1b8fc2b09e9dc46b09",
       "version_major": 2,
       "version_minor": 0
      },
      "text/plain": [
       "  0%|          | 0/47 [00:00<?, ?it/s]"
      ]
     },
     "metadata": {},
     "output_type": "display_data"
    }
   ],
   "source": [
    "bins_list = [(0, 14), (15, 999)]\n",
    "data = prepare_data(\n",
    "    case_data=case_data,\n",
    "    policy_data_prepped=policy_data_prepped,\n",
    "    policy_name='shelter in place - start - state',\n",
    "    bins_list=bins_list,\n",
    "    pbar=True,\n",
    "    new_df=new_df)"
   ]
  },
  {
   "cell_type": "code",
   "execution_count": 45,
   "id": "ba4e8863-62a1-45b6-9ce5-6ff07e79f081",
   "metadata": {},
   "outputs": [
    {
     "data": {
      "text/html": [
       "<div>\n",
       "<style scoped>\n",
       "    .dataframe tbody tr th:only-of-type {\n",
       "        vertical-align: middle;\n",
       "    }\n",
       "\n",
       "    .dataframe tbody tr th {\n",
       "        vertical-align: top;\n",
       "    }\n",
       "\n",
       "    .dataframe thead th {\n",
       "        text-align: right;\n",
       "    }\n",
       "</style>\n",
       "<table border=\"1\" class=\"dataframe\">\n",
       "  <thead>\n",
       "    <tr style=\"text-align: right;\">\n",
       "      <th></th>\n",
       "      <th>location_type</th>\n",
       "      <th>state</th>\n",
       "      <th>county</th>\n",
       "      <th>date</th>\n",
       "      <th>new_cases_1e6</th>\n",
       "      <th>new_deaths_1e6</th>\n",
       "      <th>new_cases_7day_1e6</th>\n",
       "      <th>new_deaths_7day_1e6</th>\n",
       "      <th>0-14</th>\n",
       "      <th>15-999</th>\n",
       "    </tr>\n",
       "  </thead>\n",
       "  <tbody>\n",
       "    <tr>\n",
       "      <th>603504</th>\n",
       "      <td>county</td>\n",
       "      <td>Georgia</td>\n",
       "      <td>fulton</td>\n",
       "      <td>2020-01-22</td>\n",
       "      <td>0.00</td>\n",
       "      <td>0.00</td>\n",
       "      <td>0.000000</td>\n",
       "      <td>0.000000</td>\n",
       "      <td>0</td>\n",
       "      <td>0</td>\n",
       "    </tr>\n",
       "    <tr>\n",
       "      <th>603505</th>\n",
       "      <td>county</td>\n",
       "      <td>Georgia</td>\n",
       "      <td>fulton</td>\n",
       "      <td>2020-01-23</td>\n",
       "      <td>0.00</td>\n",
       "      <td>0.00</td>\n",
       "      <td>0.000000</td>\n",
       "      <td>0.000000</td>\n",
       "      <td>0</td>\n",
       "      <td>0</td>\n",
       "    </tr>\n",
       "    <tr>\n",
       "      <th>603506</th>\n",
       "      <td>county</td>\n",
       "      <td>Georgia</td>\n",
       "      <td>fulton</td>\n",
       "      <td>2020-01-24</td>\n",
       "      <td>0.00</td>\n",
       "      <td>0.00</td>\n",
       "      <td>0.000000</td>\n",
       "      <td>0.000000</td>\n",
       "      <td>0</td>\n",
       "      <td>0</td>\n",
       "    </tr>\n",
       "    <tr>\n",
       "      <th>603507</th>\n",
       "      <td>county</td>\n",
       "      <td>Georgia</td>\n",
       "      <td>fulton</td>\n",
       "      <td>2020-01-25</td>\n",
       "      <td>0.00</td>\n",
       "      <td>0.00</td>\n",
       "      <td>0.000000</td>\n",
       "      <td>0.000000</td>\n",
       "      <td>0</td>\n",
       "      <td>0</td>\n",
       "    </tr>\n",
       "    <tr>\n",
       "      <th>603508</th>\n",
       "      <td>county</td>\n",
       "      <td>Georgia</td>\n",
       "      <td>fulton</td>\n",
       "      <td>2020-01-26</td>\n",
       "      <td>0.00</td>\n",
       "      <td>0.00</td>\n",
       "      <td>0.000000</td>\n",
       "      <td>0.000000</td>\n",
       "      <td>0</td>\n",
       "      <td>0</td>\n",
       "    </tr>\n",
       "    <tr>\n",
       "      <th>...</th>\n",
       "      <td>...</td>\n",
       "      <td>...</td>\n",
       "      <td>...</td>\n",
       "      <td>...</td>\n",
       "      <td>...</td>\n",
       "      <td>...</td>\n",
       "      <td>...</td>\n",
       "      <td>...</td>\n",
       "      <td>...</td>\n",
       "      <td>...</td>\n",
       "    </tr>\n",
       "    <tr>\n",
       "      <th>604208</th>\n",
       "      <td>county</td>\n",
       "      <td>Georgia</td>\n",
       "      <td>fulton</td>\n",
       "      <td>2021-12-26</td>\n",
       "      <td>0.00</td>\n",
       "      <td>0.00</td>\n",
       "      <td>107.530859</td>\n",
       "      <td>0.209413</td>\n",
       "      <td>0</td>\n",
       "      <td>1</td>\n",
       "    </tr>\n",
       "    <tr>\n",
       "      <th>604209</th>\n",
       "      <td>county</td>\n",
       "      <td>Georgia</td>\n",
       "      <td>fulton</td>\n",
       "      <td>2021-12-27</td>\n",
       "      <td>492.61</td>\n",
       "      <td>0.59</td>\n",
       "      <td>153.942355</td>\n",
       "      <td>0.251492</td>\n",
       "      <td>0</td>\n",
       "      <td>1</td>\n",
       "    </tr>\n",
       "    <tr>\n",
       "      <th>604210</th>\n",
       "      <td>county</td>\n",
       "      <td>Georgia</td>\n",
       "      <td>fulton</td>\n",
       "      <td>2021-12-28</td>\n",
       "      <td>169.98</td>\n",
       "      <td>0.49</td>\n",
       "      <td>165.280037</td>\n",
       "      <td>0.251492</td>\n",
       "      <td>0</td>\n",
       "      <td>1</td>\n",
       "    </tr>\n",
       "    <tr>\n",
       "      <th>604211</th>\n",
       "      <td>county</td>\n",
       "      <td>Georgia</td>\n",
       "      <td>fulton</td>\n",
       "      <td>2021-12-29</td>\n",
       "      <td>265.58</td>\n",
       "      <td>0.20</td>\n",
       "      <td>181.356921</td>\n",
       "      <td>0.251492</td>\n",
       "      <td>0</td>\n",
       "      <td>1</td>\n",
       "    </tr>\n",
       "    <tr>\n",
       "      <th>604212</th>\n",
       "      <td>county</td>\n",
       "      <td>Georgia</td>\n",
       "      <td>fulton</td>\n",
       "      <td>2021-12-30</td>\n",
       "      <td>292.20</td>\n",
       "      <td>0.20</td>\n",
       "      <td>197.125556</td>\n",
       "      <td>0.224092</td>\n",
       "      <td>0</td>\n",
       "      <td>1</td>\n",
       "    </tr>\n",
       "  </tbody>\n",
       "</table>\n",
       "<p>709 rows × 10 columns</p>\n",
       "</div>"
      ],
      "text/plain": [
       "       location_type    state  county        date  new_cases_1e6  \\\n",
       "603504        county  Georgia  fulton  2020-01-22           0.00   \n",
       "603505        county  Georgia  fulton  2020-01-23           0.00   \n",
       "603506        county  Georgia  fulton  2020-01-24           0.00   \n",
       "603507        county  Georgia  fulton  2020-01-25           0.00   \n",
       "603508        county  Georgia  fulton  2020-01-26           0.00   \n",
       "...              ...      ...     ...         ...            ...   \n",
       "604208        county  Georgia  fulton  2021-12-26           0.00   \n",
       "604209        county  Georgia  fulton  2021-12-27         492.61   \n",
       "604210        county  Georgia  fulton  2021-12-28         169.98   \n",
       "604211        county  Georgia  fulton  2021-12-29         265.58   \n",
       "604212        county  Georgia  fulton  2021-12-30         292.20   \n",
       "\n",
       "        new_deaths_1e6  new_cases_7day_1e6  new_deaths_7day_1e6  0-14  15-999  \n",
       "603504            0.00            0.000000             0.000000     0       0  \n",
       "603505            0.00            0.000000             0.000000     0       0  \n",
       "603506            0.00            0.000000             0.000000     0       0  \n",
       "603507            0.00            0.000000             0.000000     0       0  \n",
       "603508            0.00            0.000000             0.000000     0       0  \n",
       "...                ...                 ...                  ...   ...     ...  \n",
       "604208            0.00          107.530859             0.209413     0       1  \n",
       "604209            0.59          153.942355             0.251492     0       1  \n",
       "604210            0.49          165.280037             0.251492     0       1  \n",
       "604211            0.20          181.356921             0.251492     0       1  \n",
       "604212            0.20          197.125556             0.224092     0       1  \n",
       "\n",
       "[709 rows x 10 columns]"
      ]
     },
     "execution_count": 45,
     "metadata": {},
     "output_type": "execute_result"
    }
   ],
   "source": [
    "test_df = pd.read_csv(\"./data/single_policy_bins/\" +\\\n",
    "                      os.listdir(\"./data/single_policy_bins/\")[0],\n",
    "                     index_col=0, header=1)\n",
    "test_df = test_df[(test_df['state']=='Georgia') & (test_df['county'] == 'fulton')]\n",
    "test_df"
   ]
  },
  {
   "cell_type": "code",
   "execution_count": 48,
   "id": "b6e90ecd-f5eb-45fe-bec5-d4bb0cff073a",
   "metadata": {},
   "outputs": [
    {
     "name": "stderr",
     "output_type": "stream",
     "text": [
      "/home/alex/Documents/github/Covid-19-correlation-analysis/env/lib/python3.12/site-packages/statsmodels/tsa/base/tsa_model.py:473: ValueWarning: An unsupported index was provided and will be ignored when e.g. forecasting.\n",
      "  self._init_dates(dates, freq)\n",
      "/home/alex/Documents/github/Covid-19-correlation-analysis/env/lib/python3.12/site-packages/statsmodels/tsa/base/tsa_model.py:473: ValueWarning: An unsupported index was provided and will be ignored when e.g. forecasting.\n",
      "  self._init_dates(dates, freq)\n",
      "/home/alex/Documents/github/Covid-19-correlation-analysis/env/lib/python3.12/site-packages/statsmodels/tsa/base/tsa_model.py:473: ValueWarning: An unsupported index was provided and will be ignored when e.g. forecasting.\n",
      "  self._init_dates(dates, freq)\n"
     ]
    }
   ],
   "source": [
    "model = ARIMA(\n",
    "    test_df['new_cases_1e6'],\n",
    "    exog = test_df[['0-14', '15-999']]\n",
    ").fit()"
   ]
  },
  {
   "cell_type": "code",
   "execution_count": 49,
   "id": "873b3d14-cf64-4217-bfce-519f8cf82bd1",
   "metadata": {},
   "outputs": [
    {
     "data": {
      "text/plain": [
       "6983.47888120287"
      ]
     },
     "execution_count": 49,
     "metadata": {},
     "output_type": "execute_result"
    }
   ],
   "source": [
    "model.aic"
   ]
  },
  {
   "cell_type": "code",
   "execution_count": 59,
   "id": "fd2e166c-b7eb-4011-b63a-affcb92ebb0a",
   "metadata": {},
   "outputs": [
    {
     "data": {
      "application/vnd.jupyter.widget-view+json": {
       "model_id": "bf2a0f165cbb4dba963b7e509f266bb6",
       "version_major": 2,
       "version_minor": 0
      },
      "text/plain": [
       "  0%|          | 0/1000 [00:00<?, ?it/s]"
      ]
     },
     "metadata": {},
     "output_type": "display_data"
    },
    {
     "name": "stdout",
     "output_type": "stream",
     "text": [
      "ERROR! params = 1, 7, 5\n",
      "ERROR! params = 1, 8, 3\n",
      "ERROR! params = 1, 8, 9\n",
      "ERROR! params = 1, 9, 8\n",
      "ERROR! params = 2, 9, 3\n",
      "ERROR! params = 3, 6, 6\n",
      "ERROR! params = 3, 7, 3\n",
      "ERROR! params = 3, 7, 4\n",
      "ERROR! params = 3, 7, 7\n",
      "ERROR! params = 3, 7, 9\n",
      "ERROR! params = 3, 9, 7\n",
      "ERROR! params = 4, 5, 8\n",
      "ERROR! params = 4, 8, 6\n",
      "ERROR! params = 4, 9, 4\n",
      "ERROR! params = 5, 6, 3\n",
      "ERROR! params = 5, 7, 7\n",
      "ERROR! params = 5, 8, 3\n",
      "ERROR! params = 5, 8, 6\n",
      "ERROR! params = 6, 5, 2\n",
      "ERROR! params = 6, 8, 4\n",
      "ERROR! params = 6, 9, 0\n",
      "ERROR! params = 6, 9, 1\n",
      "ERROR! params = 6, 9, 9\n",
      "ERROR! params = 7, 6, 4\n",
      "ERROR! params = 7, 6, 8\n",
      "ERROR! params = 7, 7, 3\n",
      "ERROR! params = 7, 8, 8\n",
      "ERROR! params = 7, 9, 1\n",
      "ERROR! params = 7, 9, 7\n",
      "ERROR! params = 8, 5, 2\n",
      "ERROR! params = 8, 5, 4\n",
      "ERROR! params = 8, 7, 3\n",
      "ERROR! params = 8, 8, 1\n",
      "ERROR! params = 9, 5, 4\n",
      "ERROR! params = 9, 8, 5\n"
     ]
    }
   ],
   "source": [
    "results = []\n",
    "params = []\n",
    "\n",
    "for p in range(10):\n",
    "    for d in range(10):\n",
    "        for q in range(10):\n",
    "            params.append((p, d, q))\n",
    "\n",
    "results = []\n",
    "for param_set in tqdm(params):\n",
    "\n",
    "    p, d, q = param_set\n",
    "    with warnings.catch_warnings(action='ignore'):\n",
    "        try:\n",
    "            model = ARIMA(\n",
    "                test_df['new_cases_1e6'].values,\n",
    "                exog = test_df[['0-14', '15-999']].values,\n",
    "                order = (p,d,q),\n",
    "            ).fit()\n",
    "            \n",
    "            results.append({\n",
    "                'p': p,\n",
    "                'd': d,\n",
    "                'q': q,\n",
    "                'aic': model.aic,\n",
    "                'bic': model.bic,})\n",
    "        except Exception as e:\n",
    "            print(\"ERROR! params = {}, {}, {}\".format(p, d, q))\n",
    "\n",
    "        "
   ]
  },
  {
   "cell_type": "code",
   "execution_count": 61,
   "id": "fed7cbd6-238d-4df9-a9f3-9431ad498c44",
   "metadata": {},
   "outputs": [],
   "source": [
    "import json\n",
    "\n",
    "with open('./data/dev_arima_results.json', 'w') as f:\n",
    "    json.dump(results, f)"
   ]
  },
  {
   "cell_type": "code",
   "execution_count": null,
   "id": "e8e37456-b1a2-4399-9294-dd0d563d41f0",
   "metadata": {},
   "outputs": [],
   "source": []
  }
 ],
 "metadata": {
  "kernelspec": {
   "display_name": "Python 3 (ipykernel)",
   "language": "python",
   "name": "python3"
  },
  "language_info": {
   "codemirror_mode": {
    "name": "ipython",
    "version": 3
   },
   "file_extension": ".py",
   "mimetype": "text/x-python",
   "name": "python",
   "nbconvert_exporter": "python",
   "pygments_lexer": "ipython3",
   "version": "3.12.3"
  }
 },
 "nbformat": 4,
 "nbformat_minor": 5
}
