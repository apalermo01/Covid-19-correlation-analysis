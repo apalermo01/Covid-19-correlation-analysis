{
 "cells": [
  {
   "cell_type": "markdown",
   "id": "ff90c70c",
   "metadata": {},
   "source": [
    "# Idea:\n",
    "\n",
    "convert the data to the form of:<br> \n",
    "row: date/location<br> \n",
    "column: policy\n",
    "\n",
    "each spot is # of days since the policy was implemented at that location <br> \n",
    "note: is this ACTUALLY linear?"
   ]
  },
  {
   "cell_type": "code",
   "execution_count": null,
   "id": "a2c1c6d3",
   "metadata": {},
   "outputs": [],
   "source": []
  }
 ],
 "metadata": {
  "kernelspec": {
   "display_name": "Python 3 (ipykernel)",
   "language": "python",
   "name": "python3"
  },
  "language_info": {
   "codemirror_mode": {
    "name": "ipython",
    "version": 3
   },
   "file_extension": ".py",
   "mimetype": "text/x-python",
   "name": "python",
   "nbconvert_exporter": "python",
   "pygments_lexer": "ipython3",
   "version": "3.10.12"
  }
 },
 "nbformat": 4,
 "nbformat_minor": 5
}
