{
 "cells": [
  {
   "cell_type": "markdown",
   "id": "6e35eb5c",
   "metadata": {},
   "source": [
    "# Run regression analysis\n",
    "\n",
    "Outside of this notebook, I ran a script to generate about 200 datasets for a regression analysis, which took about 2 hours and takes up about 30gb of space. \n",
    "\n",
    "The regression models here use a \"bin\" model - where independent variables are one-hot encoded based on how long it was since a given policy was implemented. The choice of bins is left as a hyperparameter optimization task. \n",
    "\n",
    "| info<br>state |  <br>county  | <br>date | <br>num_new_cases | policy name<br>0-2| <br>3-5 | <br>6-999|\n",
    "| ------------- | ------------ | -------  | ----------------- | ------ | ------ | ------ |\n",
    "| state   | county  | date - 1 | # of new cases | 0 | 0 | 0 |\n",
    "| state   | county  | policy enacted today | # of new cases | 1 | 0 | 0 |\n",
    "| state   | county  | date + 1 | # of new cases | 1 | 0 | 0 |\n",
    "| state   | county  | date + 2 | # of new cases | 1 | 0 | 0 |\n",
    "| state   | county  | date + 3 | # of new cases | 0 | 1 | 0 |\n",
    "| state   | county  | date + 4 | # of new cases | 0 | 1 | 0 |\n",
    "| state   | county  | date + 5 | # of new cases | 0 | 1 | 0 |\n",
    "| state   | county  | date + 6 | # of new cases | 0 | 0 | 1 |\n",
    "| state   | county  | date + 7 | # of new cases | 0 | 0 | 1 |\n",
    "| state   | county  | date + 8 | # of new cases | 0 | 0 | 1 |\n",
    "|    |   | ... |  |  |  | |\n",
    "| state   | county  | today | # of new cases | 0 | 0 | 1 |"
   ]
  },
  {
   "cell_type": "markdown",
   "id": "1bf6ac6e",
   "metadata": {},
   "source": [
    "Trial runs in the notebook used to develop the models indicates that most of these models will result in very low R-squared values (<<0.1) and very low p-values (<<0.01). The low R-squared values are unsurprising since we are using so few features to model such a complicated phenomenon. The low p-values, however, tell a much more interesting story - that these regression models are statistically signficiant and we should look into them further. "
   ]
  },
  {
   "cell_type": "code",
   "execution_count": 35,
   "id": "d50c734b",
   "metadata": {},
   "outputs": [],
   "source": [
    "### run this command to generate the datasets used (if you're on linux of mac). Run the command in the terminal\n",
    "### if on windows\n",
    "\n",
    "#!python scripts/generate_dataset_for_regression.py"
   ]
  },
  {
   "cell_type": "markdown",
   "id": "c86789bf",
   "metadata": {},
   "source": [
    "# 0. Imports"
   ]
  },
  {
   "cell_type": "code",
   "execution_count": 2,
   "id": "a75d589f",
   "metadata": {},
   "outputs": [],
   "source": [
    "from covid_project.regression_funcs import fit_ols_model_single_policy\n",
    "from covid_project.data_utils import get_all_policies, get_processed_data\n",
    "from covid_project.policy_mappings import policy_dict_v1\n",
    "from tqdm.notebook import tqdm\n",
    "import os\n",
    "import json"
   ]
  },
  {
   "cell_type": "markdown",
   "id": "7731fec8",
   "metadata": {},
   "source": [
    "# 1. Run models"
   ]
  },
  {
   "cell_type": "code",
   "execution_count": 3,
   "id": "9ff13c3d",
   "metadata": {},
   "outputs": [],
   "source": [
    "all_bins = [\n",
    "        [(0, 14), (15, 999)],\n",
    "        [(0, 14), (15, 28), (29, 999)],\n",
    "        [(0, 7), (8, 14), (15, 999)],\n",
    "        [(0, 7), (8, 14), (15, 28), (29, 60), (61, 999)],\n",
    "    ]\n",
    "\n",
    "all_policies = get_all_policies(policy_dict = policy_dict_v1,\n",
    "                                min_samples = 3)\n",
    "\n",
    "dep_vars = [\n",
    "    'new_cases_1e6',\n",
    "    'new_deaths_1e6',\n",
    "    'new_cases_7day_1e6',\n",
    "    'new_deaths_7day_1e6',\n",
    "]"
   ]
  },
  {
   "cell_type": "code",
   "execution_count": 4,
   "id": "6046fadd",
   "metadata": {},
   "outputs": [],
   "source": [
    "def run_model_on_policies(bins,\n",
    "                          all_policies,\n",
    "                          dep_var,\n",
    "                          pbar=True):\n",
    "    \"\"\"Loop to run the regression model on all policies\"\"\"\n",
    "    \n",
    "    results = dict()\n",
    "    for policy in tqdm(all_policies, desc='running models'):\n",
    "        suc, data = get_processed_data(policy, bins)\n",
    "        if not suc:\n",
    "            print(f\"[ERROR] data read failed: bins={bins}, policy={policy}, var={dep_var}\")\n",
    "            continue\n",
    "        res = fit_ols_model_single_policy(data,\n",
    "                                          policy,\n",
    "                                          dep_var,\n",
    "                                          True)\n",
    "        results[policy] = res\n",
    "    return results"
   ]
  },
  {
   "cell_type": "code",
   "execution_count": 5,
   "id": "3052a7d3",
   "metadata": {},
   "outputs": [],
   "source": [
    "def run_batch_of_models(all_bins,\n",
    "                        all_policies,\n",
    "                        dep_vars,\n",
    "                        save_path=\"./data/regression_results/\"):\n",
    "    if not os.path.exists(save_path):\n",
    "        os.makedirs(save_path)\n",
    "        \n",
    "    for bins_list in tqdm(all_bins, desc=\"looping through bins\"):\n",
    "        for var in tqdm(dep_vars, desc=\"looping through dependent variables\"):\n",
    "            results = run_model_on_policies(bins=bins_list,\n",
    "                                            all_policies=all_policies,\n",
    "                                            dep_var=var,\n",
    "                                            pbar=True)\n",
    "            filename = var + \"_bins=\" + ''.join([str(b[0])+\"-\"+str(b[1])+\"_\" for b in bins_list])[:-1] + \".json\"\n",
    "            full_path = save_path + filename\n",
    "            \n",
    "            with open(full_path, \"w\") as f:\n",
    "                json.dump(results, f, indent=2)"
   ]
  },
  {
   "cell_type": "code",
   "execution_count": 6,
   "id": "19bd3ca8",
   "metadata": {},
   "outputs": [
    {
     "data": {
      "application/vnd.jupyter.widget-view+json": {
       "model_id": "7e08da362e5c463c9433f6cd149295de",
       "version_major": 2,
       "version_minor": 0
      },
      "text/plain": [
       "looping through bins:   0%|          | 0/4 [00:00<?, ?it/s]"
      ]
     },
     "metadata": {},
     "output_type": "display_data"
    },
    {
     "data": {
      "application/vnd.jupyter.widget-view+json": {
       "model_id": "2b77e0437b8f4e89a0290a85886048ae",
       "version_major": 2,
       "version_minor": 0
      },
      "text/plain": [
       "looping through dependent variables:   0%|          | 0/4 [00:00<?, ?it/s]"
      ]
     },
     "metadata": {},
     "output_type": "display_data"
    },
    {
     "data": {
      "application/vnd.jupyter.widget-view+json": {
       "model_id": "15fe495a6b9a48b388eb9ad120e27f04",
       "version_major": 2,
       "version_minor": 0
      },
      "text/plain": [
       "running models:   0%|          | 0/50 [00:00<?, ?it/s]"
      ]
     },
     "metadata": {},
     "output_type": "display_data"
    },
    {
     "data": {
      "application/vnd.jupyter.widget-view+json": {
       "model_id": "a89309740c7146aa85e9b82ff50f92c0",
       "version_major": 2,
       "version_minor": 0
      },
      "text/plain": [
       "running models:   0%|          | 0/50 [00:00<?, ?it/s]"
      ]
     },
     "metadata": {},
     "output_type": "display_data"
    },
    {
     "data": {
      "application/vnd.jupyter.widget-view+json": {
       "model_id": "7a325cf98b7344f6b1556f253e3003c6",
       "version_major": 2,
       "version_minor": 0
      },
      "text/plain": [
       "running models:   0%|          | 0/50 [00:00<?, ?it/s]"
      ]
     },
     "metadata": {},
     "output_type": "display_data"
    },
    {
     "data": {
      "application/vnd.jupyter.widget-view+json": {
       "model_id": "b22e17bf141347f79f13e2b782c288bf",
       "version_major": 2,
       "version_minor": 0
      },
      "text/plain": [
       "running models:   0%|          | 0/50 [00:00<?, ?it/s]"
      ]
     },
     "metadata": {},
     "output_type": "display_data"
    },
    {
     "data": {
      "application/vnd.jupyter.widget-view+json": {
       "model_id": "6af72b9046d64f4992439a8e1ec27ede",
       "version_major": 2,
       "version_minor": 0
      },
      "text/plain": [
       "looping through dependent variables:   0%|          | 0/4 [00:00<?, ?it/s]"
      ]
     },
     "metadata": {},
     "output_type": "display_data"
    },
    {
     "data": {
      "application/vnd.jupyter.widget-view+json": {
       "model_id": "36e2192efc144ea5b8220ebb6f5903b5",
       "version_major": 2,
       "version_minor": 0
      },
      "text/plain": [
       "running models:   0%|          | 0/50 [00:00<?, ?it/s]"
      ]
     },
     "metadata": {},
     "output_type": "display_data"
    },
    {
     "data": {
      "application/vnd.jupyter.widget-view+json": {
       "model_id": "a360d7f0748c4ce684162c635354ad7b",
       "version_major": 2,
       "version_minor": 0
      },
      "text/plain": [
       "running models:   0%|          | 0/50 [00:00<?, ?it/s]"
      ]
     },
     "metadata": {},
     "output_type": "display_data"
    },
    {
     "data": {
      "application/vnd.jupyter.widget-view+json": {
       "model_id": "863b6488c3964de28619ce422543f38d",
       "version_major": 2,
       "version_minor": 0
      },
      "text/plain": [
       "running models:   0%|          | 0/50 [00:00<?, ?it/s]"
      ]
     },
     "metadata": {},
     "output_type": "display_data"
    },
    {
     "data": {
      "application/vnd.jupyter.widget-view+json": {
       "model_id": "3eca3162e83c41efa24a3312e5e6a2ec",
       "version_major": 2,
       "version_minor": 0
      },
      "text/plain": [
       "running models:   0%|          | 0/50 [00:00<?, ?it/s]"
      ]
     },
     "metadata": {},
     "output_type": "display_data"
    },
    {
     "data": {
      "application/vnd.jupyter.widget-view+json": {
       "model_id": "f8077a4a535b4fd3b86b8b3d90e157ea",
       "version_major": 2,
       "version_minor": 0
      },
      "text/plain": [
       "looping through dependent variables:   0%|          | 0/4 [00:00<?, ?it/s]"
      ]
     },
     "metadata": {},
     "output_type": "display_data"
    },
    {
     "data": {
      "application/vnd.jupyter.widget-view+json": {
       "model_id": "536757a417804c53a0148a921ca046a2",
       "version_major": 2,
       "version_minor": 0
      },
      "text/plain": [
       "running models:   0%|          | 0/50 [00:00<?, ?it/s]"
      ]
     },
     "metadata": {},
     "output_type": "display_data"
    },
    {
     "data": {
      "application/vnd.jupyter.widget-view+json": {
       "model_id": "b5cd374e49634be0b303902a329a6608",
       "version_major": 2,
       "version_minor": 0
      },
      "text/plain": [
       "running models:   0%|          | 0/50 [00:00<?, ?it/s]"
      ]
     },
     "metadata": {},
     "output_type": "display_data"
    },
    {
     "data": {
      "application/vnd.jupyter.widget-view+json": {
       "model_id": "869f94f52a654ff08b7b7e1e9ac9b65a",
       "version_major": 2,
       "version_minor": 0
      },
      "text/plain": [
       "running models:   0%|          | 0/50 [00:00<?, ?it/s]"
      ]
     },
     "metadata": {},
     "output_type": "display_data"
    },
    {
     "data": {
      "application/vnd.jupyter.widget-view+json": {
       "model_id": "e72e7642297e449ab16cb1b4b56c2950",
       "version_major": 2,
       "version_minor": 0
      },
      "text/plain": [
       "running models:   0%|          | 0/50 [00:00<?, ?it/s]"
      ]
     },
     "metadata": {},
     "output_type": "display_data"
    },
    {
     "data": {
      "application/vnd.jupyter.widget-view+json": {
       "model_id": "a7cff13d269c416d8920c3b3a6d9868d",
       "version_major": 2,
       "version_minor": 0
      },
      "text/plain": [
       "looping through dependent variables:   0%|          | 0/4 [00:00<?, ?it/s]"
      ]
     },
     "metadata": {},
     "output_type": "display_data"
    },
    {
     "data": {
      "application/vnd.jupyter.widget-view+json": {
       "model_id": "92abd1b665ff454c83bd95cdfc76ae61",
       "version_major": 2,
       "version_minor": 0
      },
      "text/plain": [
       "running models:   0%|          | 0/50 [00:00<?, ?it/s]"
      ]
     },
     "metadata": {},
     "output_type": "display_data"
    },
    {
     "data": {
      "application/vnd.jupyter.widget-view+json": {
       "model_id": "aa8d79ac9e8746d2b037439c3bf355d8",
       "version_major": 2,
       "version_minor": 0
      },
      "text/plain": [
       "running models:   0%|          | 0/50 [00:00<?, ?it/s]"
      ]
     },
     "metadata": {},
     "output_type": "display_data"
    },
    {
     "data": {
      "application/vnd.jupyter.widget-view+json": {
       "model_id": "1d9d8a381af041d3b9f893459981ce4d",
       "version_major": 2,
       "version_minor": 0
      },
      "text/plain": [
       "running models:   0%|          | 0/50 [00:00<?, ?it/s]"
      ]
     },
     "metadata": {},
     "output_type": "display_data"
    },
    {
     "data": {
      "application/vnd.jupyter.widget-view+json": {
       "model_id": "7e6404138c774729ab35761ee09111da",
       "version_major": 2,
       "version_minor": 0
      },
      "text/plain": [
       "running models:   0%|          | 0/50 [00:00<?, ?it/s]"
      ]
     },
     "metadata": {},
     "output_type": "display_data"
    }
   ],
   "source": [
    "run_batch_of_models(all_bins=all_bins,\n",
    "                    all_policies=all_policies,\n",
    "                    dep_vars=dep_vars,)"
   ]
  }
 ],
 "metadata": {
  "kernelspec": {
   "display_name": "Python 3 (ipykernel)",
   "language": "python",
   "name": "python3"
  },
  "language_info": {
   "codemirror_mode": {
    "name": "ipython",
    "version": 3
   },
   "file_extension": ".py",
   "mimetype": "text/x-python",
   "name": "python",
   "nbconvert_exporter": "python",
   "pygments_lexer": "ipython3",
   "version": "3.9.0"
  }
 },
 "nbformat": 4,
 "nbformat_minor": 5
}
