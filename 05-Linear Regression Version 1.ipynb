{
 "cells": [
  {
   "cell_type": "markdown",
   "id": "3838eb64-b3c2-41de-9268-46b5fc4ddb82",
   "metadata": {},
   "source": [
    "## old discussion\n",
    "in future: Make some modifications to existing regression models. Instead of a bin model, set up a regressor variable that represents a ramp up / down when that policy starts / stops\n",
    "\n",
    "First: think of new ways to visualize existing results."
   ]
  },
  {
   "cell_type": "markdown",
   "id": "f3ed42a9-b4c1-4b81-b4a9-f61767250781",
   "metadata": {},
   "source": [
    "# Linear Regression Version 1\n",
    "\n",
    "In this notebook, I build out some linear regression models to model policy impacts. This is using what I call a \"bin\" model - where independent variables are one-hot encoded based on how long it was since the given policy was implemented. The choice of bins is left as a hyperparameter optimization task. \n",
    "\n",
    "Here is the schema for the datasets:\n",
    "\n",
    "| info<br>state |  <br>county  | <br>date | <br>num_new_cases | policy name<br>0-7| <br>8-14 | <br>15-999|\n",
    "| ------------- | ------------ | -------  | ----------------- | ------ | ------ | ------ |\n",
    "| state   | county  | date - 1 | # of new cases | 0 | 0 | 0 |\n",
    "| state   | county  | policy enacted today | # of new cases | 1 | 0 | 0 |\n",
    "| state   | county  | date + 1 | # of new cases | 1 | 0 | 0 |\n",
    "| state   | county  | date + 2 | # of new cases | 1 | 0 | 0 |\n",
    "| state   | county  | date + 3 | # of new cases | 0 | 1 | 0 |\n",
    "| state   | county  | date + 4 | # of new cases | 0 | 1 | 0 |\n",
    "| state   | county  | date + 5 | # of new cases | 0 | 1 | 0 |\n",
    "| state   | county  | date + 6 | # of new cases | 0 | 0 | 1 |\n",
    "| state   | county  | date + 7 | # of new cases | 0 | 0 | 1 |\n",
    "| state   | county  | date + 8 | # of new cases | 0 | 0 | 1 |\n",
    "|    |   | ... |  |  |  | |\n",
    "| state   | county  | today | # of new cases | 0 | 0 | 1 |\n",
    "\n"
   ]
  },
  {
   "cell_type": "markdown",
   "id": "8229f41e-50dc-454f-9092-7bca7beffdb4",
   "metadata": {},
   "source": [
    "Run this script to generate the datasets. Should take about 4 hours with the current selection of bins."
   ]
  },
  {
   "cell_type": "code",
   "execution_count": 1,
   "id": "d880fddf-1069-4ecd-a800-7301560b05a7",
   "metadata": {},
   "outputs": [],
   "source": [
    "# !python ./scripts/linreg_single_policy.py --run_what generate_dataset"
   ]
  },
  {
   "cell_type": "markdown",
   "id": "7c36d99d-5285-4933-ac65-74ff3defd25b",
   "metadata": {},
   "source": [
    "Run this script to run linear regression - should take about an hour"
   ]
  },
  {
   "cell_type": "code",
   "execution_count": 2,
   "id": "8be9bb36-3950-43a5-9851-d526bda63af3",
   "metadata": {},
   "outputs": [],
   "source": [
    "# !python ./scripts/linreg_single_policy.py --run_what run_models"
   ]
  },
  {
   "cell_type": "code",
   "execution_count": 3,
   "id": "80cc212d-4fca-4762-b8b0-c169485487d5",
   "metadata": {},
   "outputs": [
    {
     "ename": "ModuleNotFoundError",
     "evalue": "No module named 'tmux'",
     "output_type": "error",
     "traceback": [
      "\u001b[0;31m---------------------------------------------------------------------------\u001b[0m",
      "\u001b[0;31mModuleNotFoundError\u001b[0m                       Traceback (most recent call last)",
      "Cell \u001b[0;32mIn[3], line 4\u001b[0m\n\u001b[1;32m      2\u001b[0m \u001b[38;5;28;01mfrom\u001b[39;00m \u001b[38;5;21;01mIPython\u001b[39;00m\u001b[38;5;21;01m.\u001b[39;00m\u001b[38;5;21;01mdisplay\u001b[39;00m \u001b[38;5;28;01mimport\u001b[39;00m display\n\u001b[1;32m      3\u001b[0m \u001b[38;5;28;01mimport\u001b[39;00m \u001b[38;5;21;01mmatplotlib\u001b[39;00m\u001b[38;5;21;01m.\u001b[39;00m\u001b[38;5;21;01mpyplot\u001b[39;00m \u001b[38;5;28;01mas\u001b[39;00m \u001b[38;5;21;01mplt\u001b[39;00m\n\u001b[0;32m----> 4\u001b[0m \u001b[38;5;28;01mfrom\u001b[39;00m \u001b[38;5;21;01mtmux\u001b[39;00m\u001b[38;5;21;01m.\u001b[39;00m\u001b[38;5;21;01mauto\u001b[39;00m \u001b[38;5;28;01mimport\u001b[39;00m tmux\n\u001b[1;32m      6\u001b[0m path \u001b[38;5;241m=\u001b[39m \u001b[38;5;124m\"\u001b[39m\u001b[38;5;124m./data/regression_results_single_policy_bins/\u001b[39m\u001b[38;5;124m\"\u001b[39m\n\u001b[1;32m      9\u001b[0m df \u001b[38;5;241m=\u001b[39m collect_all_regression_results_to_df(path)\n",
      "\u001b[0;31mModuleNotFoundError\u001b[0m: No module named 'tmux'"
     ]
    }
   ],
   "source": [
    "from covid_project.regression_funcs_bins import collect_all_regression_results_to_df, plot_rsquared_heatmap, BINS\n",
    "from IPython.display import display\n",
    "import matplotlib.pyplot as plt\n",
    "from tqmd.auto import tqdm\n",
    "\n",
    "path = \"./data/regression_results_single_policy_bins/\"\n",
    "\n",
    "\n",
    "df = collect_all_regression_results_to_df(path)"
   ]
  },
  {
   "cell_type": "markdown",
   "id": "bdbc38c5-ff08-4f1d-bf11-18b68ab3d3b0",
   "metadata": {},
   "source": [
    "# 1. Check significance"
   ]
  },
  {
   "cell_type": "code",
   "execution_count": null,
   "id": "a1f39bdd-6e0b-42c8-afc1-c81ca27e1921",
   "metadata": {},
   "outputs": [],
   "source": [
    "\n",
    "def pivot_df_to_pvalues(data, dep_var, bins='[(0, 14), (15, 999)]'):\n",
    "    def _color_sig_values(val, p=0.05):\n",
    "        color = 'green' if val < p else ''\n",
    "        return 'color: ' + color\n",
    "\n",
    "    data = data[(data['dep_var']==dep_var)]\n",
    "    data = data[['policy', 'bins_list', 'bin', 'p_value']]\n",
    "    data = data.drop_duplicates()\n",
    "    data = data.set_index('policy')\n",
    "    data = data[data['bins_list']==bins]\n",
    "    data = data.pivot(columns='bin')['p_value']\n",
    "    data = data.sort_index()\n",
    "    data = data.style.map(_color_sig_values)\n",
    "    return data"
   ]
  },
  {
   "cell_type": "markdown",
   "id": "1fc716bd-c7f5-451c-b45e-2ec7a5bf2ff6",
   "metadata": {},
   "source": [
    "## 1.1 New cases"
   ]
  },
  {
   "cell_type": "code",
   "execution_count": null,
   "id": "a6f46fe8-8246-4b4c-b71f-f753a7a1e9f1",
   "metadata": {
    "scrolled": true
   },
   "outputs": [],
   "source": [
    "for b in BINS:\n",
    "    d = pivot_df_to_pvalues(df, 'new_cases_1e6', str(b))\n",
    "    display(d)"
   ]
  },
  {
   "cell_type": "markdown",
   "id": "68418bf1-1657-4020-b1d1-4194ce8d4fb9",
   "metadata": {},
   "source": [
    "## 1.2 New cases (7-day average)"
   ]
  },
  {
   "cell_type": "code",
   "execution_count": null,
   "id": "9cf75496-8c12-493b-bd3c-f54c83a6000f",
   "metadata": {
    "scrolled": true
   },
   "outputs": [],
   "source": [
    "for b in BINS:\n",
    "    d = pivot_df_to_pvalues(df, 'new_cases_7day_1e6', str(b))\n",
    "    display(d)"
   ]
  },
  {
   "cell_type": "markdown",
   "id": "cbd74961-6a1b-4b47-87c5-c4957e330b05",
   "metadata": {},
   "source": [
    "## 1.3 New deaths"
   ]
  },
  {
   "cell_type": "code",
   "execution_count": null,
   "id": "83345421-8abf-4a81-a8a7-7b82d120729a",
   "metadata": {
    "scrolled": true
   },
   "outputs": [],
   "source": [
    "for b in BINS:\n",
    "    d = pivot_df_to_pvalues(df, 'new_deaths_1e6', str(b))\n",
    "    display(d)"
   ]
  },
  {
   "cell_type": "markdown",
   "id": "9df11f8d-d5b0-4456-9e8a-f2629ad4a575",
   "metadata": {},
   "source": [
    "## 1.4 New deaths (7-day average)"
   ]
  },
  {
   "cell_type": "code",
   "execution_count": null,
   "id": "0ecb536b-cf8b-47d5-8784-64f4373dd880",
   "metadata": {
    "scrolled": true
   },
   "outputs": [],
   "source": [
    "for b in BINS:\n",
    "    d = pivot_df_to_pvalues(df, 'new_deaths_7day_1e6', str(b))\n",
    "    display(d)"
   ]
  },
  {
   "cell_type": "markdown",
   "id": "e068e726-0744-4cf7-8a64-f111987d4382",
   "metadata": {},
   "source": [
    "# 2. Check R-squared"
   ]
  },
  {
   "cell_type": "code",
   "execution_count": null,
   "id": "c8471511-368d-4f24-ba6f-f121ada4015d",
   "metadata": {
    "scrolled": true
   },
   "outputs": [],
   "source": [
    "\n",
    "dep_vars = [\n",
    "    'new_cases_1e6',\n",
    "    'new_cases_7day_1e6',\n",
    "    'new_deaths_1e6',\n",
    "    'new_deaths_7day_1e6'\n",
    "]\n",
    "\n",
    "for var in dep_vars:\n",
    "    _, bins_ids = plot_rsquared_heatmap(\n",
    "        data = df,\n",
    "        dep_var = var,\n",
    "        sort_values = True,\n",
    "        ax = None\n",
    "    )"
   ]
  },
  {
   "cell_type": "code",
   "execution_count": null,
   "id": "ca50ee8a-f201-4c8b-9159-4c994d824400",
   "metadata": {},
   "outputs": [],
   "source": [
    "bins_ids"
   ]
  },
  {
   "cell_type": "markdown",
   "id": "74e72d4c-bce6-45d0-bf31-631d27193045",
   "metadata": {},
   "source": [
    "# 3. Model Diagnostics"
   ]
  },
  {
   "cell_type": "code",
   "execution_count": null,
   "id": "67f3d77e-96cd-4b5f-b619-e00c2ebff013",
   "metadata": {},
   "outputs": [],
   "source": [
    "from covid_project.regression_funcs_bins import get_single_policy_regression_data, fit_ols_model_single_policy\n",
    "bins = [(0, 7), (8, 14), (15, 28), (29, 60), (61, 999)]\n",
    "dep_var = 'new_cases_1e6'\n"
   ]
  },
  {
   "cell_type": "code",
   "execution_count": null,
   "id": "eeabf70d-4259-4bd2-978c-d5a179ffa10d",
   "metadata": {},
   "outputs": [],
   "source": [
    "\n",
    "\n",
    "def plot_pred_vs_residuals(policy, dep_var, bins, ax):\n",
    "    succ, data = get_single_policy_regression_data(policy, bins)\n",
    "    if not succ:\n",
    "        return ax\n",
    "    results = fit_ols_model_single_policy(\n",
    "        data,\n",
    "        policy,\n",
    "        dep_var,\n",
    "        True,\n",
    "        True)\n",
    "    ax.scatter(results['predictions'], results['residuals'])\n",
    "    ax.set_title(policy)\n",
    "    ax.set_ylabel(\"residuals\")\n",
    "    ax.set_xlabel(\"predictions\")\n",
    "    return ax"
   ]
  },
  {
   "cell_type": "markdown",
   "id": "8b3eb795-6053-4cb5-82a9-f66d04404152",
   "metadata": {},
   "source": [
    "## 3.1 Linear relationship"
   ]
  },
  {
   "cell_type": "code",
   "execution_count": null,
   "id": "1a416ca9-359d-4bb7-9a8f-08ef03818b7e",
   "metadata": {},
   "outputs": [],
   "source": [
    "policies = df[df['bins_list']==str(bins)]['policy'].unique()\n",
    "\n",
    "fig, axes = plt.subplots(nrows = len(policies)//4, ncols=4, figsize=[16, 3*(len(policies)//4)])\n",
    "\n",
    "for i, ax in enumerate(tqdm(axes.flatten())):\n",
    "    if i > len(policies):\n",
    "        continue\n",
    "    policy = policies[i]\n",
    "    plot_pred_vs_residuals(policy, 'new_cases_1e6', bins, ax)\n",
    "\n",
    "fig.tight_layout()"
   ]
  },
  {
   "cell_type": "markdown",
   "id": "ab9c4c3f-e1d1-4514-9387-5bece208a94e",
   "metadata": {},
   "source": [
    "## 3.2 Independence"
   ]
  },
  {
   "cell_type": "markdown",
   "id": "aa35f40b-35f7-4770-9b23-9183388ba2e3",
   "metadata": {},
   "source": [
    "## 3.3 Multicollinearity"
   ]
  },
  {
   "cell_type": "markdown",
   "id": "181b74b8-afe5-4d86-9518-eb6a6a4e4774",
   "metadata": {},
   "source": [
    "## 3.4 Heteroskedasticity"
   ]
  },
  {
   "cell_type": "markdown",
   "id": "6f0f028f-e693-48d5-9cec-793862531241",
   "metadata": {},
   "source": [
    "# 4. Analyze predictions"
   ]
  },
  {
   "cell_type": "code",
   "execution_count": null,
   "id": "c46b96cb-9599-4a70-8ce7-cf9a96541bd1",
   "metadata": {},
   "outputs": [],
   "source": []
  }
 ],
 "metadata": {
  "kernelspec": {
   "display_name": "Python 3 (ipykernel)",
   "language": "python",
   "name": "python3"
  },
  "language_info": {
   "codemirror_mode": {
    "name": "ipython",
    "version": 3
   },
   "file_extension": ".py",
   "mimetype": "text/x-python",
   "name": "python",
   "nbconvert_exporter": "python",
   "pygments_lexer": "ipython3",
   "version": "3.12.3"
  }
 },
 "nbformat": 4,
 "nbformat_minor": 5
}
