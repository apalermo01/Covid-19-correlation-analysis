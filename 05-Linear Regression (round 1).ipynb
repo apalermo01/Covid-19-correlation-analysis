{
 "cells": [
  {
   "cell_type": "markdown",
   "id": "b3af3d25-d80f-4860-9977-a871db2c87a6",
   "metadata": {},
   "source": [
    "# Run regression analysis\n",
    "\n",
    "Last edit: 2023-11-25\n",
    "\n",
    "\n",
    "Run linear regression using a 'bin' model. Independent variables are one-hot encoded based on how long it was since a given policy was implemented. The choice of bins is left as a hyperparameter optimization task. The transformed dataset has this structure: \n",
    "\n",
    "| info<br>state |  <br>county  | <br>date | <br>num_new_cases | policy name<br>0-2| <br>3-5 | <br>6-999|\n",
    "| ------------- | ------------ | -------  | ----------------- | ------ | ------ | ------ |\n",
    "| state   | county  | date - 1 | # of new cases | 0 | 0 | 0 |\n",
    "| state   | county  | policy enacted today | # of new cases | 1 | 0 | 0 |\n",
    "| state   | county  | date + 1 | # of new cases | 1 | 0 | 0 |\n",
    "| state   | county  | date + 2 | # of new cases | 1 | 0 | 0 |\n",
    "| state   | county  | date + 3 | # of new cases | 0 | 1 | 0 |\n",
    "| state   | county  | date + 4 | # of new cases | 0 | 1 | 0 |\n",
    "| state   | county  | date + 5 | # of new cases | 0 | 1 | 0 |\n",
    "| state   | county  | date + 6 | # of new cases | 0 | 0 | 1 |\n",
    "| state   | county  | date + 7 | # of new cases | 0 | 0 | 1 |\n",
    "| state   | county  | date + 8 | # of new cases | 0 | 0 | 1 |\n",
    "|    |   | ... |  |  |  | |\n",
    "| state   | county  | today | # of new cases | 0 | 0 | 1 |\n",
    "\n",
    "\n",
    "In previous runs, the dataset consisted of all policies, resulting in a feature matrix with $\\text{num policies} \\times \\text{num bins}$ features, which got very computationally expensive.\n",
    "\n",
    "In this iteration, we're going to run linear regression using sklearn on 3 different kinds of bin \"sets\" with different numbers of bins and different sizes. "
   ]
  },
  {
   "cell_type": "code",
   "execution_count": 5,
   "id": "7f8ff8fc-31b6-4391-a8ed-e69e517176d5",
   "metadata": {},
   "outputs": [],
   "source": [
    "from covid_project.policy_mappings import policy_dict_v2\n",
    "from covid_project.data_utils import get_processed_data, get_all_policies\n",
    "from tqdm.notebook import tqdm\n",
    "\n",
    "import numpy as np"
   ]
  },
  {
   "cell_type": "code",
   "execution_count": null,
   "id": "a6788027-bd91-461a-b390-be4b3d0f4b60",
   "metadata": {},
   "outputs": [],
   "source": []
  }
 ],
 "metadata": {
  "kernelspec": {
   "display_name": "Python 3 (ipykernel)",
   "language": "python",
   "name": "python3"
  },
  "language_info": {
   "codemirror_mode": {
    "name": "ipython",
    "version": 3
   },
   "file_extension": ".py",
   "mimetype": "text/x-python",
   "name": "python",
   "nbconvert_exporter": "python",
   "pygments_lexer": "ipython3",
   "version": "3.10.12"
  }
 },
 "nbformat": 4,
 "nbformat_minor": 5
}
