{
 "cells": [
  {
   "cell_type": "markdown",
   "id": "3838eb64-b3c2-41de-9268-46b5fc4ddb82",
   "metadata": {},
   "source": [
    "in future: Make some modifications to existing regression models. Instead of a bin model, set up a regressor variable that represents a ramp up / down when that policy starts / stops\n",
    "\n",
    "First: think of new ways to visualize existing results."
   ]
  },
  {
   "cell_type": "code",
   "execution_count": 1,
   "id": "653a6aec-c2aa-4443-8881-54fa275310b6",
   "metadata": {},
   "outputs": [],
   "source": [
    "\n",
    "from covid_project.regression_funcs import fit_ols_model_single_policy\n",
    "from covid_project.data_utils import get_all_policies, get_processed_data\n",
    "from covid_project.policy_mappings import policy_dict_v1\n",
    "from tqdm.notebook import tqdm\n",
    "import os\n",
    "import json"
   ]
  },
  {
   "cell_type": "code",
   "execution_count": 2,
   "id": "6d914cce-9f9e-405a-b2cb-c2651cf36787",
   "metadata": {},
   "outputs": [
    {
     "name": "stderr",
     "output_type": "stream",
     "text": [
      "/home/alex/Documents/github/Covid-19-correlation-analysis/covid_project/data_utils.py:146: FutureWarning: A value is trying to be set on a copy of a DataFrame or Series through chained assignment using an inplace method.\n",
      "The behavior will change in pandas 3.0. This inplace method will never work because the intermediate object on which we are setting values always behaves as a copy.\n",
      "\n",
      "For example, when doing 'df[col].method(value, inplace=True)', try using 'df.method({col: value}, inplace=True)' or df[col] = df[col].method(value) instead, to perform the operation inplace on the original object.\n",
      "\n",
      "\n",
      "  proc_policy_data[\"policy_type\"].replace(\n"
     ]
    }
   ],
   "source": [
    "\n",
    "all_bins = [\n",
    "        [(0, 14), (15, 999)],\n",
    "        [(0, 14), (15, 28), (29, 999)],\n",
    "        [(0, 7), (8, 14), (15, 999)],\n",
    "        [(0, 7), (8, 14), (15, 28), (29, 60), (61, 999)],\n",
    "    ]\n",
    "\n",
    "all_policies = get_all_policies(policy_dict = policy_dict_v1,\n",
    "                                min_samples = 3)\n",
    "\n",
    "dep_vars = [\n",
    "    'new_cases_1e6',\n",
    "    'new_deaths_1e6',\n",
    "    'new_cases_7day_1e6',\n",
    "    'new_deaths_7day_1e6',\n",
    "]"
   ]
  },
  {
   "cell_type": "code",
   "execution_count": 3,
   "id": "256b2755-c67e-4671-b216-17e70999f7f4",
   "metadata": {},
   "outputs": [],
   "source": [
    "def run_model_on_policies(bins,\n",
    "                          all_policies,\n",
    "                          dep_var,\n",
    "                          pbar=True):\n",
    "    \"\"\"Loop to run the regression model on all policies\"\"\"\n",
    "    \n",
    "    results = dict()\n",
    "    for policy in tqdm(all_policies, desc='running models'):\n",
    "        suc, data = get_processed_data(policy, bins)\n",
    "        if not suc:\n",
    "            print(f\"[ERROR] data read failed: bins={bins}, policy={policy}, var={dep_var}\")\n",
    "            continue\n",
    "        res = fit_ols_model_single_policy(data,\n",
    "                                          policy,\n",
    "                                          dep_var,\n",
    "                                          True)\n",
    "        results[policy] = res\n",
    "    return results"
   ]
  },
  {
   "cell_type": "code",
   "execution_count": 5,
   "id": "aa8c8f55-b660-4496-aca1-5d43e7cef673",
   "metadata": {},
   "outputs": [
    {
     "data": {
      "application/vnd.jupyter.widget-view+json": {
       "model_id": "ec6c4603c207499ab6a1dddcc594b1c0",
       "version_major": 2,
       "version_minor": 0
      },
      "text/plain": [
       "running models:   0%|          | 0/50 [00:00<?, ?it/s]"
      ]
     },
     "metadata": {},
     "output_type": "display_data"
    },
    {
     "name": "stdout",
     "output_type": "stream",
     "text": [
      "[ERROR] data read failed: bins=[(0, 14), (15, 999)], policy=outdoor and recreation - stop - county, var=['new_cases_1e6', 'new_deaths_1e6', 'new_cases_7day_1e6', 'new_deaths_7day_1e6']\n",
      "[ERROR] data read failed: bins=[(0, 14), (15, 999)], policy=non-essential businesses - stop - state, var=['new_cases_1e6', 'new_deaths_1e6', 'new_cases_7day_1e6', 'new_deaths_7day_1e6']\n",
      "[ERROR] data read failed: bins=[(0, 14), (15, 999)], policy=childcare - stop - county, var=['new_cases_1e6', 'new_deaths_1e6', 'new_cases_7day_1e6', 'new_deaths_7day_1e6']\n",
      "[ERROR] data read failed: bins=[(0, 14), (15, 999)], policy=entertainment - stop - county, var=['new_cases_1e6', 'new_deaths_1e6', 'new_cases_7day_1e6', 'new_deaths_7day_1e6']\n",
      "[ERROR] data read failed: bins=[(0, 14), (15, 999)], policy=mask mandate - stop - state, var=['new_cases_1e6', 'new_deaths_1e6', 'new_cases_7day_1e6', 'new_deaths_7day_1e6']\n",
      "[ERROR] data read failed: bins=[(0, 14), (15, 999)], policy=non-essential businesses - stop - county, var=['new_cases_1e6', 'new_deaths_1e6', 'new_cases_7day_1e6', 'new_deaths_7day_1e6']\n",
      "[ERROR] data read failed: bins=[(0, 14), (15, 999)], policy=personal care - stop - state, var=['new_cases_1e6', 'new_deaths_1e6', 'new_cases_7day_1e6', 'new_deaths_7day_1e6']\n",
      "[ERROR] data read failed: bins=[(0, 14), (15, 999)], policy=shelter in place - stop - county, var=['new_cases_1e6', 'new_deaths_1e6', 'new_cases_7day_1e6', 'new_deaths_7day_1e6']\n",
      "[ERROR] data read failed: bins=[(0, 14), (15, 999)], policy=gyms - stop - state, var=['new_cases_1e6', 'new_deaths_1e6', 'new_cases_7day_1e6', 'new_deaths_7day_1e6']\n",
      "[ERROR] data read failed: bins=[(0, 14), (15, 999)], policy=outdoor and recreation - stop - state, var=['new_cases_1e6', 'new_deaths_1e6', 'new_cases_7day_1e6', 'new_deaths_7day_1e6']\n",
      "[ERROR] data read failed: bins=[(0, 14), (15, 999)], policy=houses of worship - stop - state, var=['new_cases_1e6', 'new_deaths_1e6', 'new_cases_7day_1e6', 'new_deaths_7day_1e6']\n",
      "[ERROR] data read failed: bins=[(0, 14), (15, 999)], policy=houses of worship - stop - county, var=['new_cases_1e6', 'new_deaths_1e6', 'new_cases_7day_1e6', 'new_deaths_7day_1e6']\n",
      "[ERROR] data read failed: bins=[(0, 14), (15, 999)], policy=childcare - stop - state, var=['new_cases_1e6', 'new_deaths_1e6', 'new_cases_7day_1e6', 'new_deaths_7day_1e6']\n",
      "[ERROR] data read failed: bins=[(0, 14), (15, 999)], policy=shelter in place - stop - state, var=['new_cases_1e6', 'new_deaths_1e6', 'new_cases_7day_1e6', 'new_deaths_7day_1e6']\n",
      "[ERROR] data read failed: bins=[(0, 14), (15, 999)], policy=entertainment - stop - state, var=['new_cases_1e6', 'new_deaths_1e6', 'new_cases_7day_1e6', 'new_deaths_7day_1e6']\n",
      "[ERROR] data read failed: bins=[(0, 14), (15, 999)], policy=manufacturing - stop - state, var=['new_cases_1e6', 'new_deaths_1e6', 'new_cases_7day_1e6', 'new_deaths_7day_1e6']\n",
      "[ERROR] data read failed: bins=[(0, 14), (15, 999)], policy=manufacturing - stop - county, var=['new_cases_1e6', 'new_deaths_1e6', 'new_cases_7day_1e6', 'new_deaths_7day_1e6']\n",
      "[ERROR] data read failed: bins=[(0, 14), (15, 999)], policy=mask mandate - stop - county, var=['new_cases_1e6', 'new_deaths_1e6', 'new_cases_7day_1e6', 'new_deaths_7day_1e6']\n",
      "[ERROR] data read failed: bins=[(0, 14), (15, 999)], policy=personal care - stop - county, var=['new_cases_1e6', 'new_deaths_1e6', 'new_cases_7day_1e6', 'new_deaths_7day_1e6']\n",
      "[ERROR] data read failed: bins=[(0, 14), (15, 999)], policy=executive order - stop - state, var=['new_cases_1e6', 'new_deaths_1e6', 'new_cases_7day_1e6', 'new_deaths_7day_1e6']\n",
      "[ERROR] data read failed: bins=[(0, 14), (15, 999)], policy=manufacturing - start - state, var=['new_cases_1e6', 'new_deaths_1e6', 'new_cases_7day_1e6', 'new_deaths_7day_1e6']\n",
      "[ERROR] data read failed: bins=[(0, 14), (15, 999)], policy=mask mandate - start - county, var=['new_cases_1e6', 'new_deaths_1e6', 'new_cases_7day_1e6', 'new_deaths_7day_1e6']\n",
      "[ERROR] data read failed: bins=[(0, 14), (15, 999)], policy=entertainment - start - county, var=['new_cases_1e6', 'new_deaths_1e6', 'new_cases_7day_1e6', 'new_deaths_7day_1e6']\n",
      "[ERROR] data read failed: bins=[(0, 14), (15, 999)], policy=childcare - start - state, var=['new_cases_1e6', 'new_deaths_1e6', 'new_cases_7day_1e6', 'new_deaths_7day_1e6']\n",
      "[ERROR] data read failed: bins=[(0, 14), (15, 999)], policy=childcare - start - county, var=['new_cases_1e6', 'new_deaths_1e6', 'new_cases_7day_1e6', 'new_deaths_7day_1e6']\n",
      "[ERROR] data read failed: bins=[(0, 14), (15, 999)], policy=gyms - start - state, var=['new_cases_1e6', 'new_deaths_1e6', 'new_cases_7day_1e6', 'new_deaths_7day_1e6']\n",
      "[ERROR] data read failed: bins=[(0, 14), (15, 999)], policy=houses of worship - start - state, var=['new_cases_1e6', 'new_deaths_1e6', 'new_cases_7day_1e6', 'new_deaths_7day_1e6']\n",
      "[ERROR] data read failed: bins=[(0, 14), (15, 999)], policy=outdoor and recreation - start - county, var=['new_cases_1e6', 'new_deaths_1e6', 'new_cases_7day_1e6', 'new_deaths_7day_1e6']\n",
      "[ERROR] data read failed: bins=[(0, 14), (15, 999)], policy=shelter in place - start - county, var=['new_cases_1e6', 'new_deaths_1e6', 'new_cases_7day_1e6', 'new_deaths_7day_1e6']\n",
      "[ERROR] data read failed: bins=[(0, 14), (15, 999)], policy=medical - start - county, var=['new_cases_1e6', 'new_deaths_1e6', 'new_cases_7day_1e6', 'new_deaths_7day_1e6']\n",
      "[ERROR] data read failed: bins=[(0, 14), (15, 999)], policy=non-essential businesses - start - state, var=['new_cases_1e6', 'new_deaths_1e6', 'new_cases_7day_1e6', 'new_deaths_7day_1e6']\n",
      "[ERROR] data read failed: bins=[(0, 14), (15, 999)], policy=mask mandate - start - state, var=['new_cases_1e6', 'new_deaths_1e6', 'new_cases_7day_1e6', 'new_deaths_7day_1e6']\n",
      "[ERROR] data read failed: bins=[(0, 14), (15, 999)], policy=housing - start - state, var=['new_cases_1e6', 'new_deaths_1e6', 'new_cases_7day_1e6', 'new_deaths_7day_1e6']\n",
      "[ERROR] data read failed: bins=[(0, 14), (15, 999)], policy=medical - start - state, var=['new_cases_1e6', 'new_deaths_1e6', 'new_cases_7day_1e6', 'new_deaths_7day_1e6']\n",
      "[ERROR] data read failed: bins=[(0, 14), (15, 999)], policy=non-essential businesses - start - county, var=['new_cases_1e6', 'new_deaths_1e6', 'new_cases_7day_1e6', 'new_deaths_7day_1e6']\n",
      "[ERROR] data read failed: bins=[(0, 14), (15, 999)], policy=state of emergency - start - state, var=['new_cases_1e6', 'new_deaths_1e6', 'new_cases_7day_1e6', 'new_deaths_7day_1e6']\n",
      "[ERROR] data read failed: bins=[(0, 14), (15, 999)], policy=houses of worship - start - county, var=['new_cases_1e6', 'new_deaths_1e6', 'new_cases_7day_1e6', 'new_deaths_7day_1e6']\n",
      "[ERROR] data read failed: bins=[(0, 14), (15, 999)], policy=outdoor and recreation - start - state, var=['new_cases_1e6', 'new_deaths_1e6', 'new_cases_7day_1e6', 'new_deaths_7day_1e6']\n",
      "[ERROR] data read failed: bins=[(0, 14), (15, 999)], policy=wholesale trade - start - county, var=['new_cases_1e6', 'new_deaths_1e6', 'new_cases_7day_1e6', 'new_deaths_7day_1e6']\n",
      "[ERROR] data read failed: bins=[(0, 14), (15, 999)], policy=entertainment - start - state, var=['new_cases_1e6', 'new_deaths_1e6', 'new_cases_7day_1e6', 'new_deaths_7day_1e6']\n"
     ]
    },
    {
     "ename": "InvalidIndexError",
     "evalue": "('info', ['new_cases_1e6', 'new_deaths_1e6', 'new_cases_7day_1e6', 'new_deaths_7day_1e6'])",
     "output_type": "error",
     "traceback": [
      "\u001b[0;31m---------------------------------------------------------------------------\u001b[0m",
      "\u001b[0;31mInvalidIndexError\u001b[0m                         Traceback (most recent call last)",
      "Cell \u001b[0;32mIn[5], line 1\u001b[0m\n\u001b[0;32m----> 1\u001b[0m results \u001b[38;5;241m=\u001b[39m \u001b[43mrun_model_on_policies\u001b[49m\u001b[43m(\u001b[49m\u001b[43mbins\u001b[49m\u001b[38;5;241;43m=\u001b[39;49m\u001b[43m[\u001b[49m\u001b[43m(\u001b[49m\u001b[38;5;241;43m0\u001b[39;49m\u001b[43m,\u001b[49m\u001b[43m \u001b[49m\u001b[38;5;241;43m14\u001b[39;49m\u001b[43m)\u001b[49m\u001b[43m,\u001b[49m\u001b[43m \u001b[49m\u001b[43m(\u001b[49m\u001b[38;5;241;43m15\u001b[39;49m\u001b[43m,\u001b[49m\u001b[43m \u001b[49m\u001b[38;5;241;43m999\u001b[39;49m\u001b[43m)\u001b[49m\u001b[43m]\u001b[49m\u001b[43m,\u001b[49m\n\u001b[1;32m      2\u001b[0m \u001b[43m                                \u001b[49m\u001b[43mall_policies\u001b[49m\u001b[43m \u001b[49m\u001b[38;5;241;43m=\u001b[39;49m\u001b[43m \u001b[49m\u001b[43mall_policies\u001b[49m\u001b[43m,\u001b[49m\n\u001b[1;32m      3\u001b[0m \u001b[43m                                \u001b[49m\u001b[43mdep_var\u001b[49m\u001b[43m \u001b[49m\u001b[38;5;241;43m=\u001b[39;49m\u001b[43m \u001b[49m\u001b[43mdep_vars\u001b[49m\u001b[43m,\u001b[49m\n\u001b[1;32m      4\u001b[0m \u001b[43m                               \u001b[49m\u001b[43m)\u001b[49m\n",
      "Cell \u001b[0;32mIn[3], line 13\u001b[0m, in \u001b[0;36mrun_model_on_policies\u001b[0;34m(bins, all_policies, dep_var, pbar)\u001b[0m\n\u001b[1;32m     11\u001b[0m         \u001b[38;5;28mprint\u001b[39m(\u001b[38;5;124mf\u001b[39m\u001b[38;5;124m\"\u001b[39m\u001b[38;5;124m[ERROR] data read failed: bins=\u001b[39m\u001b[38;5;132;01m{\u001b[39;00mbins\u001b[38;5;132;01m}\u001b[39;00m\u001b[38;5;124m, policy=\u001b[39m\u001b[38;5;132;01m{\u001b[39;00mpolicy\u001b[38;5;132;01m}\u001b[39;00m\u001b[38;5;124m, var=\u001b[39m\u001b[38;5;132;01m{\u001b[39;00mdep_var\u001b[38;5;132;01m}\u001b[39;00m\u001b[38;5;124m\"\u001b[39m)\n\u001b[1;32m     12\u001b[0m         \u001b[38;5;28;01mcontinue\u001b[39;00m\n\u001b[0;32m---> 13\u001b[0m     res \u001b[38;5;241m=\u001b[39m \u001b[43mfit_ols_model_single_policy\u001b[49m\u001b[43m(\u001b[49m\u001b[43mdata\u001b[49m\u001b[43m,\u001b[49m\n\u001b[1;32m     14\u001b[0m \u001b[43m                                      \u001b[49m\u001b[43mpolicy\u001b[49m\u001b[43m,\u001b[49m\n\u001b[1;32m     15\u001b[0m \u001b[43m                                      \u001b[49m\u001b[43mdep_var\u001b[49m\u001b[43m,\u001b[49m\n\u001b[1;32m     16\u001b[0m \u001b[43m                                      \u001b[49m\u001b[38;5;28;43;01mTrue\u001b[39;49;00m\u001b[43m)\u001b[49m\n\u001b[1;32m     17\u001b[0m     results[policy] \u001b[38;5;241m=\u001b[39m res\n\u001b[1;32m     18\u001b[0m \u001b[38;5;28;01mreturn\u001b[39;00m results\n",
      "File \u001b[0;32m~/Documents/github/Covid-19-correlation-analysis/covid_project/regression_funcs.py:41\u001b[0m, in \u001b[0;36mfit_ols_model_single_policy\u001b[0;34m(data, policy_name, dep_var, use_const)\u001b[0m\n\u001b[1;32m     20\u001b[0m \u001b[38;5;28;01mdef\u001b[39;00m \u001b[38;5;21mfit_ols_model_single_policy\u001b[39m(data,\n\u001b[1;32m     21\u001b[0m                                 policy_name,\n\u001b[1;32m     22\u001b[0m                                 dep_var,\n\u001b[1;32m     23\u001b[0m                                 use_const\u001b[38;5;241m=\u001b[39m\u001b[38;5;28;01mTrue\u001b[39;00m):\n\u001b[1;32m     24\u001b[0m \u001b[38;5;250m    \u001b[39m\u001b[38;5;124;03m\"\"\"Fit an ols model from statsmodels\u001b[39;00m\n\u001b[1;32m     25\u001b[0m \n\u001b[1;32m     26\u001b[0m \u001b[38;5;124;03m    Parameters\u001b[39;00m\n\u001b[0;32m   (...)\u001b[0m\n\u001b[1;32m     39\u001b[0m \u001b[38;5;124;03m    r^2 value (r_squared) and the p values (p_values)\u001b[39;00m\n\u001b[1;32m     40\u001b[0m \u001b[38;5;124;03m    \"\"\"\u001b[39;00m\n\u001b[0;32m---> 41\u001b[0m     y \u001b[38;5;241m=\u001b[39m \u001b[43mdata\u001b[49m\u001b[43m[\u001b[49m\u001b[43m(\u001b[49m\u001b[38;5;124;43m'\u001b[39;49m\u001b[38;5;124;43minfo\u001b[39;49m\u001b[38;5;124;43m'\u001b[39;49m\u001b[43m,\u001b[49m\u001b[43m \u001b[49m\u001b[43mdep_var\u001b[49m\u001b[43m)\u001b[49m\u001b[43m]\u001b[49m\n\u001b[1;32m     42\u001b[0m     X \u001b[38;5;241m=\u001b[39m data[policy_name]\n\u001b[1;32m     44\u001b[0m     \u001b[38;5;28;01mif\u001b[39;00m use_const:\n",
      "File \u001b[0;32m~/Documents/github/Covid-19-correlation-analysis/env/lib/python3.12/site-packages/pandas/core/frame.py:4101\u001b[0m, in \u001b[0;36mDataFrame.__getitem__\u001b[0;34m(self, key)\u001b[0m\n\u001b[1;32m   4099\u001b[0m \u001b[38;5;28;01mif\u001b[39;00m is_single_key:\n\u001b[1;32m   4100\u001b[0m     \u001b[38;5;28;01mif\u001b[39;00m \u001b[38;5;28mself\u001b[39m\u001b[38;5;241m.\u001b[39mcolumns\u001b[38;5;241m.\u001b[39mnlevels \u001b[38;5;241m>\u001b[39m \u001b[38;5;241m1\u001b[39m:\n\u001b[0;32m-> 4101\u001b[0m         \u001b[38;5;28;01mreturn\u001b[39;00m \u001b[38;5;28;43mself\u001b[39;49m\u001b[38;5;241;43m.\u001b[39;49m\u001b[43m_getitem_multilevel\u001b[49m\u001b[43m(\u001b[49m\u001b[43mkey\u001b[49m\u001b[43m)\u001b[49m\n\u001b[1;32m   4102\u001b[0m     indexer \u001b[38;5;241m=\u001b[39m \u001b[38;5;28mself\u001b[39m\u001b[38;5;241m.\u001b[39mcolumns\u001b[38;5;241m.\u001b[39mget_loc(key)\n\u001b[1;32m   4103\u001b[0m     \u001b[38;5;28;01mif\u001b[39;00m is_integer(indexer):\n",
      "File \u001b[0;32m~/Documents/github/Covid-19-correlation-analysis/env/lib/python3.12/site-packages/pandas/core/frame.py:4159\u001b[0m, in \u001b[0;36mDataFrame._getitem_multilevel\u001b[0;34m(self, key)\u001b[0m\n\u001b[1;32m   4157\u001b[0m \u001b[38;5;28;01mdef\u001b[39;00m \u001b[38;5;21m_getitem_multilevel\u001b[39m(\u001b[38;5;28mself\u001b[39m, key):\n\u001b[1;32m   4158\u001b[0m     \u001b[38;5;66;03m# self.columns is a MultiIndex\u001b[39;00m\n\u001b[0;32m-> 4159\u001b[0m     loc \u001b[38;5;241m=\u001b[39m \u001b[38;5;28;43mself\u001b[39;49m\u001b[38;5;241;43m.\u001b[39;49m\u001b[43mcolumns\u001b[49m\u001b[38;5;241;43m.\u001b[39;49m\u001b[43mget_loc\u001b[49m\u001b[43m(\u001b[49m\u001b[43mkey\u001b[49m\u001b[43m)\u001b[49m\n\u001b[1;32m   4160\u001b[0m     \u001b[38;5;28;01mif\u001b[39;00m \u001b[38;5;28misinstance\u001b[39m(loc, (\u001b[38;5;28mslice\u001b[39m, np\u001b[38;5;241m.\u001b[39mndarray)):\n\u001b[1;32m   4161\u001b[0m         new_columns \u001b[38;5;241m=\u001b[39m \u001b[38;5;28mself\u001b[39m\u001b[38;5;241m.\u001b[39mcolumns[loc]\n",
      "File \u001b[0;32m~/Documents/github/Covid-19-correlation-analysis/env/lib/python3.12/site-packages/pandas/core/indexes/multi.py:3023\u001b[0m, in \u001b[0;36mMultiIndex.get_loc\u001b[0;34m(self, key)\u001b[0m\n\u001b[1;32m   2982\u001b[0m \u001b[38;5;28;01mdef\u001b[39;00m \u001b[38;5;21mget_loc\u001b[39m(\u001b[38;5;28mself\u001b[39m, key):\n\u001b[1;32m   2983\u001b[0m \u001b[38;5;250m    \u001b[39m\u001b[38;5;124;03m\"\"\"\u001b[39;00m\n\u001b[1;32m   2984\u001b[0m \u001b[38;5;124;03m    Get location for a label or a tuple of labels.\u001b[39;00m\n\u001b[1;32m   2985\u001b[0m \n\u001b[0;32m   (...)\u001b[0m\n\u001b[1;32m   3021\u001b[0m \u001b[38;5;124;03m    1\u001b[39;00m\n\u001b[1;32m   3022\u001b[0m \u001b[38;5;124;03m    \"\"\"\u001b[39;00m\n\u001b[0;32m-> 3023\u001b[0m     \u001b[38;5;28;43mself\u001b[39;49m\u001b[38;5;241;43m.\u001b[39;49m\u001b[43m_check_indexing_error\u001b[49m\u001b[43m(\u001b[49m\u001b[43mkey\u001b[49m\u001b[43m)\u001b[49m\n\u001b[1;32m   3025\u001b[0m     \u001b[38;5;28;01mdef\u001b[39;00m \u001b[38;5;21m_maybe_to_slice\u001b[39m(loc):\n\u001b[1;32m   3026\u001b[0m \u001b[38;5;250m        \u001b[39m\u001b[38;5;124;03m\"\"\"convert integer indexer to boolean mask or slice if possible\"\"\"\u001b[39;00m\n",
      "File \u001b[0;32m~/Documents/github/Covid-19-correlation-analysis/env/lib/python3.12/site-packages/pandas/core/indexes/multi.py:2743\u001b[0m, in \u001b[0;36mMultiIndex._check_indexing_error\u001b[0;34m(self, key)\u001b[0m\n\u001b[1;32m   2738\u001b[0m \u001b[38;5;28;01mdef\u001b[39;00m \u001b[38;5;21m_check_indexing_error\u001b[39m(\u001b[38;5;28mself\u001b[39m, key) \u001b[38;5;241m-\u001b[39m\u001b[38;5;241m>\u001b[39m \u001b[38;5;28;01mNone\u001b[39;00m:\n\u001b[1;32m   2739\u001b[0m     \u001b[38;5;28;01mif\u001b[39;00m \u001b[38;5;129;01mnot\u001b[39;00m is_hashable(key) \u001b[38;5;129;01mor\u001b[39;00m is_iterator(key):\n\u001b[1;32m   2740\u001b[0m         \u001b[38;5;66;03m# We allow tuples if they are hashable, whereas other Index\u001b[39;00m\n\u001b[1;32m   2741\u001b[0m         \u001b[38;5;66;03m#  subclasses require scalar.\u001b[39;00m\n\u001b[1;32m   2742\u001b[0m         \u001b[38;5;66;03m# We have to explicitly exclude generators, as these are hashable.\u001b[39;00m\n\u001b[0;32m-> 2743\u001b[0m         \u001b[38;5;28;01mraise\u001b[39;00m InvalidIndexError(key)\n",
      "\u001b[0;31mInvalidIndexError\u001b[0m: ('info', ['new_cases_1e6', 'new_deaths_1e6', 'new_cases_7day_1e6', 'new_deaths_7day_1e6'])"
     ]
    }
   ],
   "source": [
    "results = run_model_on_policies(bins=[(0, 14), (15, 999)],\n",
    "                                all_policies = all_policies,\n",
    "                                dep_var = dep_vars,\n",
    "                               )"
   ]
  },
  {
   "cell_type": "code",
   "execution_count": null,
   "id": "7e6478a6-0a5b-4764-9a43-4f5e61b3b6d9",
   "metadata": {},
   "outputs": [],
   "source": []
  }
 ],
 "metadata": {
  "kernelspec": {
   "display_name": "Python 3 (ipykernel)",
   "language": "python",
   "name": "python3"
  },
  "language_info": {
   "codemirror_mode": {
    "name": "ipython",
    "version": 3
   },
   "file_extension": ".py",
   "mimetype": "text/x-python",
   "name": "python",
   "nbconvert_exporter": "python",
   "pygments_lexer": "ipython3",
   "version": "3.12.3"
  }
 },
 "nbformat": 4,
 "nbformat_minor": 5
}
