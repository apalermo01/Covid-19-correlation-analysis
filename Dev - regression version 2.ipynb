{
 "cells": [
  {
   "cell_type": "markdown",
   "id": "3838eb64-b3c2-41de-9268-46b5fc4ddb82",
   "metadata": {},
   "source": [
    "in future: Make some modifications to existing regression models. Instead of a bin model, set up a regressor variable that represents a ramp up / down when that policy starts / stops\n",
    "\n",
    "First: think of new ways to visualize existing results."
   ]
  },
  {
   "cell_type": "code",
   "execution_count": 1,
   "id": "653a6aec-c2aa-4443-8881-54fa275310b6",
   "metadata": {},
   "outputs": [],
   "source": [
    "\n",
    "from covid_project.regression_funcs_bins import fit_ols_model_single_policy\n",
    "# from covid_project.data_utils import get_all_policies, get_processed_data\n",
    "from covid_project.policy_mappings import policy_dict_v1\n",
    "from covid_project.data_utils import get_all_policies\n",
    "from tqdm.auto import tqdm\n",
    "import os\n",
    "import json"
   ]
  },
  {
   "cell_type": "code",
   "execution_count": 11,
   "id": "b53cc942-3d5e-4a8f-b791-39eca65ebbf9",
   "metadata": {},
   "outputs": [],
   "source": [
    "from covid_project.data_cleaning import clean_policy_data\n",
    "from covid_project.policy_mappings import policy_dict_v2\n",
    "policies = clean_policy_data()"
   ]
  },
  {
   "cell_type": "code",
   "execution_count": 13,
   "id": "367c0f0a-ed3f-4a84-8d2c-ec1bfa23c3cc",
   "metadata": {},
   "outputs": [],
   "source": [
    "policies['policy_type'] = policies['policy_type'].replace(policy_dict_v2)"
   ]
  },
  {
   "cell_type": "code",
   "execution_count": 14,
   "id": "419af001-de1c-4e10-95bd-9a98222221ed",
   "metadata": {},
   "outputs": [
    {
     "data": {
      "text/plain": [
       "array(['outdoor and recreation', 'non-essential businesses', 'childcare',\n",
       "       'entertainment', 'mask mandate', 'personal care',\n",
       "       'shelter in place', 'gyms', 'houses of worship', 'gatherings',\n",
       "       'manufacturing', 'executive order', 'medical',\n",
       "       'updated guidelines', 'phase 2, 3', 'state of emergency',\n",
       "       'housing', 'election', 'wholesale trade', 'nursing homes',\n",
       "       'graduation', 'camps', 'travel', 'education', 'construction',\n",
       "       'training jobs', 'phase 3 step 2', 'agriculture'], dtype=object)"
      ]
     },
     "execution_count": 14,
     "metadata": {},
     "output_type": "execute_result"
    }
   ],
   "source": [
    "policies['policy_type'].unique()"
   ]
  },
  {
   "cell_type": "code",
   "execution_count": 10,
   "id": "e9fa52e9-6f1a-428a-9577-679b5b8a7fd6",
   "metadata": {},
   "outputs": [
    {
     "data": {
      "text/plain": [
       "array(['outdoor and recreation', 'non-essential businesses',\n",
       "       'childcare (k-12)', 'entertainment', 'mask requirement',\n",
       "       'personal care', 'shelter in place', 'gyms', 'houses of worship',\n",
       "       'public gatherings', 'day care', 'food and drink', 'manufacturing',\n",
       "       'executive order', 'health risk status', 'gatherings',\n",
       "       'updated guidelines', 'phase 2, 3', 'alternative care facilities',\n",
       "       'state of emergency/funds', 'bars',\n",
       "       'public health advisory system', 'stop enforcement of evictions',\n",
       "       'election', 'allow audio only telehealth', 'state of emergency',\n",
       "       'wholesale trade', 'suspend elective dental procedures',\n",
       "       'modify medicaid requirements', 'mandate face masks in businesses',\n",
       "       'stop initiation of evictions',\n",
       "       'resumed elective medical procedures',\n",
       "       'expand medicaid telehealth coverage', 'nursing homes',\n",
       "       'graduation', 'mandate face masks in public spaces', 'medical',\n",
       "       'residential overnight camps', 'travel',\n",
       "       'aca special enrollment period', 'graduation ceremony guidelines',\n",
       "       'museums', 'colleges & universities', 'libraries', 'construction',\n",
       "       'training jobs', 'quarantine', 'traveler from out of state',\n",
       "       'nursing home visitations', 'higher education', 'education',\n",
       "       'phase 3 step 2', 'day camps/overnight camps', 'agriculture'],\n",
       "      dtype=object)"
      ]
     },
     "execution_count": 10,
     "metadata": {},
     "output_type": "execute_result"
    }
   ],
   "source": [
    "import pandas as pd\n",
    "df = pd.read_csv(\"./data/diffs/10_diffs.csv\")\n",
    "df['policy_type'].unique()"
   ]
  },
  {
   "cell_type": "code",
   "execution_count": 2,
   "id": "6d914cce-9f9e-405a-b2cb-c2651cf36787",
   "metadata": {},
   "outputs": [
    {
     "name": "stderr",
     "output_type": "stream",
     "text": [
      "/home/alex/Documents/github/Covid-19-correlation-analysis/covid_project/data_utils.py:224: FutureWarning: A value is trying to be set on a copy of a DataFrame or Series through chained assignment using an inplace method.\n",
      "The behavior will change in pandas 3.0. This inplace method will never work because the intermediate object on which we are setting values always behaves as a copy.\n",
      "\n",
      "For example, when doing 'df[col].method(value, inplace=True)', try using 'df.method({col: value}, inplace=True)' or df[col] = df[col].method(value) instead, to perform the operation inplace on the original object.\n",
      "\n",
      "\n",
      "  proc_policy_data[\"policy_type\"].replace(\n"
     ]
    }
   ],
   "source": [
    "\n",
    "all_bins = [\n",
    "        [(0, 14), (15, 999)],\n",
    "        [(0, 14), (15, 28), (29, 999)],\n",
    "        [(0, 7), (8, 14), (15, 999)],\n",
    "        [(0, 7), (8, 14), (15, 28), (29, 60), (61, 999)],\n",
    "    ]\n",
    "\n",
    "all_policies = get_all_policies(policy_dict = policy_dict_v1,\n",
    "                                min_samples = 3)\n",
    "\n",
    "dep_vars = [\n",
    "    'new_cases_1e6',\n",
    "    'new_deaths_1e6',\n",
    "    'new_cases_7day_1e6',\n",
    "    'new_deaths_7day_1e6',\n",
    "]"
   ]
  },
  {
   "cell_type": "code",
   "execution_count": 3,
   "id": "256b2755-c67e-4671-b216-17e70999f7f4",
   "metadata": {},
   "outputs": [],
   "source": [
    "def run_model_on_policies(bins,\n",
    "                          all_policies,\n",
    "                          dep_var,\n",
    "                          pbar=True):\n",
    "    \"\"\"Loop to run the regression model on all policies\"\"\"\n",
    "    \n",
    "    results = dict()\n",
    "    for policy in tqdm(all_policies, desc='running models'):\n",
    "        suc, data = get_processed_data(policy, bins)\n",
    "        if not suc:\n",
    "            print(f\"[ERROR] data read failed: bins={bins}, policy={policy}, var={dep_var}\")\n",
    "            continue\n",
    "        res = fit_ols_model_single_policy(data,\n",
    "                                          policy,\n",
    "                                          dep_var,\n",
    "                                          True)\n",
    "        results[policy] = res\n",
    "    return results"
   ]
  },
  {
   "cell_type": "code",
   "execution_count": 4,
   "id": "aa8c8f55-b660-4496-aca1-5d43e7cef673",
   "metadata": {},
   "outputs": [
    {
     "data": {
      "application/vnd.jupyter.widget-view+json": {
       "model_id": "871126319421441196c1072d306590af",
       "version_major": 2,
       "version_minor": 0
      },
      "text/plain": [
       "running models:   0%|          | 0/50 [00:00<?, ?it/s]"
      ]
     },
     "metadata": {},
     "output_type": "display_data"
    },
    {
     "ename": "NameError",
     "evalue": "name 'get_processed_data' is not defined",
     "output_type": "error",
     "traceback": [
      "\u001b[0;31m---------------------------------------------------------------------------\u001b[0m",
      "\u001b[0;31mNameError\u001b[0m                                 Traceback (most recent call last)",
      "Cell \u001b[0;32mIn[4], line 1\u001b[0m\n\u001b[0;32m----> 1\u001b[0m results \u001b[38;5;241m=\u001b[39m \u001b[43mrun_model_on_policies\u001b[49m\u001b[43m(\u001b[49m\u001b[43mbins\u001b[49m\u001b[38;5;241;43m=\u001b[39;49m\u001b[43m[\u001b[49m\u001b[43m(\u001b[49m\u001b[38;5;241;43m0\u001b[39;49m\u001b[43m,\u001b[49m\u001b[43m \u001b[49m\u001b[38;5;241;43m14\u001b[39;49m\u001b[43m)\u001b[49m\u001b[43m,\u001b[49m\u001b[43m \u001b[49m\u001b[43m(\u001b[49m\u001b[38;5;241;43m15\u001b[39;49m\u001b[43m,\u001b[49m\u001b[43m \u001b[49m\u001b[38;5;241;43m999\u001b[39;49m\u001b[43m)\u001b[49m\u001b[43m]\u001b[49m\u001b[43m,\u001b[49m\n\u001b[1;32m      2\u001b[0m \u001b[43m                                \u001b[49m\u001b[43mall_policies\u001b[49m\u001b[43m \u001b[49m\u001b[38;5;241;43m=\u001b[39;49m\u001b[43m \u001b[49m\u001b[43mall_policies\u001b[49m\u001b[43m,\u001b[49m\n\u001b[1;32m      3\u001b[0m \u001b[43m                                \u001b[49m\u001b[43mdep_var\u001b[49m\u001b[43m \u001b[49m\u001b[38;5;241;43m=\u001b[39;49m\u001b[43m \u001b[49m\u001b[43mdep_vars\u001b[49m\u001b[43m,\u001b[49m\n\u001b[1;32m      4\u001b[0m \u001b[43m                               \u001b[49m\u001b[43m)\u001b[49m\n",
      "Cell \u001b[0;32mIn[3], line 9\u001b[0m, in \u001b[0;36mrun_model_on_policies\u001b[0;34m(bins, all_policies, dep_var, pbar)\u001b[0m\n\u001b[1;32m      7\u001b[0m results \u001b[38;5;241m=\u001b[39m \u001b[38;5;28mdict\u001b[39m()\n\u001b[1;32m      8\u001b[0m \u001b[38;5;28;01mfor\u001b[39;00m policy \u001b[38;5;129;01min\u001b[39;00m tqdm(all_policies, desc\u001b[38;5;241m=\u001b[39m\u001b[38;5;124m'\u001b[39m\u001b[38;5;124mrunning models\u001b[39m\u001b[38;5;124m'\u001b[39m):\n\u001b[0;32m----> 9\u001b[0m     suc, data \u001b[38;5;241m=\u001b[39m \u001b[43mget_processed_data\u001b[49m(policy, bins)\n\u001b[1;32m     10\u001b[0m     \u001b[38;5;28;01mif\u001b[39;00m \u001b[38;5;129;01mnot\u001b[39;00m suc:\n\u001b[1;32m     11\u001b[0m         \u001b[38;5;28mprint\u001b[39m(\u001b[38;5;124mf\u001b[39m\u001b[38;5;124m\"\u001b[39m\u001b[38;5;124m[ERROR] data read failed: bins=\u001b[39m\u001b[38;5;132;01m{\u001b[39;00mbins\u001b[38;5;132;01m}\u001b[39;00m\u001b[38;5;124m, policy=\u001b[39m\u001b[38;5;132;01m{\u001b[39;00mpolicy\u001b[38;5;132;01m}\u001b[39;00m\u001b[38;5;124m, var=\u001b[39m\u001b[38;5;132;01m{\u001b[39;00mdep_var\u001b[38;5;132;01m}\u001b[39;00m\u001b[38;5;124m\"\u001b[39m)\n",
      "\u001b[0;31mNameError\u001b[0m: name 'get_processed_data' is not defined"
     ]
    }
   ],
   "source": [
    "results = run_model_on_policies(bins=[(0, 14), (15, 999)],\n",
    "                                all_policies = all_policies,\n",
    "                                dep_var = dep_vars,\n",
    "                               )"
   ]
  },
  {
   "cell_type": "code",
   "execution_count": null,
   "id": "7e6478a6-0a5b-4764-9a43-4f5e61b3b6d9",
   "metadata": {},
   "outputs": [],
   "source": []
  }
 ],
 "metadata": {
  "kernelspec": {
   "display_name": "Python 3 (ipykernel)",
   "language": "python",
   "name": "python3"
  },
  "language_info": {
   "codemirror_mode": {
    "name": "ipython",
    "version": 3
   },
   "file_extension": ".py",
   "mimetype": "text/x-python",
   "name": "python",
   "nbconvert_exporter": "python",
   "pygments_lexer": "ipython3",
   "version": "3.12.3"
  }
 },
 "nbformat": 4,
 "nbformat_minor": 5
}
