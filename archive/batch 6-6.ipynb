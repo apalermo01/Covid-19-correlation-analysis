{
 "cells": [
  {
   "cell_type": "markdown",
   "id": "a7543369",
   "metadata": {},
   "source": [
    "# Experiment batch 6-6\n",
    "\n",
    "best model: decision tree\n",
    "\n",
    "Try to boost R^2 performance by including more trees and more complex bins"
   ]
  },
  {
   "cell_type": "markdown",
   "id": "82802f46",
   "metadata": {},
   "source": [
    "# Imports"
   ]
  },
  {
   "cell_type": "code",
   "execution_count": 1,
   "id": "5a1f255a",
   "metadata": {},
   "outputs": [],
   "source": [
    "from src.CovidDataClass import CovidDataClass as cd\n",
    "from src.cfg import *\n",
    "import os\n",
    "import numpy as np\n",
    "import pandas as pd\n",
    "import numpy as np\n",
    "\n",
    "# sklearn modules\n",
    "from sklearn.linear_model import LinearRegression, Ridge, Lasso, ElasticNet, BayesianRidge, ARDRegression\n",
    "from sklearn.tree import DecisionTreeRegressor\n",
    "from sklearn.ensemble import RandomForestRegressor\n",
    "from sklearn.metrics import r2_score, mean_squared_error, explained_variance_score\n",
    "\n",
    "RESULTS_DIR = \"/home/alex/Documents/GitHub/covid-19-data-analysis/results/\""
   ]
  },
  {
   "cell_type": "markdown",
   "id": "72266a00",
   "metadata": {},
   "source": [
    "# Initialize data handler"
   ]
  },
  {
   "cell_type": "code",
   "execution_count": 2,
   "id": "a7bb5c8e",
   "metadata": {},
   "outputs": [
    {
     "name": "stderr",
     "output_type": "stream",
     "text": [
      "/home/alex/anaconda3/envs/covid_project/lib/python3.9/site-packages/numpy/lib/arraysetops.py:583: FutureWarning: elementwise comparison failed; returning scalar instead, but in the future will perform elementwise comparison\n",
      "  mask |= (ar1 == a)\n"
     ]
    }
   ],
   "source": [
    "data = cd(load_local=True, load_clean=True)"
   ]
  },
  {
   "cell_type": "code",
   "execution_count": null,
   "id": "e3f31b9b",
   "metadata": {},
   "outputs": [
    {
     "name": "stdout",
     "output_type": "stream",
     "text": [
      "bins: [(0, 7), (8, 14), (15, 21), (22, 28), (29, 35), (36, 42), (43, 49), (50, 56), (57, 63), (64, 70), (71, 77), (78, 84), (85, 91), (92, 99), (100, 999)]\n"
     ]
    }
   ],
   "source": [
    "# TODO: consider changing bin layout to delta days:\n",
    "# e.g. [(0, 7), (8, 999)] would turn to [7, 999]\n",
    "\n",
    "# from last time, best performing bins were 10, 11, 15, 5, 8\n",
    "bins_dict = {\n",
    "#   1: [(0, 7), (8, 999)],\n",
    "#   2: [(0, 14), (15, 999)],\n",
    "#   3: [(0, 21), (22, 999)],\n",
    "#   4: [(0, 28), (29, 999)],\n",
    "#   5: [(0, 35), (36, 999)],\n",
    "#   6: [(0, 7), (8, 14), (15, 999)],\n",
    "#   7: [(0, 7), (8, 21), (22, 999)],\n",
    "#   8: [(0, 7), (8, 35), (36, 999)],\n",
    "#   9: [(0, 14), (15, 21), (22, 999)],\n",
    "#   10: [(0, 14), (15, 35), (36, 999)],\n",
    "#   11: [(0, 21), (22, 35), (35, 999)],\n",
    "#   12: [(0, 3), (4, 999)],\n",
    "#   13: [(0, 3), (4, 7), (8, 999)],\n",
    "#   14: [(0, 3), (4, 14), (15, 999)],\n",
    "#   15: [(0, 3), (4, 14), (15, 35), (36, 999)],\n",
    "#   16: [(0, 7), (8, 14), (15, 21), (22, 28), (29, 999)]\n",
    "  17: [(0, 7), (8, 14), (15, 21), (22, 28), (29, 35), (36, 42), (43, 49), (50, 56), (57, 63), (64, 70),\n",
    "      (71, 77), (78, 84), (85, 91), (92, 99), (100, 999)],\n",
    "  18: [(0, 7), (8, 14), (15, 28), (29, 42), (43, 56), (57, 77), (78, 99), (100, 999)],\n",
    "  19: [(0, 3), (4, 8), (9, 14), (15, 21), (22, 29), (30, 38), (39, 48), (49, 59), (60, 71),\n",
    "       (72, 84), (85, 98), (99, 113), (114, 999)]\n",
    "}\n",
    "\n",
    "models_dict = {\n",
    "  'dt': DecisionTreeRegressor(),\n",
    "  'rf3': RandomForestRegressor(n_estimators=3),\n",
    "  'rf10': RandomForestRegressor(n_estimators=10),\n",
    "  'rf20': RandomForestRegressor(n_estimators=20),\n",
    "  'rf50': RandomForestRegressor(n_estimators=50),\n",
    "  'rf100': RandomForestRegressor(n_estimators=100),\n",
    "}\n",
    "\n",
    "metrics_dict = {\n",
    "  'R^2': r2_score,\n",
    "  'MSE': mean_squared_error,\n",
    "  'Explained_var': explained_variance_score,\n",
    "}\n",
    "\n",
    "results = data.run_batch(\n",
    "  bins_dict=bins_dict,\n",
    "  models_dict=models_dict,\n",
    "  metrics_dict=metrics_dict,\n",
    "  K=10,\n",
    "  verbose=True,\n",
    "  save_output=True,\n",
    "  output_json=True,\n",
    "  filename=RESULTS_DIR + \"batch_66.txt\",\n",
    "  json_file=RESULTS_DIR + \"batch_66.json\",\n",
    ")"
   ]
  },
  {
   "cell_type": "code",
   "execution_count": null,
   "id": "cb81ea8e",
   "metadata": {},
   "outputs": [],
   "source": []
  }
 ],
 "metadata": {
  "kernelspec": {
   "display_name": "Python 3 (ipykernel)",
   "language": "python",
   "name": "python3"
  },
  "language_info": {
   "codemirror_mode": {
    "name": "ipython",
    "version": 3
   },
   "file_extension": ".py",
   "mimetype": "text/x-python",
   "name": "python",
   "nbconvert_exporter": "python",
   "pygments_lexer": "ipython3",
   "version": "3.10.12"
  }
 },
 "nbformat": 4,
 "nbformat_minor": 5
}
