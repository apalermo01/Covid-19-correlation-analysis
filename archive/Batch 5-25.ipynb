{
 "cells": [
  {
   "cell_type": "markdown",
   "metadata": {},
   "source": [
    "# Experiment batch 5-24\n",
    "\n",
    "Load some initial candidates for the most likely bins, try out a bunch of different models for performing regression on new covid cases."
   ]
  },
  {
   "cell_type": "markdown",
   "metadata": {},
   "source": [
    "# Imports"
   ]
  },
  {
   "cell_type": "code",
   "execution_count": 3,
   "metadata": {},
   "outputs": [],
   "source": [
    "from src.CovidDataClass import CovidDataClass as cd\n",
    "from src.cfg import *\n",
    "import os\n",
    "import numpy as np\n",
    "import pandas as pd\n",
    "import numpy as np\n",
    "\n",
    "# sklearn modules\n",
    "from sklearn.linear_model import LinearRegression, Ridge, Lasso, ElasticNet, BayesianRidge, ARDRegression\n",
    "from sklearn.tree import DecisionTreeRegressor\n",
    "from sklearn.ensemble import RandomForestRegressor\n",
    "from sklearn.metrics import r2_score, mean_squared_error, explained_variance_score"
   ]
  },
  {
   "cell_type": "markdown",
   "metadata": {},
   "source": [
    "# Initialize data handler"
   ]
  },
  {
   "cell_type": "code",
   "execution_count": 4,
   "metadata": {},
   "outputs": [
    {
     "name": "stderr",
     "output_type": "stream",
     "text": [
      "/home/alex/anaconda3/envs/covid_project/lib/python3.9/site-packages/numpy/lib/arraysetops.py:583: FutureWarning: elementwise comparison failed; returning scalar instead, but in the future will perform elementwise comparison\n",
      "  mask |= (ar1 == a)\n"
     ]
    }
   ],
   "source": [
    "data = cd(load_local=True, load_clean=True)"
   ]
  },
  {
   "cell_type": "code",
   "execution_count": 1,
   "metadata": {},
   "outputs": [
    {
     "ename": "NameError",
     "evalue": "name 'LinearRegression' is not defined",
     "output_type": "error",
     "traceback": [
      "\u001b[0;31m---------------------------------------------------------------------------\u001b[0m",
      "\u001b[0;31mNameError\u001b[0m                                 Traceback (most recent call last)",
      "\u001b[0;32m<ipython-input-1-5b6c6cceded3>\u001b[0m in \u001b[0;36m<module>\u001b[0;34m\u001b[0m\n\u001b[1;32m     23\u001b[0m \u001b[0;34m\u001b[0m\u001b[0m\n\u001b[1;32m     24\u001b[0m models_dict = {\n\u001b[0;32m---> 25\u001b[0;31m   \u001b[0;34m'OLS'\u001b[0m\u001b[0;34m:\u001b[0m \u001b[0mLinearRegression\u001b[0m\u001b[0;34m(\u001b[0m\u001b[0;34m)\u001b[0m\u001b[0;34m,\u001b[0m\u001b[0;34m\u001b[0m\u001b[0;34m\u001b[0m\u001b[0m\n\u001b[0m\u001b[1;32m     26\u001b[0m   \u001b[0;34m'Ridge'\u001b[0m\u001b[0;34m:\u001b[0m \u001b[0mRidge\u001b[0m\u001b[0;34m(\u001b[0m\u001b[0;34m)\u001b[0m\u001b[0;34m,\u001b[0m\u001b[0;34m\u001b[0m\u001b[0;34m\u001b[0m\u001b[0m\n\u001b[1;32m     27\u001b[0m   \u001b[0;34m'Lasso'\u001b[0m\u001b[0;34m:\u001b[0m \u001b[0mLasso\u001b[0m\u001b[0;34m(\u001b[0m\u001b[0;34m)\u001b[0m\u001b[0;34m,\u001b[0m\u001b[0;34m\u001b[0m\u001b[0;34m\u001b[0m\u001b[0m\n",
      "\u001b[0;31mNameError\u001b[0m: name 'LinearRegression' is not defined"
     ]
    }
   ],
   "source": [
    "# TODO: consider changing bin layout to delta days:\n",
    "# e.g. [(0, 7), (8, 999)] would turn to [7, 999]\n",
    "\n",
    "\n",
    "bins_dict = {\n",
    "#   1: [(0, 7), (8, 999)],\n",
    "#   2: [(0, 14), (15, 999)],\n",
    "#   3: [(0, 21), (22, 999)],\n",
    "#   4: [(0, 28), (29, 999)],\n",
    "#   5: [(0, 35), (36, 999)],\n",
    "#   6: [(0, 7), (8, 14), (15, 999)],\n",
    "#   7: [(0, 7), (8, 21), (22, 999)],\n",
    "#   8: [(0, 7), (8, 35), (36, 999)],\n",
    "#   9: [(0, 14), (15, 21), (22, 999)],\n",
    "#   10: [(0, 14), (15, 35), (36, 999)],\n",
    "#   11: [(0, 21), (22, 35), (35, 999)],\n",
    "  12: [(0, 3), (4, 999)],\n",
    "  13: [(0, 3), (4, 7), (8, 999)],\n",
    "  14: [(0, 3), (4, 14), (15, 999)],\n",
    "  15: [(0, 3), (4, 14), (15, 35), (36, 999)],\n",
    "  16: [(0, 7), (8, 14), (15, 21), (22, 28), (29, 999)]\n",
    "}\n",
    "\n",
    "models_dict = {\n",
    "  'OLS': LinearRegression(),\n",
    "  'Ridge': Ridge(),\n",
    "  'Lasso': Lasso(),\n",
    "  'ElasticNet': ElasticNet(),\n",
    "  'DecisionTree': DecisionTreeRegressor(),\n",
    "  'RandomForest (n=3)': RandomForestRegressor(n_estimators=3),\n",
    "  'RandomForest (n=10)': RandomForestRegressor(n_estimators=10),\n",
    "  'RandomForest (n=20)': RandomForestRegressor(n_estimators=20),\n",
    "  'Bayesian Ridge': BayesianRidge(),\n",
    "  'ARDRegression': ARDRegression(),\n",
    "}\n",
    "\n",
    "metrics_dict = {\n",
    "  'R^2': r2_score,\n",
    "  'MSE': mean_squared_error,\n",
    "  'Explained_var': explained_variance_score,\n",
    "}\n",
    "\n",
    "\n",
    "results = data.run_batch(\n",
    "  bins_dict=bins_dict,\n",
    "  models_dict=models_dict,\n",
    "  metrics_dict=metrics_dict,\n",
    "  K=10,\n",
    "  verbose=True,\n",
    "  save_output=True,\n",
    "  output_json=True,\n",
    "  filename=RESULTS_DIR + \"batch_525.txt\",\n",
    "  json_file=RESULTS_DIR + \"batch_525.json\",\n",
    ")"
   ]
  },
  {
   "cell_type": "code",
   "execution_count": null,
   "metadata": {},
   "outputs": [],
   "source": []
  },
  {
   "cell_type": "code",
   "execution_count": null,
   "metadata": {},
   "outputs": [],
   "source": []
  }
 ],
 "metadata": {
  "kernelspec": {
   "display_name": "Python 3 (ipykernel)",
   "language": "python",
   "name": "python3"
  },
  "language_info": {
   "codemirror_mode": {
    "name": "ipython",
    "version": 3
   },
   "file_extension": ".py",
   "mimetype": "text/x-python",
   "name": "python",
   "nbconvert_exporter": "python",
   "pygments_lexer": "ipython3",
   "version": "3.10.12"
  }
 },
 "nbformat": 4,
 "nbformat_minor": 4
}
