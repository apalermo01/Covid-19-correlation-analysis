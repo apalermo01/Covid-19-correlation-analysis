{
 "cells": [
  {
   "cell_type": "markdown",
   "id": "137e61cc",
   "metadata": {},
   "source": [
    "# Covid 19 Correlation Analysis Project\n",
    "\n",
    "# 0. Objectives and motivation\n",
    "\n",
    "The objective of this project is to identify which policies had the highest impact on the covid cases / deaths in the first year of the pandemic (Feburary - December of 2020). This notebook is meant to serve as a high-level summary of the methodologies and results of this project. "
   ]
  },
  {
   "cell_type": "markdown",
   "id": "969ae18d",
   "metadata": {},
   "source": [
    "# 1. Data Sources\n",
    "\n",
    "\n",
    "This project uses 2 datasets:\n",
    "\n",
    "\n",
    "Notebooks 01 and 02 provide a detailed discussion of the data cleaning pipeline. Notebook 03 demos a few visualizations (this was originally a visualization project before the regression / correlation analysis took off). "
   ]
  },
  {
   "cell_type": "markdown",
   "id": "3b11be64",
   "metadata": {},
   "source": [
    "# 2. Average increase in cases / deaths after policy\n",
    "\n",
    "\n",
    "The first attempt at this analysis investigated the differences in the number of cases / deaths on the day a policy was implemented and 14 days after. Additionally, I looked at the \"acceleration\" in cases /deaths - that is, the differences in velocity of cases / deaths around when the policy was implemented and 14 days later (using a 1-day delta). \n",
    "\n",
    "Almost none of the results were signficant, and those that were were likely due to spurious correlations (see notebook 04). "
   ]
  },
  {
   "cell_type": "markdown",
   "id": "23f8052c",
   "metadata": {},
   "source": [
    "# 3. Regression analysis\n",
    "\n",
    "The next step was to use a multilinear regression model to model the number of cases / deaths, where the input variables represent how long ago a policy was implemented.\n",
    "\n",
    "$$\n",
    "c_{new} = \\omega_1 p_{1, 0-5} + \\omega_2 p_{1, 6-10} + \\omega_3 p_{1, 11-999} + \\omega_4 p_{2, 0-5} + ...\n",
    "$$\n",
    "\n",
    "where $\\omega_n$ represents coefficients / weights and $p_{i, \\text{start}-\\text{end}}$ is 1 if policy $i$ was implemented within the last *start* to *end* days. For example, let $p_1$ represent the start of a policy related to gyms and $p_2$ represent the end of a policy related to gyms. Let the the set of bins in this analysis be [(0-3), (4-10), (11-999)]. If, in a given county, gyms were closed 30 days ago and reopened 2 days ago, then: $p_{1, 0-3} = p_{1, 4-10} = 0$,\n",
    "$p_{1, 11-999} = 1$, $p_{2, 0-3} = 1$, and $p_{2, 4-10} = p_{2, 11-999} = 0$.\n",
    "\n",
    "Additionally, policies are divided into whether it was the start or end of a policy and whether it was implemented at the state or county level.\n",
    "\n",
    "In an earlier version of this project, I attempted to run the regression analysis using all the available policies, resulting in an analysis with *number of policies* x *number of bins* features, which resulted in some serious bottlenecks when the number of bins started growing (i.e. generating dataframes with 500+ columns). In this version, I am doing runs with only a single policy, and will experiment with 2 or 3 - policy runs in later versions."
   ]
  },
  {
   "cell_type": "markdown",
   "id": "cbf1233c",
   "metadata": {},
   "source": [
    "# 4. Results\n",
    "\n",
    "All of the bin+policy combinations resulted in $R^2$ values < ~0.1, the results for each independent variable are summarized below:\n",
    "\n",
    "\n",
    "| dependent variable         | approx highest $R^2$ |\n",
    "| ------------------         | -------------------- |\n",
    "| new cases                  | 0.35                 |\n",
    "| new cases (7 day average)  | 0.1                  |\n",
    "| new deaths                 | 0.05                 |\n",
    "| new deaths (7 day average) | 0.025                |\n",
    "\n",
    "Generally speaking, there was statistical significance for almost every single variable (using a 99% CI), with many p-values being effectively zero. An analysis of these p-values is in progress."
   ]
  },
  {
   "cell_type": "markdown",
   "id": "e503a7e9",
   "metadata": {},
   "source": [
    "# 5. Next steps / Ideas\n",
    "\n",
    "- finish analyzing the p-values. Use the significant coefficients to analyze which policies had the greatest effect.\n",
    "    - change the p-value analysis to account for the fact that many hypothesis tests have been conducted (e.g. Turkey's HSD)\n",
    "- re-run the analysis without a bias term\n",
    "- take the most significant policies and experiment with different bin sets. Optimize for 2 bins ([0-2, 3-999], [0-3, 4-999], etc.) and do the same with 3, 4, etc. bins\n",
    "- introduce multiple policies into the analysis\n",
    "- explore other models: there may be a way to treat the data for each policy as a token into a transformer or LSTM. We can then take the best performing model and feed it isolated policies to study the predicted effects of each policy in isolate to measure their effects. "
   ]
  }
 ],
 "metadata": {
  "kernelspec": {
   "display_name": "Python 3 (ipykernel)",
   "language": "python",
   "name": "python3"
  },
  "language_info": {
   "codemirror_mode": {
    "name": "ipython",
    "version": 3
   },
   "file_extension": ".py",
   "mimetype": "text/x-python",
   "name": "python",
   "nbconvert_exporter": "python",
   "pygments_lexer": "ipython3",
   "version": "3.12.3"
  }
 },
 "nbformat": 4,
 "nbformat_minor": 5
}
