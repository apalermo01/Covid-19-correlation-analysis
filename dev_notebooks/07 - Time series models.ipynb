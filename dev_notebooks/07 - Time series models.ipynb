{
 "cells": [
  {
   "cell_type": "markdown",
   "id": "18f17088-83f0-4b6f-91a6-47b7b2273962",
   "metadata": {},
   "source": [
    "# Time series models (in progress)\n",
    "\n",
    "Instead of running straight linear regression, try running ARIMA on the datasets"
   ]
  },
  {
   "cell_type": "markdown",
   "id": "49f918c1-989c-41ce-9d86-e958d374c419",
   "metadata": {},
   "source": [
    "# 0 - First exploration"
   ]
  },
  {
   "cell_type": "code",
   "execution_count": 3,
   "id": "1837eee2-e1e5-4995-9f72-450969888cfc",
   "metadata": {},
   "outputs": [],
   "source": [
    "import pandas as pd\n",
    "from covid_project.data_utils import clean_covid_data, clean_policy_data, prep_policy_data\n",
    "from tqdm.notebook import tqdm\n",
    "import matplotlib.pyplot as plt\n",
    "from statsmodels.graphics.tsaplots import plot_acf, plot_pacf\n",
    "import os\n",
    "from tqdm.notebook import tqdm\n",
    "import warnings"
   ]
  },
  {
   "cell_type": "code",
   "execution_count": 4,
   "id": "79a5688e-034e-48e6-ac93-934752ca2615",
   "metadata": {},
   "outputs": [],
   "source": [
    "case_data = clean_covid_data()\n",
    "policy_data = clean_policy_data()"
   ]
  },
  {
   "cell_type": "markdown",
   "id": "67d2ed72-dca3-4620-a0cb-ac14077df215",
   "metadata": {},
   "source": [
    "# 1 - Initial models"
   ]
  },
  {
   "cell_type": "markdown",
   "id": "4222e2bc-294b-4cf5-9d02-ce05619fd3a5",
   "metadata": {},
   "source": [
    "# 2 - Validating Assumptions"
   ]
  },
  {
   "cell_type": "markdown",
   "id": "0dc032c6-00f8-433f-8fe8-b51fe4cd3223",
   "metadata": {},
   "source": [
    "# 3 - Analyzing results"
   ]
  }
 ],
 "metadata": {
  "kernelspec": {
   "display_name": "Python 3 (ipykernel)",
   "language": "python",
   "name": "python3"
  },
  "language_info": {
   "codemirror_mode": {
    "name": "ipython",
    "version": 3
   },
   "file_extension": ".py",
   "mimetype": "text/x-python",
   "name": "python",
   "nbconvert_exporter": "python",
   "pygments_lexer": "ipython3",
   "version": "3.12.3"
  }
 },
 "nbformat": 4,
 "nbformat_minor": 5
}
