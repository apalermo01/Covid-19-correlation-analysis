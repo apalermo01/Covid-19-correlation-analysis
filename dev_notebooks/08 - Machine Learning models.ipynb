{
 "cells": [
  {
   "cell_type": "markdown",
   "id": "7d438662-7697-4f5a-b9e2-e9ac6abdb0cf",
   "metadata": {},
   "source": [
    "Take the existing datasets and run some ML models. Make sure to generate the data with all policies. I'm specifically interested in boosted trees, but also going to try a few other regression models"
   ]
  }
 ],
 "metadata": {
  "kernelspec": {
   "display_name": "Python 3 (ipykernel)",
   "language": "python",
   "name": "python3"
  },
  "language_info": {
   "codemirror_mode": {
    "name": "ipython",
    "version": 3
   },
   "file_extension": ".py",
   "mimetype": "text/x-python",
   "name": "python",
   "nbconvert_exporter": "python",
   "pygments_lexer": "ipython3",
   "version": "3.12.3"
  }
 },
 "nbformat": 4,
 "nbformat_minor": 5
}
