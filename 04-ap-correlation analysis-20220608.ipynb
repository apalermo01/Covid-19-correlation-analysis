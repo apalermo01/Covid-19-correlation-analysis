{
 "cells": [
  {
   "cell_type": "markdown",
   "metadata": {},
   "source": [
    "# Correlation analysis"
   ]
  },
  {
   "cell_type": "markdown",
   "metadata": {},
   "source": [
    "# 0. Imports"
   ]
  },
  {
   "cell_type": "code",
   "execution_count": 1,
   "metadata": {},
   "outputs": [],
   "source": [
    "import pandas as pd\n",
    "from datetime import datetime as dt\n",
    "from datetime import timedelta\n",
    "from covid_project.data_utils import (clean_covid_data, clean_policy_data,\n",
    "                                      calculate_deltas, generate_state_case_dict)"
   ]
  },
  {
   "cell_type": "code",
   "execution_count": 2,
   "metadata": {},
   "outputs": [],
   "source": [
    "# get the data\n",
    "case_data = clean_covid_data()\n",
    "policy_data = clean_policy_data()\n",
    "# state_case_dict = generate_state_case_dict(case_data,\n",
    "#                                            load_from_file=True\n",
    "#                                            save_data=True)"
   ]
  },
  {
   "cell_type": "code",
   "execution_count": 3,
   "metadata": {},
   "outputs": [
    {
     "name": "stderr",
     "output_type": "stream",
     "text": [
      "100%|██████████████████████████████████████████████████████████████████| 50/50 [00:00<00:00, 528.28it/s]\n",
      "0it [00:00, ?it/s]\n"
     ]
    },
    {
     "name": "stdout",
     "output_type": "stream",
     "text": [
      "series =  date\n",
      "2020-01-22     0.000000\n",
      "2020-01-23     0.000000\n",
      "2020-01-24     0.000000\n",
      "2020-01-25     0.000000\n",
      "2020-01-26     0.000000\n",
      "                ...    \n",
      "2021-12-26     7.538067\n",
      "2021-12-27    24.762551\n",
      "2021-12-28    31.772953\n",
      "2021-12-29    48.469772\n",
      "2021-12-30    67.314940\n",
      "Name: new_cases_7day_1e6, Length: 709, dtype: float64\n"
     ]
    },
    {
     "ename": "IndexError",
     "evalue": "index 0 is out of bounds for axis 0 with size 0",
     "output_type": "error",
     "traceback": [
      "\u001b[0;31m---------------------------------------------------------------------------\u001b[0m",
      "\u001b[0;31mIndexError\u001b[0m                                Traceback (most recent call last)",
      "Input \u001b[0;32mIn [3]\u001b[0m, in \u001b[0;36m<cell line: 1>\u001b[0;34m()\u001b[0m\n\u001b[0;32m----> 1\u001b[0m correlated_df, state_cases_dict \u001b[38;5;241m=\u001b[39m \u001b[43mcalculate_deltas\u001b[49m\u001b[43m(\u001b[49m\n\u001b[1;32m      2\u001b[0m \u001b[43m    \u001b[49m\u001b[43mcase_df\u001b[49m\u001b[43m \u001b[49m\u001b[38;5;241;43m=\u001b[39;49m\u001b[43m \u001b[49m\u001b[43mcase_data\u001b[49m\u001b[43m,\u001b[49m\n\u001b[1;32m      3\u001b[0m \u001b[43m    \u001b[49m\u001b[43mpolicy_df\u001b[49m\u001b[43m \u001b[49m\u001b[38;5;241;43m=\u001b[39;49m\u001b[43m \u001b[49m\u001b[43mpolicy_data\u001b[49m\u001b[43m,\u001b[49m\n\u001b[1;32m      4\u001b[0m \u001b[43m    \u001b[49m\u001b[43mmeasure_period\u001b[49m\u001b[43m \u001b[49m\u001b[38;5;241;43m=\u001b[39;49m\u001b[43m \u001b[49m\u001b[38;5;241;43m14\u001b[39;49m\u001b[43m,\u001b[49m\n\u001b[1;32m      5\u001b[0m \u001b[43m   \u001b[49m\u001b[38;5;66;43;03m# state_cases_dict = state_case_dict,\u001b[39;49;00m\n\u001b[1;32m      6\u001b[0m \u001b[43m)\u001b[49m\n",
      "File \u001b[0;32m~/Documents/personal-projects/covid-19-data-analysis/covid_project/data_utils.py:599\u001b[0m, in \u001b[0;36mcalculate_deltas\u001b[0;34m(case_df, policy_df, measure_period, filtered_policies, state_cases_dict, save_state_data, load_state_data_from_file, state_data_path)\u001b[0m\n\u001b[1;32m    596\u001b[0m     ser_deaths \u001b[38;5;241m=\u001b[39m case_df[\u001b[38;5;124m'\u001b[39m\u001b[38;5;124mnew_deaths_7day_1e6\u001b[39m\u001b[38;5;124m'\u001b[39m][case_df[\u001b[38;5;124m'\u001b[39m\u001b[38;5;124mfips_code\u001b[39m\u001b[38;5;124m'\u001b[39m] \u001b[38;5;241m==\u001b[39m data\u001b[38;5;241m.\u001b[39mfips_code]\n\u001b[1;32m    598\u001b[0m \u001b[38;5;66;03m# Get the case and death numbers at the appropriate days. \u001b[39;00m\n\u001b[0;32m--> 599\u001b[0m c11, c12, c21, c22 \u001b[38;5;241m=\u001b[39m \u001b[43msub_calc_deltas\u001b[49m\u001b[43m(\u001b[49m\u001b[43mser_cases\u001b[49m\u001b[43m,\u001b[49m\u001b[43m \u001b[49m\u001b[43mdate\u001b[49m\u001b[38;5;241;43m=\u001b[39;49m\u001b[43mdata\u001b[49m\u001b[38;5;241;43m.\u001b[39;49m\u001b[43mdate\u001b[49m\u001b[43m)\u001b[49m\n\u001b[1;32m    600\u001b[0m d11, d12, d21, d22 \u001b[38;5;241m=\u001b[39m sub_calc_deltas(ser_deaths, date\u001b[38;5;241m=\u001b[39mdata\u001b[38;5;241m.\u001b[39mdate)\n\u001b[1;32m    602\u001b[0m \u001b[38;5;66;03m# Calculate the difference in new cases at the selected dates. \u001b[39;00m\n",
      "File \u001b[0;32m~/Documents/personal-projects/covid-19-data-analysis/covid_project/data_utils.py:553\u001b[0m, in \u001b[0;36mcalculate_deltas.<locals>.sub_calc_deltas\u001b[0;34m(ser, date, wait)\u001b[0m\n\u001b[1;32m    550\u001b[0m \u001b[38;5;28mprint\u001b[39m(\u001b[38;5;124m\"\u001b[39m\u001b[38;5;124mseries = \u001b[39m\u001b[38;5;124m\"\u001b[39m, ser)\n\u001b[1;32m    551\u001b[0m \u001b[38;5;66;03m# ser.index = datetime.strptime(ser.index, \"%Y-%m-%d\")\u001b[39;00m\n\u001b[0;32m--> 553\u001b[0m start      \u001b[38;5;241m=\u001b[39m \u001b[43mser\u001b[49m\u001b[43m[\u001b[49m\u001b[43mser\u001b[49m\u001b[38;5;241;43m.\u001b[39;49m\u001b[43mindex\u001b[49m\u001b[38;5;241;43m==\u001b[39;49m\u001b[43mdate\u001b[49m\u001b[43m]\u001b[49m\u001b[38;5;241;43m.\u001b[39;49m\u001b[43mvalues\u001b[49m\u001b[43m[\u001b[49m\u001b[38;5;241;43m0\u001b[39;49m\u001b[43m]\u001b[49m\n\u001b[1;32m    554\u001b[0m start_1day \u001b[38;5;241m=\u001b[39m ser[ser\u001b[38;5;241m.\u001b[39mindex\u001b[38;5;241m==\u001b[39mdate\u001b[38;5;241m+\u001b[39mday_1]\u001b[38;5;241m.\u001b[39mvalues[\u001b[38;5;241m0\u001b[39m]\n\u001b[1;32m    556\u001b[0m end        \u001b[38;5;241m=\u001b[39m ser[ser\u001b[38;5;241m.\u001b[39mindex\u001b[38;5;241m==\u001b[39mdate\u001b[38;5;241m+\u001b[39mwait]\u001b[38;5;241m.\u001b[39mvalues[\u001b[38;5;241m0\u001b[39m]\n",
      "\u001b[0;31mIndexError\u001b[0m: index 0 is out of bounds for axis 0 with size 0"
     ]
    }
   ],
   "source": [
    "correlated_df, state_cases_dict = calculate_deltas(\n",
    "    case_df = case_data,\n",
    "    policy_df = policy_data,\n",
    "    measure_period = 14,\n",
    "   # state_cases_dict = state_case_dict,\n",
    ")"
   ]
  },
  {
   "cell_type": "code",
   "execution_count": null,
   "metadata": {},
   "outputs": [],
   "source": []
  }
 ],
 "metadata": {
  "kernelspec": {
   "display_name": "Python 3 (ipykernel)",
   "language": "python",
   "name": "python3"
  },
  "language_info": {
   "codemirror_mode": {
    "name": "ipython",
    "version": 3
   },
   "file_extension": ".py",
   "mimetype": "text/x-python",
   "name": "python",
   "nbconvert_exporter": "python",
   "pygments_lexer": "ipython3",
   "version": "3.9.0"
  }
 },
 "nbformat": 4,
 "nbformat_minor": 2
}
