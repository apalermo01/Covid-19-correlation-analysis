{
 "cells": [
  {
   "cell_type": "markdown",
   "metadata": {},
   "source": [
    "# Exploratory data analysis for covid policy data"
   ]
  },
  {
   "cell_type": "markdown",
   "metadata": {},
   "source": [
    "# 0. Imports"
   ]
  },
  {
   "cell_type": "code",
   "execution_count": 1,
   "metadata": {},
   "outputs": [],
   "source": [
    "# configure settings\n",
    "%reset -f\n",
    "%config InlineBackend.figure_format = 'svg'\n",
    "\n",
    "\n",
    "import numpy as np\n",
    "import pandas as pd\n",
    "from datetime import datetime, timedelta\n",
    "import re\n",
    "import matplotlib.dates as mdates\n",
    "from matplotlib.lines import Line2D\n",
    "from matplotlib.patches import Patch\n",
    "from IPython.display import clear_output\n",
    "import us\n",
    "import matplotlib.pyplot as plt\n",
    "import matplotlib.pyplot as plt \n",
    "import seaborn as sns\n",
    "from tqdm.notebook import tqdm\n",
    "\n",
    "# custom packages\n",
    "from covid_project.plotting_funcs import plot_counts_with_label\n",
    "from covid_project.data_utils import load_policy_data, eval_df, check_data\n",
    "\n",
    "BIG_TEXT   = 18\n",
    "MED_TEXT   = 14\n",
    "SMALL_TEXT = 10\n"
   ]
  },
  {
   "cell_type": "markdown",
   "metadata": {},
   "source": [
    "# 1. Data Ingestion"
   ]
  },
  {
   "cell_type": "code",
   "execution_count": 2,
   "metadata": {},
   "outputs": [
    {
     "name": "stderr",
     "output_type": "stream",
     "text": [
      "WARNING:root:Requests made without an app_token will be subject to strict throttling limits.\n"
     ]
    },
    {
     "data": {
      "text/html": [
       "<div>\n",
       "<style scoped>\n",
       "    .dataframe tbody tr th:only-of-type {\n",
       "        vertical-align: middle;\n",
       "    }\n",
       "\n",
       "    .dataframe tbody tr th {\n",
       "        vertical-align: top;\n",
       "    }\n",
       "\n",
       "    .dataframe thead th {\n",
       "        text-align: right;\n",
       "    }\n",
       "</style>\n",
       "<table border=\"1\" class=\"dataframe\">\n",
       "  <thead>\n",
       "    <tr style=\"text-align: right;\">\n",
       "      <th></th>\n",
       "      <th>state_id</th>\n",
       "      <th>policy_level</th>\n",
       "      <th>date</th>\n",
       "      <th>policy_type</th>\n",
       "      <th>start_stop</th>\n",
       "      <th>comments</th>\n",
       "      <th>source</th>\n",
       "      <th>geocoded_state</th>\n",
       "      <th>county</th>\n",
       "      <th>fips_code</th>\n",
       "      <th>total_phases</th>\n",
       "    </tr>\n",
       "  </thead>\n",
       "  <tbody>\n",
       "    <tr>\n",
       "      <th>0</th>\n",
       "      <td>DE</td>\n",
       "      <td>state</td>\n",
       "      <td>2020-07-06T00:00:00.000</td>\n",
       "      <td>Phase 1</td>\n",
       "      <td>stop</td>\n",
       "      <td>Policy_Details: Governor Carney extended Delaw...</td>\n",
       "      <td>sip_submission_form: https://governor.delaware...</td>\n",
       "      <td>{'type': 'Point', 'coordinates': [-75.52474, 3...</td>\n",
       "      <td>NaN</td>\n",
       "      <td>NaN</td>\n",
       "      <td>NaN</td>\n",
       "    </tr>\n",
       "    <tr>\n",
       "      <th>1</th>\n",
       "      <td>MS</td>\n",
       "      <td>county</td>\n",
       "      <td>2020-07-20T00:00:00.000</td>\n",
       "      <td>Outdoor and Recreation</td>\n",
       "      <td>stop</td>\n",
       "      <td>Policy_Details: Executive Order by Governor Ta...</td>\n",
       "      <td>sip_submission_form: https://www.sos.ms.gov/co...</td>\n",
       "      <td>{'type': 'Point', 'coordinates': [-90.18045, 3...</td>\n",
       "      <td>Sunflower</td>\n",
       "      <td>28133</td>\n",
       "      <td>NaN</td>\n",
       "    </tr>\n",
       "    <tr>\n",
       "      <th>2</th>\n",
       "      <td>PR</td>\n",
       "      <td>state</td>\n",
       "      <td>2020-06-15T00:00:00.000</td>\n",
       "      <td>Non-Essential Businesses</td>\n",
       "      <td>stop</td>\n",
       "      <td>Policy_Details: Retail - 50% \\nPersonal Care -...</td>\n",
       "      <td>sip_submission_form: https://www.estado.pr.gov...</td>\n",
       "      <td>{'type': 'Point', 'coordinates': [-51.21156, -...</td>\n",
       "      <td>NaN</td>\n",
       "      <td>NaN</td>\n",
       "      <td>NaN</td>\n",
       "    </tr>\n",
       "    <tr>\n",
       "      <th>3</th>\n",
       "      <td>MO</td>\n",
       "      <td>state</td>\n",
       "      <td>2020-06-15T00:00:00.000</td>\n",
       "      <td>Non-Essential Businesses</td>\n",
       "      <td>stop</td>\n",
       "      <td>Policy_Details: All industries: practice socia...</td>\n",
       "      <td>sip_submission_form: https://health.mo.gov/liv...</td>\n",
       "      <td>{'type': 'Point', 'coordinates': [-92.17785, 3...</td>\n",
       "      <td>NaN</td>\n",
       "      <td>NaN</td>\n",
       "      <td>NaN</td>\n",
       "    </tr>\n",
       "    <tr>\n",
       "      <th>4</th>\n",
       "      <td>DE</td>\n",
       "      <td>state</td>\n",
       "      <td>2020-09-05T00:00:00.000</td>\n",
       "      <td>Phase 2</td>\n",
       "      <td>stop</td>\n",
       "      <td>Policy_Details: Governor Carney formally exten...</td>\n",
       "      <td>sip_submission_form: https://governor.delaware...</td>\n",
       "      <td>{'type': 'Point', 'coordinates': [-75.52474, 3...</td>\n",
       "      <td>NaN</td>\n",
       "      <td>NaN</td>\n",
       "      <td>NaN</td>\n",
       "    </tr>\n",
       "  </tbody>\n",
       "</table>\n",
       "</div>"
      ],
      "text/plain": [
       "  state_id policy_level                     date               policy_type  \\\n",
       "0       DE        state  2020-07-06T00:00:00.000                   Phase 1   \n",
       "1       MS       county  2020-07-20T00:00:00.000    Outdoor and Recreation   \n",
       "2       PR        state  2020-06-15T00:00:00.000  Non-Essential Businesses   \n",
       "3       MO        state  2020-06-15T00:00:00.000  Non-Essential Businesses   \n",
       "4       DE        state  2020-09-05T00:00:00.000                   Phase 2   \n",
       "\n",
       "  start_stop                                           comments  \\\n",
       "0       stop  Policy_Details: Governor Carney extended Delaw...   \n",
       "1       stop  Policy_Details: Executive Order by Governor Ta...   \n",
       "2       stop  Policy_Details: Retail - 50% \\nPersonal Care -...   \n",
       "3       stop  Policy_Details: All industries: practice socia...   \n",
       "4       stop  Policy_Details: Governor Carney formally exten...   \n",
       "\n",
       "                                              source  \\\n",
       "0  sip_submission_form: https://governor.delaware...   \n",
       "1  sip_submission_form: https://www.sos.ms.gov/co...   \n",
       "2  sip_submission_form: https://www.estado.pr.gov...   \n",
       "3  sip_submission_form: https://health.mo.gov/liv...   \n",
       "4  sip_submission_form: https://governor.delaware...   \n",
       "\n",
       "                                      geocoded_state     county fips_code  \\\n",
       "0  {'type': 'Point', 'coordinates': [-75.52474, 3...        NaN       NaN   \n",
       "1  {'type': 'Point', 'coordinates': [-90.18045, 3...  Sunflower     28133   \n",
       "2  {'type': 'Point', 'coordinates': [-51.21156, -...        NaN       NaN   \n",
       "3  {'type': 'Point', 'coordinates': [-92.17785, 3...        NaN       NaN   \n",
       "4  {'type': 'Point', 'coordinates': [-75.52474, 3...        NaN       NaN   \n",
       "\n",
       "  total_phases  \n",
       "0          NaN  \n",
       "1          NaN  \n",
       "2          NaN  \n",
       "3          NaN  \n",
       "4          NaN  "
      ]
     },
     "execution_count": 2,
     "metadata": {},
     "output_type": "execute_result"
    }
   ],
   "source": [
    "path = \"./data/covid_policies.csv\"\n",
    "df = load_policy_data(path, force_reload=False)\n",
    "df.head()"
   ]
  },
  {
   "cell_type": "markdown",
   "metadata": {},
   "source": [
    "# 2 Data evaluation\n",
    "\n",
    "## 2.1 Overview"
   ]
  },
  {
   "cell_type": "code",
   "execution_count": 3,
   "metadata": {},
   "outputs": [
    {
     "name": "stdout",
     "output_type": "stream",
     "text": [
      "field             num_nulls  datatypes\n",
      "--------------  -----------  ---------------------------------\n",
      "state_id                  0  {<class 'str'>}\n",
      "policy_level              0  {<class 'str'>}\n",
      "date                      0  {<class 'str'>}\n",
      "policy_type               0  {<class 'str'>}\n",
      "start_stop                0  {<class 'str'>}\n",
      "comments                  0  {<class 'str'>}\n",
      "source                    0  {<class 'str'>}\n",
      "geocoded_state          173  {<class 'float'>, <class 'dict'>}\n",
      "county                 1706  {<class 'str'>, <class 'float'>}\n",
      "fips_code              1706  {<class 'str'>, <class 'float'>}\n",
      "total_phases           2941  {<class 'str'>, <class 'float'>}\n"
     ]
    }
   ],
   "source": [
    "eval_df(df)"
   ]
  },
  {
   "cell_type": "markdown",
   "metadata": {},
   "source": [
    "drop unneeded policies"
   ]
  },
  {
   "cell_type": "code",
   "execution_count": 4,
   "metadata": {},
   "outputs": [
    {
     "data": {
      "text/html": [
       "<div>\n",
       "<style scoped>\n",
       "    .dataframe tbody tr th:only-of-type {\n",
       "        vertical-align: middle;\n",
       "    }\n",
       "\n",
       "    .dataframe tbody tr th {\n",
       "        vertical-align: top;\n",
       "    }\n",
       "\n",
       "    .dataframe thead th {\n",
       "        text-align: right;\n",
       "    }\n",
       "</style>\n",
       "<table border=\"1\" class=\"dataframe\">\n",
       "  <thead>\n",
       "    <tr style=\"text-align: right;\">\n",
       "      <th></th>\n",
       "      <th>state_id</th>\n",
       "      <th>policy_level</th>\n",
       "      <th>date</th>\n",
       "      <th>policy_type</th>\n",
       "      <th>start_stop</th>\n",
       "      <th>county</th>\n",
       "      <th>fips_code</th>\n",
       "    </tr>\n",
       "  </thead>\n",
       "  <tbody>\n",
       "    <tr>\n",
       "      <th>0</th>\n",
       "      <td>DE</td>\n",
       "      <td>state</td>\n",
       "      <td>2020-07-06T00:00:00.000</td>\n",
       "      <td>Phase 1</td>\n",
       "      <td>stop</td>\n",
       "      <td>NaN</td>\n",
       "      <td>NaN</td>\n",
       "    </tr>\n",
       "    <tr>\n",
       "      <th>1</th>\n",
       "      <td>MS</td>\n",
       "      <td>county</td>\n",
       "      <td>2020-07-20T00:00:00.000</td>\n",
       "      <td>Outdoor and Recreation</td>\n",
       "      <td>stop</td>\n",
       "      <td>Sunflower</td>\n",
       "      <td>28133</td>\n",
       "    </tr>\n",
       "    <tr>\n",
       "      <th>2</th>\n",
       "      <td>PR</td>\n",
       "      <td>state</td>\n",
       "      <td>2020-06-15T00:00:00.000</td>\n",
       "      <td>Non-Essential Businesses</td>\n",
       "      <td>stop</td>\n",
       "      <td>NaN</td>\n",
       "      <td>NaN</td>\n",
       "    </tr>\n",
       "    <tr>\n",
       "      <th>3</th>\n",
       "      <td>MO</td>\n",
       "      <td>state</td>\n",
       "      <td>2020-06-15T00:00:00.000</td>\n",
       "      <td>Non-Essential Businesses</td>\n",
       "      <td>stop</td>\n",
       "      <td>NaN</td>\n",
       "      <td>NaN</td>\n",
       "    </tr>\n",
       "    <tr>\n",
       "      <th>4</th>\n",
       "      <td>DE</td>\n",
       "      <td>state</td>\n",
       "      <td>2020-09-05T00:00:00.000</td>\n",
       "      <td>Phase 2</td>\n",
       "      <td>stop</td>\n",
       "      <td>NaN</td>\n",
       "      <td>NaN</td>\n",
       "    </tr>\n",
       "  </tbody>\n",
       "</table>\n",
       "</div>"
      ],
      "text/plain": [
       "  state_id policy_level                     date               policy_type  \\\n",
       "0       DE        state  2020-07-06T00:00:00.000                   Phase 1   \n",
       "1       MS       county  2020-07-20T00:00:00.000    Outdoor and Recreation   \n",
       "2       PR        state  2020-06-15T00:00:00.000  Non-Essential Businesses   \n",
       "3       MO        state  2020-06-15T00:00:00.000  Non-Essential Businesses   \n",
       "4       DE        state  2020-09-05T00:00:00.000                   Phase 2   \n",
       "\n",
       "  start_stop     county fips_code  \n",
       "0       stop        NaN       NaN  \n",
       "1       stop  Sunflower     28133  \n",
       "2       stop        NaN       NaN  \n",
       "3       stop        NaN       NaN  \n",
       "4       stop        NaN       NaN  "
      ]
     },
     "execution_count": 4,
     "metadata": {},
     "output_type": "execute_result"
    }
   ],
   "source": [
    "df = df.drop(['geocoded_state', 'comments', 'source', 'total_phases'], axis=1)\n",
    "\n",
    "df.head()"
   ]
  },
  {
   "cell_type": "markdown",
   "metadata": {},
   "source": [
    "## 2.2 Column-by-column validation\n",
    "\n",
    "#### 2.2.1 **state_id**"
   ]
  },
  {
   "cell_type": "code",
   "execution_count": 5,
   "metadata": {},
   "outputs": [
    {
     "name": "stdout",
     "output_type": "stream",
     "text": [
      "checking state_id:\n",
      "datatypes (expect string): {<class 'str'>}\n",
      "number of nulls: 0\n",
      "=================================================\n",
      "\n"
     ]
    }
   ],
   "source": [
    "check_data(df['state_id'], \"string\", name=\"state_id\", check_negs=False)"
   ]
  },
  {
   "cell_type": "markdown",
   "metadata": {},
   "source": [
    "Check which states / territories are in this dataset. "
   ]
  },
  {
   "cell_type": "code",
   "execution_count": 6,
   "metadata": {},
   "outputs": [
    {
     "name": "stdout",
     "output_type": "stream",
     "text": [
      "num unique states:  56\n"
     ]
    },
    {
     "data": {
      "text/plain": [
       "array(['DE', 'MS', 'PR', 'MO', 'GA', 'NM', 'CA', 'MN', 'WI', 'PA', 'NE',\n",
       "       'WY', 'LA', 'RI', 'UT', 'IN', 'ID', 'ME', 'TX', 'OK', 'DC', 'OH',\n",
       "       'IA', 'AK', 'FL', 'VT', 'CO', 'NY', 'NV', 'MA', 'NC', 'KY', 'OR',\n",
       "       'GU', 'AZ', 'MT', 'IL', 'ND', 'WV', 'KS', 'AR', 'MI', 'NJ', 'CT',\n",
       "       'AL', 'TN', 'VI', 'HI', 'NH', 'MD', 'WA', 'VA', 'SC', 'MP', 'SD',\n",
       "       'PW'], dtype=object)"
      ]
     },
     "execution_count": 6,
     "metadata": {},
     "output_type": "execute_result"
    }
   ],
   "source": [
    "print(\"num unique states: \", len(df['state_id'].unique()))\n",
    "df['state_id'].unique()"
   ]
  },
  {
   "cell_type": "markdown",
   "metadata": {},
   "source": [
    "To make this column compatable with 'state' in the case / death dataset, we'll do the following:\n",
    "\n",
    "- convert ID's to full names\n",
    "\n",
    "- restrict to the 50 states\n",
    "\n",
    "- rename the column to 'state'"
   ]
  },
  {
   "cell_type": "code",
   "execution_count": 7,
   "metadata": {},
   "outputs": [
    {
     "name": "stdout",
     "output_type": "stream",
     "text": [
      "num unique states:  50\n"
     ]
    },
    {
     "data": {
      "text/plain": [
       "array(['Delaware', 'Mississippi', 'Missouri', 'Georgia', 'New Mexico',\n",
       "       'California', 'Minnesota', 'Wisconsin', 'Pennsylvania', 'Nebraska',\n",
       "       'Wyoming', 'Louisiana', 'Rhode Island', 'Utah', 'Indiana', 'Idaho',\n",
       "       'Maine', 'Texas', 'Oklahoma', 'Ohio', 'Iowa', 'Alaska', 'Florida',\n",
       "       'Vermont', 'Colorado', 'New York', 'Nevada', 'Massachusetts',\n",
       "       'North Carolina', 'Kentucky', 'Oregon', 'Arizona', 'Montana',\n",
       "       'Illinois', 'North Dakota', 'West Virginia', 'Kansas', 'Arkansas',\n",
       "       'Michigan', 'New Jersey', 'Connecticut', 'Alabama', 'Tennessee',\n",
       "       'Hawaii', 'New Hampshire', 'Maryland', 'Washington', 'Virginia',\n",
       "       'South Carolina', 'South Dakota'], dtype=object)"
      ]
     },
     "execution_count": 7,
     "metadata": {},
     "output_type": "execute_result"
    }
   ],
   "source": [
    "abbr = [elem.abbr for elem in us.states.STATES]\n",
    "df = df.drop(df[~df['state_id'].isin(abbr)].index)\n",
    "df.replace(to_replace=us.states.mapping('abbr', 'name'), inplace=True)\n",
    "df.rename(columns={'state_id': 'state'}, inplace=True)\n",
    "\n",
    "print(\"num unique states: \", len(df['state'].unique()))\n",
    "df['state'].unique()"
   ]
  },
  {
   "cell_type": "markdown",
   "metadata": {},
   "source": [
    "#### 2.2.2 **county**"
   ]
  },
  {
   "cell_type": "code",
   "execution_count": 8,
   "metadata": {},
   "outputs": [
    {
     "name": "stdout",
     "output_type": "stream",
     "text": [
      "checking county:\n",
      "datatypes (expect string): {<class 'str'>, <class 'float'>}\n",
      "number of nulls: 1619\n",
      "=================================================\n",
      "\n"
     ]
    }
   ],
   "source": [
    "check_data(df['county'], \"string\", name=\"county\", check_negs=False)"
   ]
  },
  {
   "cell_type": "markdown",
   "metadata": {},
   "source": [
    "Nulls in the county field likely refer to statewide policies. Let's verify that there aren't any counties with 'null' that aren't statewide policies.  "
   ]
  },
  {
   "cell_type": "code",
   "execution_count": 9,
   "metadata": {},
   "outputs": [
    {
     "data": {
      "text/html": [
       "<div>\n",
       "<style scoped>\n",
       "    .dataframe tbody tr th:only-of-type {\n",
       "        vertical-align: middle;\n",
       "    }\n",
       "\n",
       "    .dataframe tbody tr th {\n",
       "        vertical-align: top;\n",
       "    }\n",
       "\n",
       "    .dataframe thead th {\n",
       "        text-align: right;\n",
       "    }\n",
       "</style>\n",
       "<table border=\"1\" class=\"dataframe\">\n",
       "  <thead>\n",
       "    <tr style=\"text-align: right;\">\n",
       "      <th></th>\n",
       "      <th>state</th>\n",
       "      <th>policy_level</th>\n",
       "      <th>date</th>\n",
       "      <th>policy_type</th>\n",
       "      <th>start_stop</th>\n",
       "      <th>county</th>\n",
       "      <th>fips_code</th>\n",
       "    </tr>\n",
       "  </thead>\n",
       "  <tbody>\n",
       "  </tbody>\n",
       "</table>\n",
       "</div>"
      ],
      "text/plain": [
       "Empty DataFrame\n",
       "Columns: [state, policy_level, date, policy_type, start_stop, county, fips_code]\n",
       "Index: []"
      ]
     },
     "execution_count": 9,
     "metadata": {},
     "output_type": "execute_result"
    }
   ],
   "source": [
    "df[(df['county'].isnull()) & (df['policy_level']!='state')]"
   ]
  },
  {
   "cell_type": "markdown",
   "metadata": {},
   "source": [
    "We can safely convert these nulls to 'statewide', then convert all county names to lowercase"
   ]
  },
  {
   "cell_type": "code",
   "execution_count": 10,
   "metadata": {},
   "outputs": [],
   "source": [
    "df.fillna(value={'county': 'statewide'}, inplace=True)\n",
    "df['county'] = df['county'].str.lower()"
   ]
  },
  {
   "cell_type": "markdown",
   "metadata": {},
   "source": [
    "Check that all the counties in df2 are also present in df"
   ]
  },
  {
   "cell_type": "code",
   "execution_count": 11,
   "metadata": {},
   "outputs": [
    {
     "name": "stdout",
     "output_type": "stream",
     "text": [
      "['alameda county', 'york county', 'linn county', 'zapata county', 'brown county', 'webster county', 'el paso county', 'leon county', 'coryell county', 'san patricio county', 'yolo county', 'sutter county', 'cass county', 'monroe county', 'decatur county', 'broomfield county', 'swisher county', 'stoddard county', 'aransas county', 'beaver county', 'kaufman county', 'osceola county', 'hays county', 'erath county', 'jefferson county', 'cobb county', 'sumter county', 'gaston county', 'salt lake county', 'val verde county', 'dallas county', 'mecklenburg county', 'willacy county', 'lincoln county', 'navarro county', 'atchison county', 'chambers county', 'lebanon county', 'young county', 'montgomery county', 'refugio county', 'boone county', 'washington county', 'placer county', 'cumberland county', 'st. lucie county', 'andrews county', 'nevada county', 'jeff davis county', 'shelby county', 'wasatch county', 'jackson county', 'starr county', 'northampton county', 'hillsborough county', 'crawford county', 'douglas county', 'llano county', 'solano county', 'fort bend county', 'webb county', 'newton county', 'montague county', 'riverside county', 'adams county', 'maui county', 'kleberg county', 'bartow county', 'hidalgo county', 'san jacinto county', 'erie county', 'lyon county', 'iron county', 'clayton county', 'san miguel county', 'sumner county', 'deaf smith county', 'forsyth county', 'polk county', 'pike county', 'sonoma county', 'denton county', 'lackawanna county', 'warren county', 'mendocino county', 'milam county', 'comal county', 'clark county', 'mcdonald county', 'forest county', 'westmoreland county', 'leavenworth county', 'collin county', 'nolan county', 'hockley county', 'alachua county', 'burnet county', 'pickens county', 'buncombe county', 'ventura county', 'skagway municipality', 'jim wells county', 'arapahoe county', 'brazos county', 'morris county', 'osage county', 'franklin county', 'haines borough', 'gwinnett county', 'st. louis county', 'umatilla county', 'lafayette county', 'presidio county', 'marion county', 'perry county', 'wyandotte county', 'rockwall county', 'chariton county', 'williamson county', 'cabarrus county', 'santa cruz county', 'sacramento county', 'brazoria county', 'limestone county', 'summit county', 'davis county', 'pinellas county', 'cole county', 'brewster county', 'wayne county', 'hood county', 'lake county', 'bee county', 'kenedy county', 'panola county', 'larimer county', 'randolph county', 'bowie county', 'somerset county', 'cherokee county', 'bucks county', 'sabine county', 'hardin county', 'schuylkill county', 'butler county', 'caldwell county', 'monterey county', 'bell county', 'el dorado county', 'dauphin county', 'honolulu county', 'jasper county', 'floyd county', 'lawrence county', 'carbon county', 'gregg county', 'tyler county', 'henderson county', 'calhoun county', 'rutherford county', 'frio county', 'delaware county', 'williamsburg county', 'hale county', 'boulder county', 'clay county', 'lancaster county', 'cameron county', 'centre county', 'san augustine county', 'la salle county', 'orange county', 'ellis county', 'madison county', 'lampasas county', 'santa clara county', 'smith county', 'dougherty county', 'vernon county', 'marin county', 'lehigh county', 'taylor county', 'ray county', 'platte county', 'liberty county', 'reno county', 'galveston county', 'johnson county', 'lauderdale county', 'lowndes county', 'nueces county', 'mclennan county', 'colusa county', 'callahan county', 'mcpherson county', 'scurry county', 'bates county', 'gasconade county', 'san mateo county', 'chester county', 'broward county', 'duval county', 'trinity county', 'guadalupe county', 'christian county', 'tarrant county', 'yuba county', 'pulaski county', 'live oak county', 'guilford county', 'allegheny county', 'pitkin county', 'hopkins county', 'amador county', 'greene county', 'chase county', 'contra costa county', 'saline county', 'san benito county', 'castro county', 'miami county', 'carroll county', 'rooks county', 'gray county', 'harris county', 'stonewall county', 'knox county', 'robertson county', 'berks county', 'luzerne county', 'travis county', 'victoria county', 'wichita county', 'coffey county', 'jones county', 'briscoe county', 'terry county', 'nacogdoches county', 'calaveras county', 'imperial county', 'durham county', 'yakima county', 'stephens county', 'harrison county', 'blanco county', 'armstrong county', 'dekalb county', 'fulton county', 'dade county', 'angelina county', 'los angeles county', 'shawnee county', 'dane county', 'merced county', 'anderson county', 'gadsden county', 'pitt county', 'hunt county', 'riley county', 'walker county', 'wood county', 'san luis obispo county', 'maverick county', 'blaine county', 'berkeley county', 'pecos county', 'culberson county', 'san joaquin county', 'st. charles county', 'st. francois county', 'inyo county', 'clinton county', 'potter county', 'humboldt county', 'napa county', 'scott county', 'davidson county', 'matagorda county', 'doniphan county', 'palm beach county', 'sedgwick county', 'miami-dade county', 'geary county', 'reynolds county']\n"
     ]
    }
   ],
   "source": [
    "case_df = pd.read_csv(\"./data/covid_timeseries_cleaned.csv\")\n",
    "\n",
    "locs = case_df['county'].unique()\n",
    "mismatches = [county for county in df['county'][df['county']!='statewide'].unique() \n",
    "              if county not in locs]\n",
    "print(mismatches)"
   ]
  },
  {
   "cell_type": "markdown",
   "metadata": {},
   "source": [
    "There are some slight differences in location names. For example, frio county in the policy dataset is written as frio in the case dataset. Remove the modifiers at the end of the location names so they match the case dataset."
   ]
  },
  {
   "cell_type": "code",
   "execution_count": 12,
   "metadata": {},
   "outputs": [],
   "source": [
    "county_match    = re.compile(\" county$\")\n",
    "munici_match    = re.compile(\" municipality$\")\n",
    "city_match      = re.compile(\" city$\")\n",
    "Borough_match   = re.compile(\" borough$\")\n",
    "\n",
    "df['county'].replace(to_replace= county_match, value='', inplace=True)\n",
    "df['county'].replace(to_replace= munici_match, value='', inplace=True)\n",
    "df['county'].replace(to_replace=   city_match, value='', inplace=True)\n",
    "df['county'].replace(to_replace=Borough_match, value='', inplace=True)"
   ]
  },
  {
   "cell_type": "code",
   "execution_count": 13,
   "metadata": {},
   "outputs": [
    {
     "name": "stdout",
     "output_type": "stream",
     "text": [
      "[]\n"
     ]
    }
   ],
   "source": [
    "locs = case_df['county'].unique()\n",
    "mismatches = [county for county in df['county'][df['county']!='statewide'].unique() \n",
    "              if county not in locs]\n",
    "print(mismatches)"
   ]
  },
  {
   "cell_type": "code",
   "execution_count": 14,
   "metadata": {},
   "outputs": [
    {
     "name": "stdout",
     "output_type": "stream",
     "text": [
      "checking county:\n",
      "datatypes (expect string): {<class 'str'>}\n",
      "number of nulls: 0\n",
      "=================================================\n",
      "\n"
     ]
    }
   ],
   "source": [
    "check_data(df['county'], \"string\", name=\"county\", check_negs=False)"
   ]
  },
  {
   "cell_type": "markdown",
   "metadata": {},
   "source": [
    "#### 2.2.3 **fips_code**"
   ]
  },
  {
   "cell_type": "code",
   "execution_count": 19,
   "metadata": {},
   "outputs": [],
   "source": [
    "df['fips_code'] = df['fips_code'].apply(lambda x: float(x))"
   ]
  },
  {
   "cell_type": "code",
   "execution_count": 20,
   "metadata": {},
   "outputs": [
    {
     "name": "stdout",
     "output_type": "stream",
     "text": [
      "checking fips_code:\n",
      "datatypes (expect integer): {<class 'numpy.float64'>}\n",
      "number of nulls: 1619\n",
      "number of negative values: 0\n",
      "=================================================\n",
      "\n"
     ]
    }
   ],
   "source": [
    "check_data(df['fips_code'], \"integer\", name=\"fips_code\")"
   ]
  },
  {
   "cell_type": "markdown",
   "metadata": {},
   "source": [
    "These nulls in fips_code should all refer to statewide polices- first check that there are no nulls in fips_code that are not concurrent with a statewide policy. "
   ]
  },
  {
   "cell_type": "code",
   "execution_count": 21,
   "metadata": {},
   "outputs": [
    {
     "data": {
      "text/html": [
       "<div>\n",
       "<style scoped>\n",
       "    .dataframe tbody tr th:only-of-type {\n",
       "        vertical-align: middle;\n",
       "    }\n",
       "\n",
       "    .dataframe tbody tr th {\n",
       "        vertical-align: top;\n",
       "    }\n",
       "\n",
       "    .dataframe thead th {\n",
       "        text-align: right;\n",
       "    }\n",
       "</style>\n",
       "<table border=\"1\" class=\"dataframe\">\n",
       "  <thead>\n",
       "    <tr style=\"text-align: right;\">\n",
       "      <th></th>\n",
       "      <th>state</th>\n",
       "      <th>policy_level</th>\n",
       "      <th>date</th>\n",
       "      <th>policy_type</th>\n",
       "      <th>start_stop</th>\n",
       "      <th>county</th>\n",
       "      <th>fips_code</th>\n",
       "    </tr>\n",
       "  </thead>\n",
       "  <tbody>\n",
       "  </tbody>\n",
       "</table>\n",
       "</div>"
      ],
      "text/plain": [
       "Empty DataFrame\n",
       "Columns: [state, policy_level, date, policy_type, start_stop, county, fips_code]\n",
       "Index: []"
      ]
     },
     "execution_count": 21,
     "metadata": {},
     "output_type": "execute_result"
    }
   ],
   "source": [
    "df[(df['fips_code'].isnull()) & (df['policy_level'] != 'state')]"
   ]
  },
  {
   "cell_type": "markdown",
   "metadata": {},
   "source": [
    "All of these null values are statewide policies. Let's replace these nulls with the 2 digit fips code for the state"
   ]
  },
  {
   "cell_type": "code",
   "execution_count": 22,
   "metadata": {},
   "outputs": [],
   "source": [
    "for index, data in df.iterrows(): \n",
    "    if data.policy_level == 'state':\n",
    "        df.loc[index, 'fips_code'] = np.int64(us.states.lookup(data.state).fips)"
   ]
  },
  {
   "cell_type": "markdown",
   "metadata": {},
   "source": [
    "Next, we'll ensure that all datapoints are integers then convert to ints"
   ]
  },
  {
   "cell_type": "code",
   "execution_count": 23,
   "metadata": {},
   "outputs": [
    {
     "name": "stdout",
     "output_type": "stream",
     "text": [
      "all decimal components zero? (expect true) True\n"
     ]
    }
   ],
   "source": [
    "check_data(df['fips_code'], check_ints=True)"
   ]
  },
  {
   "cell_type": "code",
   "execution_count": 24,
   "metadata": {},
   "outputs": [
    {
     "name": "stdout",
     "output_type": "stream",
     "text": [
      "checking fips_code:\n",
      "datatypes (expect integer): {<class 'numpy.int64'>}\n",
      "number of nulls: 0\n",
      "number of negative values: 0\n",
      "=================================================\n",
      "\n"
     ]
    }
   ],
   "source": [
    "df['fips_code'] = df['fips_code'].astype(np.int64)\n",
    "check_data(df['fips_code'], \"integer\", name=\"fips_code\")"
   ]
  },
  {
   "cell_type": "markdown",
   "metadata": {},
   "source": [
    "#### 2.2.4 **policy_level**"
   ]
  },
  {
   "cell_type": "code",
   "execution_count": 25,
   "metadata": {},
   "outputs": [
    {
     "name": "stdout",
     "output_type": "stream",
     "text": [
      "checking policy_level:\n",
      "datatypes (expect string): {<class 'str'>}\n",
      "number of nulls: 0\n",
      "=================================================\n",
      "\n"
     ]
    }
   ],
   "source": [
    "check_data(df['policy_level'], \"string\", name=\"policy_level\", check_negs=False)"
   ]
  },
  {
   "cell_type": "code",
   "execution_count": 26,
   "metadata": {},
   "outputs": [
    {
     "data": {
      "text/plain": [
       "array(['state', 'county'], dtype=object)"
      ]
     },
     "execution_count": 26,
     "metadata": {},
     "output_type": "execute_result"
    }
   ],
   "source": [
    "df['policy_level'].unique()"
   ]
  },
  {
   "cell_type": "markdown",
   "metadata": {},
   "source": [
    "#### 2.2.5 **date**"
   ]
  },
  {
   "cell_type": "code",
   "execution_count": 27,
   "metadata": {},
   "outputs": [
    {
     "name": "stdout",
     "output_type": "stream",
     "text": [
      "checking date:\n",
      "datatypes (expect datetime): {<class 'str'>}\n",
      "number of nulls: 0\n",
      "=================================================\n",
      "\n"
     ]
    }
   ],
   "source": [
    "check_data(df['date'], \"datetime\", name=\"date\", check_negs=False)"
   ]
  },
  {
   "cell_type": "markdown",
   "metadata": {},
   "source": [
    "convert these dates to strings like in case_data\n",
    "\n",
    "Note that there was a typo in the year field in one of the records (0020 instead of 2020 - caused an out of bounds exception for datetime)"
   ]
  },
  {
   "cell_type": "code",
   "execution_count": 30,
   "metadata": {},
   "outputs": [],
   "source": [
    "bad_mask = df['date'].str.contains('0020')\n",
    "df.loc[bad_mask, 'date'] = ['2020' + elem[4:] for elem in df.loc[bad_mask, 'date'].values]"
   ]
  },
  {
   "cell_type": "code",
   "execution_count": 31,
   "metadata": {},
   "outputs": [],
   "source": [
    "df['date'] = pd.to_datetime(df['date'].str[:10], format='%Y-%m-%d')"
   ]
  },
  {
   "cell_type": "markdown",
   "metadata": {},
   "source": [
    "Drop any policies that may have been implemented before the start of the case dataset."
   ]
  },
  {
   "cell_type": "code",
   "execution_count": 32,
   "metadata": {},
   "outputs": [],
   "source": [
    "df = df.drop(df[(df['date']<min(case_df['date'])) | (df['date']>max(case_df['date']))].index)"
   ]
  },
  {
   "cell_type": "code",
   "execution_count": 33,
   "metadata": {},
   "outputs": [
    {
     "name": "stdout",
     "output_type": "stream",
     "text": [
      "checking date:\n",
      "datatypes (expect datetime): {<class 'numpy.datetime64'>}\n",
      "number of nulls: 0\n",
      "=================================================\n",
      "\n"
     ]
    }
   ],
   "source": [
    "check_data(df['date'], \"datetime\", name=\"date\", check_negs=False)"
   ]
  },
  {
   "cell_type": "markdown",
   "metadata": {},
   "source": [
    "#### 2.2.6 **policy_type**"
   ]
  },
  {
   "cell_type": "code",
   "execution_count": 34,
   "metadata": {},
   "outputs": [
    {
     "name": "stdout",
     "output_type": "stream",
     "text": [
      "checking policy_type:\n",
      "datatypes (expect string): {<class 'str'>}\n",
      "number of nulls: 0\n",
      "=================================================\n",
      "\n"
     ]
    }
   ],
   "source": [
    "check_data(df['policy_type'], \"string\", name=\"policy_type\", check_negs=False)"
   ]
  },
  {
   "cell_type": "markdown",
   "metadata": {},
   "source": [
    "We will depend on policy_type quite a bit later on, so let's investigate what kind of policies are in this dataset"
   ]
  },
  {
   "cell_type": "code",
   "execution_count": 35,
   "metadata": {},
   "outputs": [
    {
     "name": "stdout",
     "output_type": "stream",
     "text": [
      "['Agriculture' 'Allow Audio Only Telehealth'\n",
      " 'Allow Expand Medicaid Telehealth Coverage' 'Alternative Care Facilities'\n",
      " 'Bars' 'Childcare (K-12)' 'Colleges & Universities' 'Construction'\n",
      " 'Day Care' 'Day camps/overnight camps' 'Education' 'Election'\n",
      " 'Entertainment' 'Executive Order' 'Food and Drink' 'Gatherings'\n",
      " 'Graduation' 'Graduation Ceremony guidelines' 'Gyms' 'Health Risk Status'\n",
      " 'Houses of Worship'\n",
      " 'Mandate Face Mask Use By All Individuals In Public Facing Businesses'\n",
      " 'Mandate Face Mask Use By All Individuals In Public Spaces'\n",
      " 'Manufacturing' 'Mask Requirement' 'Medical'\n",
      " 'Modify Medicaid Requirements With 1135 Waivers Date Of CMS Approval'\n",
      " 'New Phase' 'Non-Essential Businesses' 'Nursing Home Visitations'\n",
      " 'Nursing Homes' 'Outdoor and Recreation' 'Personal Care' 'Phase 1'\n",
      " 'Phase 2' 'Phase 2, 3' 'Phase 3' 'Phase 3 Step 2' 'Phase 4' 'Phase 5'\n",
      " 'Public Gatherings' 'Public Health Advisory System' 'Quarantine'\n",
      " 'Reopened ACA Enrollment Using a Special Enrollment Period'\n",
      " 'Residential Overnight Camps' 'Resumed Elective Medical Procedures'\n",
      " 'Shelter in Place' 'State of Emergency' 'State of Emergency/Funds'\n",
      " 'Stop Enforcement Of Evictions Overall Or Due To Covid Related Issues'\n",
      " 'Stop Initiation Of Evictions Overall Or Due To Covid Related Issues'\n",
      " 'Suspended Elective Medical Dental Procedures' 'Travel'\n",
      " 'Updated Guidelines' 'Wholesale Trade' 'construction' 'higher education'\n",
      " 'libraries' 'museums' 'training jobs' 'travel'\n",
      " 'traveler from out of state']\n"
     ]
    }
   ],
   "source": [
    "print(np.sort((df['policy_type'].unique())))"
   ]
  },
  {
   "cell_type": "markdown",
   "metadata": {},
   "source": [
    "Some of these names are a bit too long. Rename any policy type longer than 40 characters"
   ]
  },
  {
   "cell_type": "code",
   "execution_count": 36,
   "metadata": {},
   "outputs": [
    {
     "name": "stdout",
     "output_type": "stream",
     "text": [
      "Stop Enforcement Of Evictions Overall Or Due To Covid Related Issues\n",
      "Suspended Elective Medical Dental Procedures\n",
      "Modify Medicaid Requirements With 1135 Waivers Date Of CMS Approval\n",
      "Mandate Face Mask Use By All Individuals In Public Facing Businesses\n",
      "Stop Initiation Of Evictions Overall Or Due To Covid Related Issues\n",
      "Allow Expand Medicaid Telehealth Coverage\n",
      "Mandate Face Mask Use By All Individuals In Public Spaces\n",
      "Reopened ACA Enrollment Using a Special Enrollment Period\n"
     ]
    }
   ],
   "source": [
    "long_names = [policy for policy in df['policy_type'].unique() if len(policy)>40]\n",
    "for i in long_names: \n",
    "    print(i)"
   ]
  },
  {
   "cell_type": "code",
   "execution_count": 37,
   "metadata": {},
   "outputs": [
    {
     "name": "stdout",
     "output_type": "stream",
     "text": [
      "no more long names\n"
     ]
    }
   ],
   "source": [
    "policy_replacements_dict = {\n",
    "    'Stop Initiation Of Evictions Overall Or Due To Covid Related Issues': 'Stop Initiation Of Evictions',\n",
    "    'Modify Medicaid Requirements With 1135 Waivers Date Of CMS Approval': 'Modify Medicaid Requirements', \n",
    "    'Stop Enforcement Of Evictions Overall Or Due To Covid Related Issues': 'Stop Enforcement Of Evictions', \n",
    "    'Mandate Face Mask Use By All Individuals In Public Facing Businesses':  'Mandate Face Masks In Businesses', \n",
    "    'Mandate Face Mask Use By All Individuals In Public Spaces': 'Mandate Face Masks In Public Spaces', \n",
    "    'Reopened ACA Enrollment Using a Special Enrollment Period': 'ACA Special Enrollment Period', \n",
    "    'Suspended Elective Medical Dental Procedures': 'Suspend Elective Dental Procedures', \n",
    "    'Allow Expand Medicaid Telehealth Coverage': 'Expand Medicaid Telehealth Coverage', \n",
    "    'Renter Grace Period Or Use Of Security Deposit To Pay Rent': 'Grace Period / Security Deposit for Rent'\n",
    "}\n",
    "\n",
    "for key in policy_replacements_dict.keys():\n",
    "    df['policy_type'].replace(to_replace=key, value=policy_replacements_dict[key], inplace=True)\n",
    "\n",
    "long_names = [policy for policy in df['policy_type'].unique() if len(policy)>40]\n",
    "if len(long_names) == 0: \n",
    "    print(\"no more long names\")"
   ]
  },
  {
   "cell_type": "markdown",
   "metadata": {},
   "source": [
    "Aditionally, let's convert everything to lowercase for consistency"
   ]
  },
  {
   "cell_type": "code",
   "execution_count": 38,
   "metadata": {},
   "outputs": [],
   "source": [
    "df['policy_type'] = df['policy_type'].str.lower()"
   ]
  },
  {
   "cell_type": "markdown",
   "metadata": {},
   "source": [
    "Some of these policies are also vague and non-specific, so we'll drop these as well "
   ]
  },
  {
   "cell_type": "code",
   "execution_count": 39,
   "metadata": {},
   "outputs": [],
   "source": [
    "policies_drop = [\"phase 1\", \"phase 2\", \"phase 3\", \"phase 4\", \"phase 5\", \"new phase\"]\n",
    "df = df.drop(df[df['policy_type'].isin(policies_drop)].index)"
   ]
  },
  {
   "cell_type": "markdown",
   "metadata": {},
   "source": [
    "#### 2.2.7 **start_stop**"
   ]
  },
  {
   "cell_type": "code",
   "execution_count": 40,
   "metadata": {},
   "outputs": [
    {
     "name": "stdout",
     "output_type": "stream",
     "text": [
      "checking start_stop:\n",
      "datatypes (expect string): {<class 'str'>}\n",
      "number of nulls: 0\n",
      "=================================================\n",
      "\n"
     ]
    }
   ],
   "source": [
    "check_data(df['start_stop'], \"string\", name=\"start_stop\", check_negs=False)"
   ]
  },
  {
   "cell_type": "code",
   "execution_count": 41,
   "metadata": {},
   "outputs": [
    {
     "data": {
      "text/plain": [
       "array(['stop', 'start'], dtype=object)"
      ]
     },
     "execution_count": 41,
     "metadata": {},
     "output_type": "execute_result"
    }
   ],
   "source": [
    "df['start_stop'].unique()"
   ]
  },
  {
   "cell_type": "code",
   "execution_count": 42,
   "metadata": {},
   "outputs": [],
   "source": [
    "df.to_csv(\"./data/covid_policy_data_cleaned.csv\")"
   ]
  }
 ],
 "metadata": {
  "interpreter": {
   "hash": "10ff674a46bd2f80db1b18975ea9a26dde3c3660cc48b55e13b16a4260191228"
  },
  "kernelspec": {
   "display_name": "Python 3 (ipykernel)",
   "language": "python",
   "name": "python3"
  },
  "language_info": {
   "codemirror_mode": {
    "name": "ipython",
    "version": 3
   },
   "file_extension": ".py",
   "mimetype": "text/x-python",
   "name": "python",
   "nbconvert_exporter": "python",
   "pygments_lexer": "ipython3",
   "version": "3.10.12"
  }
 },
 "nbformat": 4,
 "nbformat_minor": 4
}
