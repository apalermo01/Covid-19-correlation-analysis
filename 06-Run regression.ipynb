{
 "cells": [
  {
   "cell_type": "markdown",
   "id": "6e35eb5c",
   "metadata": {},
   "source": [
    "- development notebook shows that we should expect low R values but significant results\n",
    "\n",
    "- more description here\n",
    "\n",
    "- Run this to generate the data (mac or linux). Run it from the terminal if you're on windows"
   ]
  },
  {
   "cell_type": "code",
   "execution_count": 1,
   "id": "d50c734b",
   "metadata": {},
   "outputs": [],
   "source": [
    "#!python scripts/generate_dataset_for_regression.py"
   ]
  },
  {
   "cell_type": "markdown",
   "id": "c86789bf",
   "metadata": {},
   "source": [
    "# 0. Imports"
   ]
  },
  {
   "cell_type": "code",
   "execution_count": 2,
   "id": "a75d589f",
   "metadata": {},
   "outputs": [],
   "source": [
    "from covid_project.regression_funcs import fit_ols_model_single_policy\n",
    "from covid_project.data_utils import get_all_policies, get_processed_data\n",
    "from covid_project.policy_mappings import policy_dict_v1\n",
    "from tqdm.notebook import tqdm\n",
    "import os\n",
    "import json"
   ]
  },
  {
   "cell_type": "markdown",
   "id": "7731fec8",
   "metadata": {},
   "source": [
    "# 1. Run models"
   ]
  },
  {
   "cell_type": "code",
   "execution_count": 3,
   "id": "9ff13c3d",
   "metadata": {},
   "outputs": [],
   "source": [
    "all_bins = [\n",
    "        [(0, 14), (15, 999)],\n",
    "        [(0, 14), (15, 28), (29, 999)],\n",
    "        [(0, 7), (8, 14), (15, 999)],\n",
    "        [(0, 7), (8, 14), (15, 28), (29, 60), (61, 999)]\n",
    "    ]\n",
    "\n",
    "all_policies = get_all_policies(policy_dict = policy_dict_v1,\n",
    "                                min_samples = 3)\n",
    "\n",
    "dep_vars = [\n",
    "    'new_cases_1e6',\n",
    "    'new_deaths_1e6',\n",
    "    'new_cases_7day_1e6',\n",
    "    'new_deaths_7day_1e6',\n",
    "]"
   ]
  },
  {
   "cell_type": "code",
   "execution_count": 8,
   "id": "6046fadd",
   "metadata": {},
   "outputs": [],
   "source": [
    "def run_model_on_policies(bins,\n",
    "                          all_policies,\n",
    "                          dep_var,\n",
    "                          pbar=True):\n",
    "    \"\"\"Loop to run the regression model on all policies\"\"\"\n",
    "    \n",
    "    results = dict()\n",
    "    for policy in tqdm(all_policies, desc='running models'):\n",
    "        suc, data = get_processed_data(policy, bins)\n",
    "        if not suc:\n",
    "            print(f\"[ERROR] data read failed: bins={bins}, policy={policy}, var={dep_var}\")\n",
    "            continue\n",
    "        res = fit_ols_model_single_policy(data,\n",
    "                                          policy,\n",
    "                                          dep_var,\n",
    "                                          True)\n",
    "        results[policy] = res\n",
    "    return results"
   ]
  },
  {
   "cell_type": "code",
   "execution_count": 9,
   "id": "3052a7d3",
   "metadata": {},
   "outputs": [],
   "source": [
    "def run_batch_of_models(all_bins,\n",
    "                        all_policies,\n",
    "                        dep_vars,\n",
    "                        save_path=\"./data/regression_results/\"):\n",
    "    if not os.path.exists(save_path):\n",
    "        os.makedirs(save_path)\n",
    "        \n",
    "    for bins_list in tqdm(all_bins, desc=\"looping through bins\"):\n",
    "        for var in tqdm(dep_vars, desc=\"looping through dependent variables\"):\n",
    "            results = run_model_on_policies(bins=bins_list,\n",
    "                                            all_policies=all_policies,\n",
    "                                            dep_var=var,\n",
    "                                            pbar=True)\n",
    "            filename = var + \"_bins=\" + ''.join([str(b[0])+\"-\"+str(b[1])+\"_\" for b in bins_list])[:-1] + \".json\"\n",
    "            full_path = save_path + filename\n",
    "            \n",
    "            with open(full_path, \"w\") as f:\n",
    "                json.dump(results, f, indent=2)"
   ]
  },
  {
   "cell_type": "code",
   "execution_count": null,
   "id": "19bd3ca8",
   "metadata": {},
   "outputs": [
    {
     "data": {
      "application/vnd.jupyter.widget-view+json": {
       "model_id": "342f585f9b5641beaf081b6642f0d124",
       "version_major": 2,
       "version_minor": 0
      },
      "text/plain": [
       "looping through bins:   0%|          | 0/4 [00:00<?, ?it/s]"
      ]
     },
     "metadata": {},
     "output_type": "display_data"
    },
    {
     "data": {
      "application/vnd.jupyter.widget-view+json": {
       "model_id": "d7292e822df84a91a4f753f5667e86c6",
       "version_major": 2,
       "version_minor": 0
      },
      "text/plain": [
       "looping through dependent variables:   0%|          | 0/4 [00:00<?, ?it/s]"
      ]
     },
     "metadata": {},
     "output_type": "display_data"
    },
    {
     "data": {
      "application/vnd.jupyter.widget-view+json": {
       "model_id": "0dab90214ea04a3c9b9863e74032d348",
       "version_major": 2,
       "version_minor": 0
      },
      "text/plain": [
       "running models:   0%|          | 0/50 [00:00<?, ?it/s]"
      ]
     },
     "metadata": {},
     "output_type": "display_data"
    },
    {
     "data": {
      "application/vnd.jupyter.widget-view+json": {
       "model_id": "bed707dae9a8487dba8f315bd909a96b",
       "version_major": 2,
       "version_minor": 0
      },
      "text/plain": [
       "running models:   0%|          | 0/50 [00:00<?, ?it/s]"
      ]
     },
     "metadata": {},
     "output_type": "display_data"
    },
    {
     "data": {
      "application/vnd.jupyter.widget-view+json": {
       "model_id": "e228f396f34f469087b34ac9e9658c3a",
       "version_major": 2,
       "version_minor": 0
      },
      "text/plain": [
       "running models:   0%|          | 0/50 [00:00<?, ?it/s]"
      ]
     },
     "metadata": {},
     "output_type": "display_data"
    },
    {
     "data": {
      "application/vnd.jupyter.widget-view+json": {
       "model_id": "9352343fd76c40a4bf9396dbd54d0f24",
       "version_major": 2,
       "version_minor": 0
      },
      "text/plain": [
       "running models:   0%|          | 0/50 [00:00<?, ?it/s]"
      ]
     },
     "metadata": {},
     "output_type": "display_data"
    },
    {
     "data": {
      "application/vnd.jupyter.widget-view+json": {
       "model_id": "f324712c3b9149febc2247e0be7b5ad8",
       "version_major": 2,
       "version_minor": 0
      },
      "text/plain": [
       "looping through dependent variables:   0%|          | 0/4 [00:00<?, ?it/s]"
      ]
     },
     "metadata": {},
     "output_type": "display_data"
    },
    {
     "data": {
      "application/vnd.jupyter.widget-view+json": {
       "model_id": "1fb05ead9f984785be34ab4a5b9355c9",
       "version_major": 2,
       "version_minor": 0
      },
      "text/plain": [
       "running models:   0%|          | 0/50 [00:00<?, ?it/s]"
      ]
     },
     "metadata": {},
     "output_type": "display_data"
    },
    {
     "data": {
      "application/vnd.jupyter.widget-view+json": {
       "model_id": "ca99d0d7a56e40ef8c0ade99d36e1d71",
       "version_major": 2,
       "version_minor": 0
      },
      "text/plain": [
       "running models:   0%|          | 0/50 [00:00<?, ?it/s]"
      ]
     },
     "metadata": {},
     "output_type": "display_data"
    },
    {
     "data": {
      "application/vnd.jupyter.widget-view+json": {
       "model_id": "39cde65042004d4fa7dd1cf49501cc49",
       "version_major": 2,
       "version_minor": 0
      },
      "text/plain": [
       "running models:   0%|          | 0/50 [00:00<?, ?it/s]"
      ]
     },
     "metadata": {},
     "output_type": "display_data"
    },
    {
     "data": {
      "application/vnd.jupyter.widget-view+json": {
       "model_id": "421b73ee70bb4ace8a67cede4533bf3c",
       "version_major": 2,
       "version_minor": 0
      },
      "text/plain": [
       "running models:   0%|          | 0/50 [00:00<?, ?it/s]"
      ]
     },
     "metadata": {},
     "output_type": "display_data"
    }
   ],
   "source": [
    "run_batch_of_models(all_bins=all_bins,\n",
    "                    all_policies=all_policies,\n",
    "                    dep_vars=dep_vars,)"
   ]
  },
  {
   "cell_type": "code",
   "execution_count": null,
   "id": "6baab01c",
   "metadata": {},
   "outputs": [],
   "source": []
  }
 ],
 "metadata": {
  "kernelspec": {
   "display_name": "Python 3 (ipykernel)",
   "language": "python",
   "name": "python3"
  },
  "language_info": {
   "codemirror_mode": {
    "name": "ipython",
    "version": 3
   },
   "file_extension": ".py",
   "mimetype": "text/x-python",
   "name": "python",
   "nbconvert_exporter": "python",
   "pygments_lexer": "ipython3",
   "version": "3.9.0"
  }
 },
 "nbformat": 4,
 "nbformat_minor": 5
}
